{
 "cells": [
  {
   "cell_type": "code",
   "execution_count": 1,
   "id": "94519ff8",
   "metadata": {},
   "outputs": [],
   "source": [
    "import numpy as np"
   ]
  },
  {
   "cell_type": "markdown",
   "id": "3a35eafe",
   "metadata": {},
   "source": [
    "### `Q-1` Create a null vector of size 10 but the fifth value which is 1."
   ]
  },
  {
   "cell_type": "code",
   "execution_count": 8,
   "id": "46339f3e",
   "metadata": {},
   "outputs": [
    {
     "data": {
      "text/plain": [
       "array([nan, nan, nan, nan,  1., nan, nan, nan, nan, nan])"
      ]
     },
     "execution_count": 8,
     "metadata": {},
     "output_type": "execute_result"
    }
   ],
   "source": [
    "# Filling the numpy array with NaN values\n",
    "a=np.nan*np.empty(10)\n",
    "a[4]=1\n",
    "a"
   ]
  },
  {
   "cell_type": "markdown",
   "id": "73df7c83",
   "metadata": {},
   "source": [
    "### `Q-2` Ask user to input two numbers a, b. Write a program to generate a random array of shape (a, b) and print the array and avg of the array."
   ]
  },
  {
   "cell_type": "code",
   "execution_count": 16,
   "id": "82e94539",
   "metadata": {},
   "outputs": [
    {
     "name": "stdout",
     "output_type": "stream",
     "text": [
      "Enter the a,b values :2 5\n",
      "[[0.16030705 0.10067165 0.97971424 0.40826517 0.77226038]\n",
      " [0.6786588  0.44959758 0.41595144 0.13595643 0.15658644]]\n"
     ]
    },
    {
     "data": {
      "text/plain": [
       "0.4257969189593188"
      ]
     },
     "execution_count": 16,
     "metadata": {},
     "output_type": "execute_result"
    }
   ],
   "source": [
    "a,b=map(int,input(\"Enter the a,b values :\").split())\n",
    "#print(a,b)\n",
    "x=np.random.random((a,b))\n",
    "print(x)\n",
    "np.mean(x)"
   ]
  },
  {
   "cell_type": "markdown",
   "id": "6cefeb00",
   "metadata": {},
   "source": [
    "### `Q-3`Write a function to create a 2d array with 1 on the border and 0 inside. Take 2-D array shape as (a,b) as parameter to function.\n",
    "\n",
    "Eg.-\n",
    "```\n",
    "[[1,1,1,1],\n",
    "[1,0,0,1],\n",
    "[1,0,0,1],\n",
    "[1,1,1,1]]\n",
    "```"
   ]
  },
  {
   "cell_type": "code",
   "execution_count": 25,
   "id": "c5f6bb1d",
   "metadata": {},
   "outputs": [
    {
     "data": {
      "text/plain": [
       "array([[1., 1., 1., 1., 1.],\n",
       "       [1., 0., 0., 0., 1.],\n",
       "       [1., 0., 0., 0., 1.],\n",
       "       [1., 1., 1., 1., 1.]])"
      ]
     },
     "execution_count": 25,
     "metadata": {},
     "output_type": "execute_result"
    }
   ],
   "source": [
    "# a=np.ones((4,5))\n",
    "# a[1:-1,1:-1]=0\n",
    "# a\n",
    "\n",
    "def borderArray(a,b):\n",
    "    a=np.ones((a,b))\n",
    "    a[1:-1,1:-1]=0\n",
    "    return a\n",
    "\n",
    "borderArray(4,5)"
   ]
  },
  {
   "cell_type": "markdown",
   "id": "5753d9ee",
   "metadata": {},
   "source": [
    "### `Q-4` Create a vector of size 10 with values ranging from 0 to 1, both excluded.\n"
   ]
  },
  {
   "cell_type": "code",
   "execution_count": 29,
   "id": "a13db31d",
   "metadata": {},
   "outputs": [
    {
     "data": {
      "text/plain": [
       "array([0.09090909, 0.18181818, 0.27272727, 0.36363636, 0.45454545,\n",
       "       0.54545455, 0.63636364, 0.72727273, 0.81818182, 0.90909091])"
      ]
     },
     "execution_count": 29,
     "metadata": {},
     "output_type": "execute_result"
    }
   ],
   "source": [
    "np.linspace(0,1,12)[1:-1]"
   ]
  },
  {
   "cell_type": "markdown",
   "id": "51921a96",
   "metadata": {},
   "source": [
    "### `Q-5` Can you create a identity mattrix of shape (3,4). If yes write code for it."
   ]
  },
  {
   "cell_type": "code",
   "execution_count": 30,
   "id": "799b753b",
   "metadata": {},
   "outputs": [
    {
     "data": {
      "text/plain": [
       "array([[1., 0., 0.],\n",
       "       [0., 1., 0.],\n",
       "       [0., 0., 1.]])"
      ]
     },
     "execution_count": 30,
     "metadata": {},
     "output_type": "execute_result"
    }
   ],
   "source": [
    "np.identity(3)"
   ]
  },
  {
   "cell_type": "code",
   "execution_count": 31,
   "id": "7e82a0dc",
   "metadata": {},
   "outputs": [
    {
     "data": {
      "text/plain": [
       "array([[1., 0., 0., 0.],\n",
       "       [0., 1., 0., 0.],\n",
       "       [0., 0., 1., 0.],\n",
       "       [0., 0., 0., 1.]])"
      ]
     },
     "execution_count": 31,
     "metadata": {},
     "output_type": "execute_result"
    }
   ],
   "source": [
    "np.eye(4)"
   ]
  },
  {
   "cell_type": "markdown",
   "id": "0ad9b651",
   "metadata": {},
   "source": [
    "### `Q-6:` Create a 5x5 matrix with row values ranging from 0 to 4."
   ]
  },
  {
   "cell_type": "code",
   "execution_count": 35,
   "id": "eec598af",
   "metadata": {},
   "outputs": [
    {
     "data": {
      "text/plain": [
       "array([[0., 1., 2., 3., 4.],\n",
       "       [0., 1., 2., 3., 4.],\n",
       "       [0., 1., 2., 3., 4.],\n",
       "       [0., 1., 2., 3., 4.],\n",
       "       [0., 1., 2., 3., 4.]])"
      ]
     },
     "execution_count": 35,
     "metadata": {},
     "output_type": "execute_result"
    }
   ],
   "source": [
    "z=np.zeros((5,5))\n",
    "z\n",
    "z+=np.arange(5)\n",
    "z"
   ]
  },
  {
   "cell_type": "markdown",
   "id": "0c0212b6",
   "metadata": {},
   "source": [
    "### `Q-7:`  Consider a random integer (in range 1 to 100) vector with shape `(10,2)` representing coordinates, and coordinates of a point as array is given. Create an array of distance of each point in the random vectros from the given point. Distance array should be interger type.\n",
    "\n",
    "```\n",
    "point = np.array([2,3]) \n",
    "```\n",
    "\n",
    "<img src=\"https://d138zd1ktt9iqe.cloudfront.net/media/seo_landing_files/formula-of-euclidean-distance-1624039148.png\"/>\n"
   ]
  },
  {
   "cell_type": "code",
   "execution_count": 48,
   "id": "d3e91fe5",
   "metadata": {},
   "outputs": [
    {
     "name": "stdout",
     "output_type": "stream",
     "text": [
      "[[56 99]\n",
      " [97 86]\n",
      " [88 27]\n",
      " [37 12]\n",
      " [53 26]\n",
      " [21 64]\n",
      " [48 18]\n",
      " [46 61]\n",
      " [66 33]\n",
      " [76 97]]\n"
     ]
    },
    {
     "data": {
      "text/plain": [
       "array([110, 126,  89,  36,  55,  63,  48,  72,  70, 119])"
      ]
     },
     "execution_count": 48,
     "metadata": {},
     "output_type": "execute_result"
    }
   ],
   "source": [
    "a=np.random.randint(1,100,(10,2))\n",
    "p=np.array([2,3])\n",
    "print(a)\n",
    "np.sqrt(np.sum((a-p)**2,axis=1)).astype(int)"
   ]
  },
  {
   "cell_type": "markdown",
   "id": "a883adc6",
   "metadata": {},
   "source": [
    "### `Q-8:` Consider a (6,7,8) shape array, what is the index (x,y,z) of the 100th element?"
   ]
  },
  {
   "cell_type": "code",
   "execution_count": 51,
   "id": "c313ba8a",
   "metadata": {},
   "outputs": [
    {
     "data": {
      "text/plain": [
       "(1, 5, 4)"
      ]
     },
     "execution_count": 51,
     "metadata": {},
     "output_type": "execute_result"
    }
   ],
   "source": [
    "# a=np.zeros((6,7,8))\n",
    "# a\n",
    "np.unravel_index(100,(6,7,8))"
   ]
  },
  {
   "cell_type": "markdown",
   "id": "1d2ddf1c",
   "metadata": {},
   "source": [
    "### `Q-9:` Arrays\n",
    "\n",
    "You are given a space separated list of numbers. Your task is to print a reversed NumPy array with the element type float."
   ]
  },
  {
   "cell_type": "markdown",
   "id": "59929485",
   "metadata": {},
   "source": [
    "**Input Format:**\n",
    "\n",
    "A single line of input containing space separated numbers.\n",
    "\n",
    "**Output Format:**\n",
    "\n",
    "Print the reverse NumPy array with type float.\n",
    "\n",
    "**Example 1:**\n",
    "\n",
    "Input:\n",
    "\n",
    "```bash\n",
    "1 2 3 4 -8 -10\n",
    "```\n",
    "\n",
    "Output:\n",
    "\n",
    "```bash\n",
    "[-10.  -8.   4.   3.   2.   1.]\n",
    "```"
   ]
  },
  {
   "cell_type": "code",
   "execution_count": 56,
   "id": "7fa622cc",
   "metadata": {},
   "outputs": [
    {
     "name": "stdout",
     "output_type": "stream",
     "text": [
      "1 2 3 4 -8 -10\n"
     ]
    },
    {
     "data": {
      "text/plain": [
       "array([-10.,  -8.,   4.,   3.,   2.,   1.], dtype=float32)"
      ]
     },
     "execution_count": 56,
     "metadata": {},
     "output_type": "execute_result"
    }
   ],
   "source": [
    "a=input().strip().split()\n",
    "np.array(a[::-1],dtype=np.float32)"
   ]
  },
  {
   "cell_type": "markdown",
   "id": "e1acc3e4",
   "metadata": {},
   "source": [
    "### `Q-10:` Elements count\n",
    "\n",
    "Count the number of elements of a numpy array."
   ]
  },
  {
   "cell_type": "markdown",
   "id": "fb249267",
   "metadata": {},
   "source": [
    "**Example 1:**\n",
    "\n",
    "Input:\n",
    "```bash\n",
    "np.array([])\n",
    "```\n",
    "\n",
    "Output:\n",
    "```bash\n",
    "elements_count :  0\n",
    "```\n",
    "\n",
    "**Example 2:**\n",
    "\n",
    "Input:\n",
    "```bash\n",
    "np.array([1, 2])\n",
    "```\n",
    "\n",
    "Output:\n",
    "```bash\n",
    "elements_count :  2\n",
    "```"
   ]
  },
  {
   "cell_type": "code",
   "execution_count": 59,
   "id": "d805dbd9",
   "metadata": {},
   "outputs": [
    {
     "data": {
      "text/plain": [
       "6"
      ]
     },
     "execution_count": 59,
     "metadata": {},
     "output_type": "execute_result"
    }
   ],
   "source": [
    "a=np.array([])\n",
    "a.size\n",
    "b=np.array([1, 2])\n",
    "b.size\n",
    "a=np.zeros((2,3))\n",
    "a.size"
   ]
  },
  {
   "cell_type": "markdown",
   "id": "a37f93fd",
   "metadata": {},
   "source": [
    "### `Q-11:` Softmax function\n",
    "\n",
    "Create a Python function to calculate the Softmax of the given numpy 1D array. The function only accepts the numpy 1D array, otherwise raise error.\n",
    "\n",
    "$$\\Large \\sigma(\\vec z)_i = \\frac{e^{z_i}}{\\sum_{j=i}^{K}{e^{z_j}}}$$\n",
    "\n",
    "https://en.wikipedia.org/wiki/Softmax_function\n",
    "\n"
   ]
  },
  {
   "cell_type": "markdown",
   "id": "9ab3686c",
   "metadata": {},
   "source": [
    "**Example 1:**\n",
    "\n",
    "Input:\n",
    "```bash\n",
    "[86.03331084 37.7285648  48.64908087 87.16563062 38.40852563 37.20006318]\n",
    "```\n",
    "\n",
    "Output:\n",
    "```bash\n",
    "[2.43733249e-01, 2.56112115e-22, 1.41628284e-17, 7.56266751e-01, \n",
    "       5.05514197e-22, 1.50974911e-22]\n",
    "```\n",
    "\n",
    "**Example 2:**\n",
    "\n",
    "Input:\n",
    "```bash\n",
    "[33.17344305 45.61961654 82.05405781 80.9647098  68.82830233 91.52064278]\n",
    "```\n",
    "\n",
    "Output:\n",
    "```bash\n",
    "[4.57181035e-26, 1.16249923e-20, 7.73872596e-05, 2.60358426e-05,\n",
    "       1.39571531e-10, 9.99896577e-01]\n",
    "```"
   ]
  },
  {
   "cell_type": "code",
   "execution_count": 65,
   "id": "7ccc23d0",
   "metadata": {},
   "outputs": [
    {
     "data": {
      "text/plain": [
       "array([2.43733248e-01, 2.56112114e-22, 1.41628283e-17, 7.56266752e-01,\n",
       "       5.05514197e-22, 1.50974911e-22])"
      ]
     },
     "execution_count": 65,
     "metadata": {},
     "output_type": "execute_result"
    }
   ],
   "source": [
    "def softmax(arr):\n",
    "    s=np.sum(np.exp(arr))\n",
    "    return np.exp(arr)/s\n",
    "\n",
    "#softmax(np.arange(5))\n",
    "softmax(np.array([86.03331084,37.7285648,48.64908087,87.16563062,38.40852563,37.20006318]))"
   ]
  },
  {
   "cell_type": "markdown",
   "id": "c5543c82",
   "metadata": {},
   "source": [
    "### `Q-12:` Vertical stack\n",
    "\n",
    "Write a python function that accepts infinite number of numpy arrays and do the vertical stack to them. Then return that new array as result. The function only accepts the numpy array, otherwise raise error."
   ]
  },
  {
   "cell_type": "markdown",
   "id": "d4147fb7",
   "metadata": {},
   "source": [
    "**Example 1:**\n",
    "\n",
    "Input:\n",
    "```bash\n",
    "a= [[0 1 2 3 4]\n",
    " [5 6 7 8 9]]\n",
    "\n",
    "b= [[1 1 1 1 1]\n",
    " [1 1 1 1 1]]\n",
    "```\n",
    "\n",
    "Output:\n",
    "\n",
    "```bash\n",
    "[[0 1 2 3 4]\n",
    " [5 6 7 8 9]\n",
    " [1 1 1 1 1]\n",
    " [1 1 1 1 1]]\n",
    "```\n",
    "\n",
    "**Example 2:**\n",
    "\n",
    "Input:\n",
    "```bash\n",
    "a= [[0 1 2 3 4]\n",
    " [5 6 7 8 9]]\n",
    "\n",
    "b= [[1 1 1 1 1]\n",
    " [1 1 1 1 1]]\n",
    "\n",
    "c= [[0.10117373 0.1677244  0.73764059 0.83166097 0.48985695]\n",
    " [0.44581567 0.13502419 0.55692335 0.16479622 0.61193593]] \n",
    "```\n",
    "\n",
    "Output:\n",
    "```bash\n",
    "[[0.         1.         2.         3.         4.        ]\n",
    " [5.         6.         7.         8.         9.        ]\n",
    " [1.         1.         1.         1.         1.        ]\n",
    " [1.         1.         1.         1.         1.        ]\n",
    " [0.10117373 0.1677244  0.73764059 0.83166097 0.48985695]\n",
    " [0.44581567 0.13502419 0.55692335 0.16479622 0.61193593]]\n",
    "```"
   ]
  },
  {
   "cell_type": "code",
   "execution_count": 76,
   "id": "418a8b57",
   "metadata": {},
   "outputs": [
    {
     "name": "stdout",
     "output_type": "stream",
     "text": [
      "a= [[0 1 2 3 4]\n",
      " [5 6 7 8 9]]\n",
      "b= [[1 1 1 1 1]\n",
      " [1 1 1 1 1]]\n",
      "[[0 1 2 3 4]\n",
      " [5 6 7 8 9]\n",
      " [1 1 1 1 1]\n",
      " [1 1 1 1 1]]\n",
      "c= [[0.14440048 0.84693059 0.60943259 0.88151254 0.61146827]\n",
      " [0.12818255 0.18672555 0.97784006 0.02897375 0.58056596]]\n",
      "[[0.         1.         2.         3.         4.        ]\n",
      " [5.         6.         7.         8.         9.        ]\n",
      " [1.         1.         1.         1.         1.        ]\n",
      " [1.         1.         1.         1.         1.        ]\n",
      " [0.14440048 0.84693059 0.60943259 0.88151254 0.61146827]\n",
      " [0.12818255 0.18672555 0.97784006 0.02897375 0.58056596]]\n"
     ]
    }
   ],
   "source": [
    "def prepareVstack(*args):\n",
    "    for i in args:\n",
    "        if type(i)!=np.ndarray:\n",
    "            raise TypeError(\"Required Numpy Array\")\n",
    "    return np.vstack(args)\n",
    "\n",
    "\n",
    "a=np.arange(10).reshape(2,-1)\n",
    "print(\"a=\",a)\n",
    "b=np.repeat(1,10).reshape(2,-1)\n",
    "print(\"b=\",b)\n",
    "\n",
    "print(prepareVstack(a,b))\n",
    "\n",
    "c=np.random.random((2,5))\n",
    "print(\"c=\",c)\n",
    "print(prepareVstack(a,b,c))"
   ]
  },
  {
   "cell_type": "markdown",
   "id": "b13459e4",
   "metadata": {},
   "source": [
    "### `Q-13:` Dates\n",
    "\n",
    "Create a python function named **date_array** that accepts two dates as string format and returns a numpy array of dates between those 2 dates. The function only accept 2 strings, otherwise raise error. The date format should be like this only: `2022-12-6`. The end date should be included and for simplicity, choose dates from a same year.\n"
   ]
  },
  {
   "cell_type": "markdown",
   "id": "8bd60709",
   "metadata": {},
   "source": [
    "**Example 1:**\n",
    "\n",
    "Input:\n",
    "```bash\n",
    "date_array(start = '2020-09-15', end = '2020-09-25')\n",
    "```\n",
    "\n",
    "Output:\n",
    "```bash\n",
    "['2020-09-15', '2020-09-16', '2020-09-17', '2020-09-18',\n",
    " '2020-09-19', '2020-09-20', '2020-09-21', '2020-09-22',\n",
    " '2020-09-23', '2020-09-24', '2020-09-25']\n",
    "```\n",
    "\n",
    "**Example 2:**\n",
    "\n",
    "Input:\n",
    "```bash\n",
    "date_array(start = '2022-12-01', end = '2022-12-06')\n",
    "```\n",
    "\n",
    "Output:\n",
    "```bash\n",
    "['2022-12-01', '2022-12-02', '2022-12-03', '2022-12-04', '2022-12-05', '2022-12-06']\n",
    "```\n",
    "\n",
    "**Example 3:**\n",
    "\n",
    "Input:\n",
    "```bash\n",
    "date_array(start = '2020-11-25', end = '2020-11-30')\n",
    "```\n",
    "\n",
    "Output:\n",
    "```bash\n",
    "['2020-11-25', '2020-11-26', '2020-11-27', '2020-11-28',\n",
    " '2020-11-29', '2020-11-30']\n",
    "```"
   ]
  },
  {
   "cell_type": "code",
   "execution_count": 84,
   "id": "de0e3e44",
   "metadata": {},
   "outputs": [
    {
     "data": {
      "text/plain": [
       "array(['2020-11-15', '2020-11-16', '2020-11-17', '2020-11-18',\n",
       "       '2020-11-19', '2020-11-20', '2020-11-21', '2020-11-22',\n",
       "       '2020-11-23', '2020-11-24', '2020-11-25', '2020-11-26',\n",
       "       '2020-11-27', '2020-11-28', '2020-11-29', '2020-11-30'],\n",
       "      dtype='datetime64[D]')"
      ]
     },
     "execution_count": 84,
     "metadata": {},
     "output_type": "execute_result"
    }
   ],
   "source": [
    "def date_array(start,end):\n",
    "    if type(start)!=str or type(end)!=str:\n",
    "        raise TypeError\n",
    "    \n",
    "    total_days_of_month = {\"01\": 31, \"02\": 28, \"03\": 31, \"04\":30, \"05\": 31, \"06\":30, \"07\":31, \"08\":31, \"09\":30, \"10\": 31, \"11\":30, \"12\":31}\n",
    "    end=end.split('-')\n",
    "    end_last=int(end[-1])+1\n",
    "    \n",
    "    if total_days_of_month[end[-2]] < end_last:\n",
    "        days_diff=end_last-total_days_of_month[end[-2]]\n",
    "        end[-1]=f'0{days_diff}' if days_diff<10 else f'{days_diff}'\n",
    "        next_month=int(end[-2])+1\n",
    "        end[-2]=f'0{next_month}' if next_month<10 else f'{next_month}'\n",
    "    else:\n",
    "        end[-1]=f'0{end_last}' if end_last<10 else f'{end_last}'\n",
    "        \n",
    "    #print(end[-2])\n",
    "    end='-'.join(end)\n",
    "     \n",
    "    return np.arange(start,end,dtype='datetime64[D]')\n",
    "\n",
    "date_array(start = '2020-11-15', end = '2020-11-30')"
   ]
  },
  {
   "cell_type": "markdown",
   "id": "b85bd3a1",
   "metadata": {},
   "source": [
    "### `Q-14:` Subtract the mean of each row from a matrix."
   ]
  },
  {
   "cell_type": "code",
   "execution_count": 85,
   "id": "f691ee4e",
   "metadata": {},
   "outputs": [
    {
     "name": "stdout",
     "output_type": "stream",
     "text": [
      "[[0.18359477 0.65014327 0.1301019  0.26432095]\n",
      " [0.28086687 0.69845923 0.50659197 0.97928311]\n",
      " [0.13983358 0.24801579 0.07599787 0.82873946]\n",
      " [0.57318551 0.51896569 0.50583822 0.85016904]\n",
      " [0.70925749 0.37352039 0.48918814 0.60301747]]\n"
     ]
    }
   ],
   "source": [
    "x=np.random.random((5,4))\n",
    "print(x)"
   ]
  },
  {
   "cell_type": "code",
   "execution_count": 90,
   "id": "68de42ed",
   "metadata": {},
   "outputs": [
    {
     "name": "stdout",
     "output_type": "stream",
     "text": [
      "[[0.30704022]\n",
      " [0.61630029]\n",
      " [0.32314667]\n",
      " [0.61203962]\n",
      " [0.54374587]]\n"
     ]
    },
    {
     "data": {
      "text/plain": [
       "array([[-0.12344546,  0.34310305, -0.17693832, -0.04271927],\n",
       "       [-0.33543342,  0.08215893, -0.10970832,  0.36298281],\n",
       "       [-0.1833131 , -0.07513089, -0.2471488 ,  0.50559279],\n",
       "       [-0.03885411, -0.09307392, -0.10620139,  0.23812942],\n",
       "       [ 0.16551162, -0.17022548, -0.05455773,  0.0592716 ]])"
      ]
     },
     "execution_count": 90,
     "metadata": {},
     "output_type": "execute_result"
    }
   ],
   "source": [
    "print(x.mean(axis=1,keepdims=True))\n",
    "x-x.mean(axis=1,keepdims=True)"
   ]
  },
  {
   "cell_type": "markdown",
   "id": "ecab7434",
   "metadata": {},
   "source": [
    "### `Q-15:` Swap column-1 of array with column-2 in the array."
   ]
  },
  {
   "cell_type": "code",
   "execution_count": 97,
   "id": "53c53626",
   "metadata": {},
   "outputs": [
    {
     "name": "stdout",
     "output_type": "stream",
     "text": [
      "[[0 1 2]\n",
      " [3 4 5]\n",
      " [6 7 8]]\n"
     ]
    },
    {
     "data": {
      "text/plain": [
       "array([[0, 2, 1],\n",
       "       [3, 5, 4],\n",
       "       [6, 8, 7]])"
      ]
     },
     "execution_count": 97,
     "metadata": {},
     "output_type": "execute_result"
    }
   ],
   "source": [
    "a=np.arange(9).reshape(3,3)\n",
    "print(a)\n",
    "a[:,[0,2,1]]"
   ]
  },
  {
   "cell_type": "markdown",
   "id": "2e9dacce",
   "metadata": {},
   "source": [
    "### `Q-16:` Replace odd elements in arrays with -1."
   ]
  },
  {
   "cell_type": "code",
   "execution_count": 101,
   "id": "099fa782",
   "metadata": {},
   "outputs": [
    {
     "data": {
      "text/plain": [
       "array([ 0, -1,  2, -1,  4, -1,  6, -1,  8, -1])"
      ]
     },
     "execution_count": 101,
     "metadata": {},
     "output_type": "execute_result"
    }
   ],
   "source": [
    "a=np.arange(10)\n",
    "a[a%2==1]=-1\n",
    "a"
   ]
  },
  {
   "cell_type": "markdown",
   "id": "3379ac0c",
   "metadata": {},
   "source": [
    "### `Q-17:` Given two arrays of same shape make an array of max out of two arrays. (Numpy way)\n",
    "```\n",
    "a=np.array([6,3,1,5,8])\n",
    "b=np.array([3,2,1,7,2])\n",
    "\n",
    "Result-> [6 3 1 7 8]\n",
    "``` "
   ]
  },
  {
   "cell_type": "code",
   "execution_count": 105,
   "id": "063eb87e",
   "metadata": {},
   "outputs": [
    {
     "data": {
      "text/plain": [
       "array([6, 3, 1, 7, 8])"
      ]
     },
     "execution_count": 105,
     "metadata": {},
     "output_type": "execute_result"
    }
   ],
   "source": [
    "a=np.array([6,3,1,5,8])\n",
    "b=np.array([3,2,1,7,2])\n",
    "\n",
    "a[b>a]=b[a<b]\n",
    "a"
   ]
  },
  {
   "cell_type": "markdown",
   "id": "d7f96bd2",
   "metadata": {},
   "source": [
    "### `Q-18` Answer below asked questions on given array:\n",
    "1. Fetch Every alternate column of the array\n",
    "2. Normalise the given array\n",
    "\n",
    "https://en.wikipedia.org/wiki/Normalization_(statistics)\n",
    "\n",
    "There are different form of normalisation for this question use below formula.\n",
    "\n",
    "$$\\large X_{normalized} = \\frac{X - X_{min}}{X_{max} - X_{min}}$$\n",
    "\n",
    "```python\n",
    "arr1=np.random.randint(low=1, high=10000, size=40).reshape(8,5)"
   ]
  },
  {
   "cell_type": "code",
   "execution_count": 106,
   "id": "87451ff1",
   "metadata": {},
   "outputs": [
    {
     "name": "stdout",
     "output_type": "stream",
     "text": [
      "[[1930 8771  858 8591 6681]\n",
      " [5011 4394  919 3521 5737]\n",
      " [9059 8692  611 8747  536]\n",
      " [7090 3950 7749  776  714]\n",
      " [9099 7344 2639 6817 6838]\n",
      " [   9 9151 7907 2435 2507]\n",
      " [6525 1977 8456 6528 7898]\n",
      " [ 891 8168 9911 5680 7906]]\n"
     ]
    }
   ],
   "source": [
    "arr1=np.random.randint(low=1, high=10000, size=40).reshape(8,5)\n",
    "print(arr1)"
   ]
  },
  {
   "cell_type": "code",
   "execution_count": 109,
   "id": "174d1f98",
   "metadata": {},
   "outputs": [
    {
     "data": {
      "text/plain": [
       "array([[1930,  858, 6681],\n",
       "       [5011,  919, 5737],\n",
       "       [9059,  611,  536],\n",
       "       [7090, 7749,  714],\n",
       "       [9099, 2639, 6838],\n",
       "       [   9, 7907, 2507],\n",
       "       [6525, 8456, 7898],\n",
       "       [ 891, 9911, 7906]])"
      ]
     },
     "execution_count": 109,
     "metadata": {},
     "output_type": "execute_result"
    }
   ],
   "source": [
    "arr1[:,::2]"
   ]
  },
  {
   "cell_type": "code",
   "execution_count": 113,
   "id": "b4011309",
   "metadata": {},
   "outputs": [
    {
     "data": {
      "text/plain": [
       "array([[0.19400121, 0.88487174, 0.08574025, 0.8666936 , 0.67380327],\n",
       "       [0.50515047, 0.44283983, 0.09190063, 0.35467582, 0.578469  ],\n",
       "       [0.91395678, 0.87689356, 0.0607958 , 0.88244799, 0.05322157],\n",
       "       [0.71510806, 0.3980004 , 0.78166027, 0.0774591 , 0.07119774],\n",
       "       [0.91799636, 0.74075944, 0.26560291, 0.68753787, 0.68965865],\n",
       "       [0.        , 0.92324783, 0.79761664, 0.24500101, 0.25227227],\n",
       "       [0.65804888, 0.19874773, 0.85305999, 0.65835185, 0.79670774],\n",
       "       [0.08907291, 0.82397495, 1.        , 0.57271258, 0.79751565]])"
      ]
     },
     "execution_count": 113,
     "metadata": {},
     "output_type": "execute_result"
    }
   ],
   "source": [
    "(arr1-arr1.min())/(arr1.max()-arr1.min())"
   ]
  },
  {
   "cell_type": "code",
   "execution_count": null,
   "id": "2fce843f",
   "metadata": {},
   "outputs": [],
   "source": []
  },
  {
   "cell_type": "markdown",
   "id": "c42591b2",
   "metadata": {},
   "source": [
    "### `Q-19:` Write a function which will accept 2 arguments.\n",
    "First: A 1D numpy array arr\n",
    "\n",
    "Second: An integer n {Please make sure n<=len(arr)}\n",
    "\n",
    "Output: The output should be the nth largest item out of the array\n",
    "```\n",
    "# Example1 : arr=(12,34,40,7,1,0) and n=3, the output should be 12\n",
    "# Example2 : arr=(12,34,40,7,1,0) and n=1, the output should be 40\n",
    "```"
   ]
  },
  {
   "cell_type": "code",
   "execution_count": 114,
   "id": "045b4dd5",
   "metadata": {},
   "outputs": [
    {
     "data": {
      "text/plain": [
       "34"
      ]
     },
     "execution_count": 114,
     "metadata": {},
     "output_type": "execute_result"
    }
   ],
   "source": [
    "def nthmax(arr,n):\n",
    "    if n>len(arr):\n",
    "        raise IndexError(\"n is way out of limit\")\n",
    "    arr.sort()\n",
    "    return arr[-n]\n",
    "\n",
    "\n",
    "nthmax(np.array([12,34,40,7,1,0]),2)"
   ]
  },
  {
   "cell_type": "code",
   "execution_count": null,
   "id": "dc6ea966",
   "metadata": {},
   "outputs": [],
   "source": []
  },
  {
   "cell_type": "markdown",
   "id": "1814c48e",
   "metadata": {},
   "source": [
    "### `Q-20:` Create the following pattern without hardcoding. Use only numpy functions and the below input array a.\n",
    "```\n",
    "# Input: a = np.array([1,2,3])\n",
    "# Output: array([1, 1, 1, 2, 2, 2, 3, 3, 3, 1, 2, 3, 1, 2, 3, 1, 2, 3])\n",
    "```"
   ]
  },
  {
   "cell_type": "code",
   "execution_count": 116,
   "id": "30a44dad",
   "metadata": {},
   "outputs": [
    {
     "data": {
      "text/plain": [
       "array([1, 2, 3])"
      ]
     },
     "execution_count": 116,
     "metadata": {},
     "output_type": "execute_result"
    }
   ],
   "source": [
    "a = np.array([1,2,3])\n",
    "a"
   ]
  },
  {
   "cell_type": "code",
   "execution_count": 117,
   "id": "8e7f6333",
   "metadata": {},
   "outputs": [
    {
     "data": {
      "text/plain": [
       "array([1, 1, 1, 2, 2, 2, 3, 3, 3])"
      ]
     },
     "execution_count": 117,
     "metadata": {},
     "output_type": "execute_result"
    }
   ],
   "source": [
    "np.repeat(a,3)"
   ]
  },
  {
   "cell_type": "code",
   "execution_count": 118,
   "id": "41132e4b",
   "metadata": {},
   "outputs": [
    {
     "data": {
      "text/plain": [
       "array([1, 2, 3, 1, 2, 3, 1, 2, 3])"
      ]
     },
     "execution_count": 118,
     "metadata": {},
     "output_type": "execute_result"
    }
   ],
   "source": [
    "np.tile(a,3)"
   ]
  },
  {
   "cell_type": "code",
   "execution_count": 120,
   "id": "a72b89dc",
   "metadata": {},
   "outputs": [
    {
     "data": {
      "text/plain": [
       "array([1, 1, 1, 2, 2, 2, 3, 3, 3, 1, 2, 3, 1, 2, 3, 1, 2, 3])"
      ]
     },
     "execution_count": 120,
     "metadata": {},
     "output_type": "execute_result"
    }
   ],
   "source": [
    "np.hstack([np.repeat(a,3),np.tile(a,3)])"
   ]
  },
  {
   "cell_type": "code",
   "execution_count": null,
   "id": "9b7bc224",
   "metadata": {},
   "outputs": [],
   "source": []
  }
 ],
 "metadata": {
  "kernelspec": {
   "display_name": "Python 3 (ipykernel)",
   "language": "python",
   "name": "python3"
  },
  "language_info": {
   "codemirror_mode": {
    "name": "ipython",
    "version": 3
   },
   "file_extension": ".py",
   "mimetype": "text/x-python",
   "name": "python",
   "nbconvert_exporter": "python",
   "pygments_lexer": "ipython3",
   "version": "3.9.13"
  }
 },
 "nbformat": 4,
 "nbformat_minor": 5
}
