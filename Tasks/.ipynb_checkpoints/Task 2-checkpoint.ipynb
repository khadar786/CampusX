{
 "cells": [
  {
   "cell_type": "markdown",
   "id": "6fe101ad",
   "metadata": {},
   "source": [
    "### `Problem 1`: Write a program that will give you in hand monthly salary after deduction on CTC - HRA(10%), DA(5%), PF(3%) and taxes deduction as below:\n",
    "\n",
    "> Salary(Lakhs) : Tax(%)\n",
    "\n",
    "*   Below 5 : 0%\n",
    "*   5-10 : 10%\n",
    "*   10-20 : 20%\n",
    "*   aboove 20 : 30%"
   ]
  },
  {
   "cell_type": "code",
   "execution_count": 6,
   "id": "794f1c52",
   "metadata": {},
   "outputs": [
    {
     "name": "stdout",
     "output_type": "stream",
     "text": [
      "Enter your ctc in lakhs :12\n",
      "ctc : 1200000.0\n",
      "hra : 120000.0\n",
      "da : 60000.0\n",
      "pf : 36000.0\n",
      "taxable_income : 984000.0\n",
      "Your in-hand monthly salary is :₹ 65600.00\n"
     ]
    }
   ],
   "source": [
    "ctc_in_lakhs=float(input('Enter your ctc in lakhs :'))\n",
    "ctc=ctc_in_lakhs*100000\n",
    "\n",
    "hra=0.1*ctc\n",
    "da=0.05*ctc\n",
    "pf=0.03*ctc\n",
    "\n",
    "print('ctc :',ctc)\n",
    "print('hra :',hra)\n",
    "print('da :',da)\n",
    "print('pf :',pf)\n",
    "\n",
    "# Calculate taxable income after deductions\n",
    "taxable_income=ctc-(hra+da+pf)\n",
    "print('taxable_income :',taxable_income)\n",
    "\n",
    "if ctc_in_lakhs<5:\n",
    "    tax=0\n",
    "elif ctc_in_lakhs>=5 and ctc_in_lakhs<10:\n",
    "    tax=0.1\n",
    "elif ctc_in_lakhs>=10 and ctc_in_lakhs<20:\n",
    "    tax=0.2\n",
    "else:\n",
    "    tax=0.3\n",
    "\n",
    "# Calculate tax amount\n",
    "tax_amount=tax*taxable_income\n",
    "\n",
    "\n",
    "# Calculate in-hand annual salary after all deductions\n",
    "in_hand_annual_salary=taxable_income-tax_amount\n",
    "\n",
    "# Calculate in-hand monthly salary\n",
    "in_hand_monthly_salary=in_hand_annual_salary/12\n",
    "\n",
    "print(f\"Your in-hand monthly salary is :₹ {in_hand_monthly_salary:.2f}\")\n"
   ]
  },
  {
   "cell_type": "markdown",
   "id": "18f0a7aa",
   "metadata": {},
   "source": [
    "Problem 2: Write a program that take a user input of three angles and will find out whether it can form a triangle or not."
   ]
  },
  {
   "cell_type": "code",
   "execution_count": 8,
   "id": "2b73727f",
   "metadata": {},
   "outputs": [
    {
     "name": "stdout",
     "output_type": "stream",
     "text": [
      "Enter the A value is :40\n",
      "Enter the B value is :1\n",
      "Enter the C value is :0\n",
      "It's not a triangle\n"
     ]
    }
   ],
   "source": [
    "A=int(input('Enter the A value is :'))\n",
    "B=int(input('Enter the B value is :'))\n",
    "C=int(input('Enter the C value is :'))\n",
    "\n",
    "if A!=0 and B!=0 and C!=0 and (A+B+C)==180:\n",
    "    print(\"It's a triangle\")\n",
    "else:\n",
    "    print(\"It's not a triangle\")"
   ]
  },
  {
   "cell_type": "markdown",
   "id": "730e0c23",
   "metadata": {},
   "source": [
    "### `Problem 3`: Write a program that will take user input of cost price and selling price and determines whether its a loss or a profit."
   ]
  },
  {
   "cell_type": "code",
   "execution_count": 12,
   "id": "7d2fcb53",
   "metadata": {},
   "outputs": [
    {
     "name": "stdout",
     "output_type": "stream",
     "text": [
      "Enter the cost price :100\n",
      "Enter the selling price :15\n",
      "loss : 85.0\n"
     ]
    }
   ],
   "source": [
    "cost_price=float(input(\"Enter the cost price :\"))\n",
    "selling_price=float(input(\"Enter the selling price :\"))\n",
    "\n",
    "if selling_price==cost_price:\n",
    "    print(\"No profil or loss\")\n",
    "elif selling_price>cost_price:\n",
    "    profit=selling_price-cost_price\n",
    "    print('profit :',profit)\n",
    "else:\n",
    "    loss=cost_price-selling_price\n",
    "    print('loss :',loss)\n"
   ]
  },
  {
   "cell_type": "markdown",
   "id": "f6cccf83",
   "metadata": {},
   "source": [
    "### `Problem 4`: Write a menu-driven program - \n",
    "1. cm to ft \n",
    "2. km to miles \n",
    "3. USD to INR \n",
    "4. exit"
   ]
  },
  {
   "cell_type": "code",
   "execution_count": 15,
   "id": "651a1f6c",
   "metadata": {},
   "outputs": [
    {
     "name": "stdout",
     "output_type": "stream",
     "text": [
      "Enter the option :33\n",
      "exit\n"
     ]
    }
   ],
   "source": [
    "op=input(\"Enter the option :\")\n",
    "\n",
    "if op=='1':\n",
    "    print(\"1. cm to ft\")\n",
    "elif op=='2':\n",
    "    print('2. km to miles')\n",
    "elif op=='3':\n",
    "    print('3. USD to INR')\n",
    "else:\n",
    "    print('exit')"
   ]
  },
  {
   "cell_type": "markdown",
   "id": "50bf42a3",
   "metadata": {},
   "source": [
    "### `Problem 5` - Exercise 12: Display Fibonacci series up to 10 terms.\n",
    "\n",
    "*Note: The Fibonacci Sequence is a series of numbers. The next number is found by adding up the two numbers before it. The first two numbers are 0 and 1. For example, 0, 1, 1, 2, 3, 5, 8, 13, 21. The next number in this series above is 13+21 = 34*\n",
    "\n",
    "<img src=\"https://www.mygreatlearning.com/blog/wp-content/uploads/2021/03/ezgif.com-gif-maker.gif\"/>"
   ]
  },
  {
   "cell_type": "code",
   "execution_count": 16,
   "id": "3a0ef72b",
   "metadata": {},
   "outputs": [
    {
     "name": "stdout",
     "output_type": "stream",
     "text": [
      "Enter the no of terms10\n",
      "Fibonacci sequence:\n",
      "0\n",
      "1\n",
      "1\n",
      "2\n",
      "3\n",
      "5\n",
      "8\n",
      "13\n",
      "21\n",
      "34\n"
     ]
    }
   ],
   "source": [
    "n_terms=int(input(\"Enter the no of terms\"))\n",
    "n1,n2=0,1\n",
    "count=0\n",
    "\n",
    "if n_terms<0:\n",
    "    print('Please enter the positive value')\n",
    "elif n_terms==1:\n",
    "    print(\"Fibonacci series upto\",n_terms,\":\")\n",
    "    print(n1)\n",
    "else:\n",
    "    print(\"Fibonacci sequence:\")\n",
    "    while count<n_terms:\n",
    "        print(n1)\n",
    "        nth=n1+n2\n",
    "        # update values\n",
    "        n1=n2\n",
    "        n2=nth\n",
    "        count+=1"
   ]
  },
  {
   "cell_type": "markdown",
   "id": "cd68d270",
   "metadata": {},
   "source": [
    "### `Problem 6` - Find the factorial of a given number.\n",
    "\n",
    "Write a program to use the loop to find the factorial of a given number.\n",
    "\n",
    "The factorial (symbol: `!`) means to multiply all whole numbers from the chosen number down to 1.\n",
    "\n",
    "For example: calculate the factorial of 5\n",
    "\n",
    "```bash\n",
    "5! = 5 × 4 × 3 × 2 × 1 = 120\n",
    "```\n",
    "\n",
    "Output: \n",
    "\n",
    "```bash\n",
    "120\n",
    "```"
   ]
  },
  {
   "cell_type": "code",
   "execution_count": 21,
   "id": "02d0b686",
   "metadata": {},
   "outputs": [
    {
     "name": "stdout",
     "output_type": "stream",
     "text": [
      "Enter the number :5\n",
      "factorial of a given number 5 : 120\n"
     ]
    }
   ],
   "source": [
    "fact_num=int(input(\"Enter the number :\"))\n",
    "\n",
    "result=1\n",
    "\n",
    "if fact_num<0:\n",
    "    print(\"Pls enter the positive number \")\n",
    "else:\n",
    "    for i in range(1,fact_num+1):\n",
    "        result=result*i\n",
    "    print(f\"factorial of a given number {fact_num} : {result}\")"
   ]
  },
  {
   "cell_type": "markdown",
   "id": "2a781fb6",
   "metadata": {},
   "source": [
    "### `Problem 7` - Reverse a given integer number.\n",
    "\n",
    "Example:\n",
    "\n",
    "`Input:`\n",
    "\n",
    "```bash\n",
    "76542\n",
    "```\n",
    "\n",
    "`Output:`\n",
    "\n",
    "```bash\n",
    "24567\n",
    "```"
   ]
  },
  {
   "cell_type": "code",
   "execution_count": 28,
   "id": "9907af10",
   "metadata": {},
   "outputs": [
    {
     "name": "stdout",
     "output_type": "stream",
     "text": [
      "Enter the number :1\n",
      "Reverse of given number is : 1\n"
     ]
    }
   ],
   "source": [
    "num=int(input(\"Enter the number :\"))\n",
    "\n",
    "reversed_num=0\n",
    "while num!=0:\n",
    "    digit =num%10\n",
    "    reversed_num=reversed_num*10+digit\n",
    "    num//=10\n",
    "else:\n",
    "    print('Reverse of given number is :',reversed_num)"
   ]
  },
  {
   "cell_type": "markdown",
   "id": "8a67260b",
   "metadata": {},
   "source": [
    "### `Problem 8`: Take a user input as integer N. Find out the sum from 1 to N. If any number if divisible by 5, then skip that number. And if the sum is greater than 300, don't need to calculate the sum further more. Print the final result. And don't use for loop to solve this problem.\n",
    "\n",
    "**Example 1:**\n",
    "\n",
    "`Input:`\n",
    "\n",
    "```bash\n",
    "30\n",
    "```\n",
    "\n",
    "`Output:`\n",
    "\n",
    "```bash\n",
    "276\n",
    "```"
   ]
  },
  {
   "cell_type": "markdown",
   "id": "c5dcebe3",
   "metadata": {},
   "source": [
    "### `Problem 8`: Take a user input as integer N. Find out the sum from 1 to N. If any number if divisible by 5, then skip that number. And if the sum is greater than 300, don't need to calculate the sum further more. Print the final result. And don't use for loop to solve this problem.\n",
    "\n",
    "**Example 1:**\n",
    "\n",
    "`Input:`\n",
    "\n",
    "```bash\n",
    "30\n",
    "```\n",
    "\n",
    "`Output:`\n",
    "\n",
    "```bash\n",
    "276\n",
    "```"
   ]
  },
  {
   "cell_type": "code",
   "execution_count": 7,
   "id": "6356a355",
   "metadata": {},
   "outputs": [
    {
     "name": "stdout",
     "output_type": "stream",
     "text": [
      "Enter the number :30\n",
      "Sum of given 30 is : 276\n"
     ]
    }
   ],
   "source": [
    "num=int(input(\"Enter the number :\"))\n",
    "\n",
    "sum_of_n=0\n",
    "for i in range(1,num+1):\n",
    "    if i%5==0:\n",
    "        continue\n",
    "    else:\n",
    "        if((sum_of_n+i)>300):\n",
    "            break\n",
    "        else:\n",
    "            sum_of_n+=i\n",
    "\n",
    "print(f\"Sum of given {num} is : {sum_of_n}\")"
   ]
  },
  {
   "cell_type": "markdown",
   "id": "70f83043",
   "metadata": {},
   "source": [
    "### `Problem 9`: Write a program that keeps on accepting a number from the user until the user enters Zero. Display the sum and average of all the numbers."
   ]
  },
  {
   "cell_type": "code",
   "execution_count": 11,
   "id": "8be23416",
   "metadata": {},
   "outputs": [
    {
     "ename": "IndentationError",
     "evalue": "expected an indented block after 'if' statement on line 11 (2933911249.py, line 12)",
     "output_type": "error",
     "traceback": [
      "\u001b[1;36m  Cell \u001b[1;32mIn[11], line 12\u001b[1;36m\u001b[0m\n\u001b[1;33m    break\u001b[0m\n\u001b[1;37m    ^\u001b[0m\n\u001b[1;31mIndentationError\u001b[0m\u001b[1;31m:\u001b[0m expected an indented block after 'if' statement on line 11\n"
     ]
    }
   ],
   "source": [
    "num=int(input(\"Enter the number is :\"))\n",
    "\n",
    "if num==0:\n",
    "    break\n",
    "else:\n",
    "    sum_of_num=0\n",
    "    sum_of_num+=num\n",
    "    counter=1\n",
    "    while num!=0:\n",
    "        num=int(input(\"Enter the number is :\"))\n",
    "        if num==0:\n",
    "            print(\"ff\")\n",
    "            break\n",
    "        else:\n",
    "            sum_of_num+=num\n",
    "        counter+=1\n",
    "    else:\n",
    "        print(\"sum of given numbers is :\",sum_of_num)"
   ]
  },
  {
   "cell_type": "code",
   "execution_count": null,
   "id": "9476a2ec",
   "metadata": {},
   "outputs": [],
   "source": []
  }
 ],
 "metadata": {
  "kernelspec": {
   "display_name": "Python 3 (ipykernel)",
   "language": "python",
   "name": "python3"
  },
  "language_info": {
   "codemirror_mode": {
    "name": "ipython",
    "version": 3
   },
   "file_extension": ".py",
   "mimetype": "text/x-python",
   "name": "python",
   "nbconvert_exporter": "python",
   "pygments_lexer": "ipython3",
   "version": "3.11.4"
  }
 },
 "nbformat": 4,
 "nbformat_minor": 5
}
