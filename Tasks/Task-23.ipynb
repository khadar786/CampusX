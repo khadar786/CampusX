{
 "cells": [
  {
   "cell_type": "code",
   "execution_count": 1,
   "id": "eee35b94",
   "metadata": {},
   "outputs": [],
   "source": [
    "import numpy as np\n",
    "import pandas as pd\n",
    "import matplotlib.pyplot as plt\n",
    "\n",
    "plt.style.use('default')"
   ]
  },
  {
   "cell_type": "markdown",
   "id": "a1d7f102",
   "metadata": {},
   "source": [
    "## `Problem 1 to 5`:\n",
    "\n",
    "Dataset link: https://tinyurl.com/2fe6vz4u\n",
    "\n",
    "**Add a label to every axis and add a proper title for the charts. Also add proper labels if there are multiple representations.** Then, you can customize it as your wish.\n",
    "\n",
    "### **`Problem-1:`** Draw a line plot of which, the x-axis is the \"Year\" and the y-axis is sum of \"PM2.5\" of two countries Iran and China. "
   ]
  },
  {
   "cell_type": "code",
   "execution_count": 3,
   "id": "7fdf2a51",
   "metadata": {},
   "outputs": [
    {
     "data": {
      "text/html": [
       "<div>\n",
       "<style scoped>\n",
       "    .dataframe tbody tr th:only-of-type {\n",
       "        vertical-align: middle;\n",
       "    }\n",
       "\n",
       "    .dataframe tbody tr th {\n",
       "        vertical-align: top;\n",
       "    }\n",
       "\n",
       "    .dataframe thead th {\n",
       "        text-align: right;\n",
       "    }\n",
       "</style>\n",
       "<table border=\"1\" class=\"dataframe\">\n",
       "  <thead>\n",
       "    <tr style=\"text-align: right;\">\n",
       "      <th></th>\n",
       "      <th>Unnamed: 0</th>\n",
       "      <th>Position</th>\n",
       "      <th>Country</th>\n",
       "      <th>City/Town</th>\n",
       "      <th>Year</th>\n",
       "      <th>PM2.5</th>\n",
       "      <th>Temporal coverage</th>\n",
       "      <th>PM10</th>\n",
       "      <th>Temporal coverage.1</th>\n",
       "      <th>Database version (year)</th>\n",
       "    </tr>\n",
       "  </thead>\n",
       "  <tbody>\n",
       "    <tr>\n",
       "      <th>0</th>\n",
       "      <td>0</td>\n",
       "      <td>1</td>\n",
       "      <td>India</td>\n",
       "      <td>Kanpur</td>\n",
       "      <td>2016</td>\n",
       "      <td>173</td>\n",
       "      <td>&gt;75%</td>\n",
       "      <td>319</td>\n",
       "      <td>NaN</td>\n",
       "      <td>2018</td>\n",
       "    </tr>\n",
       "    <tr>\n",
       "      <th>1</th>\n",
       "      <td>1</td>\n",
       "      <td>2</td>\n",
       "      <td>India</td>\n",
       "      <td>Faridabad</td>\n",
       "      <td>2016</td>\n",
       "      <td>172</td>\n",
       "      <td>&gt;75%</td>\n",
       "      <td>316</td>\n",
       "      <td>NaN</td>\n",
       "      <td>2018</td>\n",
       "    </tr>\n",
       "    <tr>\n",
       "      <th>2</th>\n",
       "      <td>2</td>\n",
       "      <td>3</td>\n",
       "      <td>India</td>\n",
       "      <td>Gaya</td>\n",
       "      <td>2016</td>\n",
       "      <td>149</td>\n",
       "      <td>50% -&lt; 75%</td>\n",
       "      <td>275</td>\n",
       "      <td>NaN</td>\n",
       "      <td>2018</td>\n",
       "    </tr>\n",
       "    <tr>\n",
       "      <th>3</th>\n",
       "      <td>3</td>\n",
       "      <td>4</td>\n",
       "      <td>India</td>\n",
       "      <td>Varanasi</td>\n",
       "      <td>2016</td>\n",
       "      <td>146</td>\n",
       "      <td>&gt;75%</td>\n",
       "      <td>260</td>\n",
       "      <td>NaN</td>\n",
       "      <td>2018</td>\n",
       "    </tr>\n",
       "    <tr>\n",
       "      <th>4</th>\n",
       "      <td>4</td>\n",
       "      <td>5</td>\n",
       "      <td>India</td>\n",
       "      <td>Patna</td>\n",
       "      <td>2016</td>\n",
       "      <td>144</td>\n",
       "      <td>&gt;75%</td>\n",
       "      <td>266</td>\n",
       "      <td>NaN</td>\n",
       "      <td>2018</td>\n",
       "    </tr>\n",
       "  </tbody>\n",
       "</table>\n",
       "</div>"
      ],
      "text/plain": [
       "   Unnamed: 0  Position Country  City/Town  Year  PM2.5 Temporal coverage  \\\n",
       "0           0         1   India     Kanpur  2016    173              >75%   \n",
       "1           1         2   India  Faridabad  2016    172              >75%   \n",
       "2           2         3   India       Gaya  2016    149        50% -< 75%   \n",
       "3           3         4   India   Varanasi  2016    146              >75%   \n",
       "4           4         5   India      Patna  2016    144              >75%   \n",
       "\n",
       "   PM10 Temporal coverage.1  Database version (year)  \n",
       "0   319                 NaN                     2018  \n",
       "1   316                 NaN                     2018  \n",
       "2   275                 NaN                     2018  \n",
       "3   260                 NaN                     2018  \n",
       "4   266                 NaN                     2018  "
      ]
     },
     "execution_count": 3,
     "metadata": {},
     "output_type": "execute_result"
    }
   ],
   "source": [
    "df = pd.read_csv('https://tinyurl.com/2fe6vz4u')\n",
    "df.head()"
   ]
  },
  {
   "cell_type": "code",
   "execution_count": 4,
   "id": "2f181e4a",
   "metadata": {},
   "outputs": [
    {
     "name": "stdout",
     "output_type": "stream",
     "text": [
      "<class 'pandas.core.frame.DataFrame'>\n",
      "RangeIndex: 500 entries, 0 to 499\n",
      "Data columns (total 10 columns):\n",
      " #   Column                   Non-Null Count  Dtype \n",
      "---  ------                   --------------  ----- \n",
      " 0   Unnamed: 0               500 non-null    int64 \n",
      " 1   Position                 500 non-null    int64 \n",
      " 2   Country                  500 non-null    object\n",
      " 3   City/Town                500 non-null    object\n",
      " 4   Year                     500 non-null    int64 \n",
      " 5   PM2.5                    500 non-null    int64 \n",
      " 6   Temporal coverage        86 non-null     object\n",
      " 7   PM10                     500 non-null    int64 \n",
      " 8   Temporal coverage.1      52 non-null     object\n",
      " 9   Database version (year)  500 non-null    int64 \n",
      "dtypes: int64(6), object(4)\n",
      "memory usage: 39.2+ KB\n"
     ]
    }
   ],
   "source": [
    "df.info()"
   ]
  },
  {
   "cell_type": "code",
   "execution_count": 5,
   "id": "6aa42e4d",
   "metadata": {},
   "outputs": [
    {
     "data": {
      "text/plain": [
       "5000"
      ]
     },
     "execution_count": 5,
     "metadata": {},
     "output_type": "execute_result"
    }
   ],
   "source": [
    "df.size"
   ]
  },
  {
   "cell_type": "code",
   "execution_count": 8,
   "id": "67f2a019",
   "metadata": {},
   "outputs": [],
   "source": [
    "iran_series=df.query('Country==\"Iran\"').groupby('Year')['PM2.5'].sum()\n",
    "china_series=df.query('Country==\"China\"').groupby('Year')['PM2.5'].sum()"
   ]
  },
  {
   "cell_type": "code",
   "execution_count": 11,
   "id": "375b8e9e",
   "metadata": {},
   "outputs": [
    {
     "data": {
      "text/plain": [
       "[<matplotlib.lines.Line2D at 0x15a25d99280>]"
      ]
     },
     "execution_count": 11,
     "metadata": {},
     "output_type": "execute_result"
    },
    {
     "data": {
      "image/png": "[encoded data removed]",
      "text/plain": [
       "<Figure size 640x480 with 1 Axes>"
      ]
     },
     "metadata": {},
     "output_type": "display_data"
    }
   ],
   "source": [
    "plt.plot(iran_series.index,iran_series.values,label='Iran',linestyle='dashed')"
   ]
  },
  {
   "cell_type": "code",
   "execution_count": null,
   "id": "7bb244e6",
   "metadata": {},
   "outputs": [],
   "source": []
  }
 ],
 "metadata": {
  "kernelspec": {
   "display_name": "Python 3 (ipykernel)",
   "language": "python",
   "name": "python3"
  },
  "language_info": {
   "codemirror_mode": {
    "name": "ipython",
    "version": 3
   },
   "file_extension": ".py",
   "mimetype": "text/x-python",
   "name": "python",
   "nbconvert_exporter": "python",
   "pygments_lexer": "ipython3",
   "version": "3.9.13"
  }
 },
 "nbformat": 4,
 "nbformat_minor": 5
}
