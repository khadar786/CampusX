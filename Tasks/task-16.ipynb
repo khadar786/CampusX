{
 "cells": [
  {
   "cell_type": "code",
   "execution_count": 1,
   "id": "37ed997e",
   "metadata": {},
   "outputs": [],
   "source": [
    "import numpy as np\n",
    "import pandas as pd"
   ]
  },
  {
   "cell_type": "markdown",
   "id": "9c7d7ae3",
   "metadata": {},
   "source": [
    "### `Q-1:` Write a program to create an empty series."
   ]
  },
  {
   "cell_type": "code",
   "execution_count": 2,
   "id": "decc6866",
   "metadata": {},
   "outputs": [
    {
     "name": "stderr",
     "output_type": "stream",
     "text": [
      "C:\\Users\\khadarbasha\\AppData\\Local\\Temp\\ipykernel_10268\\2031691219.py:1: FutureWarning: The default dtype for empty Series will be 'object' instead of 'float64' in a future version. Specify a dtype explicitly to silence this warning.\n",
      "  pd.Series()\n"
     ]
    },
    {
     "data": {
      "text/plain": [
       "Series([], dtype: float64)"
      ]
     },
     "execution_count": 2,
     "metadata": {},
     "output_type": "execute_result"
    }
   ],
   "source": [
    "pd.Series()"
   ]
  },
  {
   "cell_type": "markdown",
   "id": "d4c02ee4",
   "metadata": {},
   "source": [
    "### `Q-2:` Write a Pandas program to add, subtract, multiple and divide two Pandas Series."
   ]
  },
  {
   "cell_type": "code",
   "execution_count": 3,
   "id": "a616664a",
   "metadata": {},
   "outputs": [
    {
     "name": "stdout",
     "output_type": "stream",
     "text": [
      "0     3\n",
      "1     7\n",
      "2    11\n",
      "3    15\n",
      "4    20\n",
      "dtype: int64\n",
      "0    1\n",
      "1    1\n",
      "2    1\n",
      "3    1\n",
      "4    0\n",
      "dtype: int64\n",
      "0      2\n",
      "1     12\n",
      "2     30\n",
      "3     56\n",
      "4    100\n",
      "dtype: int64\n",
      "0    2.000000\n",
      "1    1.333333\n",
      "2    1.200000\n",
      "3    1.142857\n",
      "4    1.000000\n",
      "dtype: float64\n"
     ]
    }
   ],
   "source": [
    "a=pd.Series([2, 4, 6, 8, 10])\n",
    "b=pd.Series( [1, 3, 5, 7, 10])\n",
    "\n",
    "print(a+b)\n",
    "print(a-b)\n",
    "print(a*b)\n",
    "print(a/b)"
   ]
  },
  {
   "cell_type": "markdown",
   "id": "5f0b85f4",
   "metadata": {},
   "source": [
    "### `Q-3` Write a Pandas program to compare the elements of the two Pandas Series.\n",
    "Sample Series: [2, 4, 6, 8, 10], [1, 3, 5, 7, 10]"
   ]
  },
  {
   "cell_type": "code",
   "execution_count": 4,
   "id": "6f4953ea",
   "metadata": {},
   "outputs": [],
   "source": [
    "a=pd.Series([2, 4, 6, 8, 10])\n",
    "b=pd.Series([1, 3, 5, 7, 10])\n"
   ]
  },
  {
   "cell_type": "code",
   "execution_count": 5,
   "id": "fbb406e8",
   "metadata": {},
   "outputs": [
    {
     "data": {
      "text/plain": [
       "0     2\n",
       "1     4\n",
       "2     6\n",
       "3     8\n",
       "4    10\n",
       "dtype: int64"
      ]
     },
     "execution_count": 5,
     "metadata": {},
     "output_type": "execute_result"
    }
   ],
   "source": [
    "a"
   ]
  },
  {
   "cell_type": "code",
   "execution_count": 6,
   "id": "88df504c",
   "metadata": {},
   "outputs": [
    {
     "data": {
      "text/plain": [
       "0     1\n",
       "1     3\n",
       "2     5\n",
       "3     7\n",
       "4    10\n",
       "dtype: int64"
      ]
     },
     "execution_count": 6,
     "metadata": {},
     "output_type": "execute_result"
    }
   ],
   "source": [
    "b"
   ]
  },
  {
   "cell_type": "code",
   "execution_count": 7,
   "id": "64fc0df6",
   "metadata": {},
   "outputs": [
    {
     "name": "stdout",
     "output_type": "stream",
     "text": [
      "0    False\n",
      "1    False\n",
      "2    False\n",
      "3    False\n",
      "4     True\n",
      "dtype: bool\n"
     ]
    }
   ],
   "source": [
    "print(a==b)"
   ]
  },
  {
   "cell_type": "code",
   "execution_count": 8,
   "id": "43a2a2de",
   "metadata": {},
   "outputs": [
    {
     "name": "stdout",
     "output_type": "stream",
     "text": [
      "0    False\n",
      "1    False\n",
      "2    False\n",
      "3    False\n",
      "4    False\n",
      "dtype: bool\n"
     ]
    }
   ],
   "source": [
    "print(a<b)"
   ]
  },
  {
   "cell_type": "markdown",
   "id": "f3e32b3f",
   "metadata": {},
   "source": [
    "print(a>b)"
   ]
  },
  {
   "cell_type": "markdown",
   "id": "66709018",
   "metadata": {},
   "source": [
    "### `Q-5.`Write a function to change the data type of given a column or a Series. Function takes series and data type as input, returns the converted series.\n",
    "```\n",
    "series = pd.Series([1,2,'Python', 2.0, True, 100])\n",
    "change to float type data\n",
    "```\n",
    "Note: Read about pd.to_numeric()"
   ]
  },
  {
   "cell_type": "code",
   "execution_count": 9,
   "id": "f2da3195",
   "metadata": {},
   "outputs": [
    {
     "data": {
      "text/plain": [
       "0      1.0\n",
       "1      2.0\n",
       "2      NaN\n",
       "3      2.0\n",
       "4      1.0\n",
       "5    100.0\n",
       "dtype: float64"
      ]
     },
     "execution_count": 9,
     "metadata": {},
     "output_type": "execute_result"
    }
   ],
   "source": [
    "def change_dtype(series):\n",
    "    return pd.to_numeric(series,errors='coerce')\n",
    "\n",
    "series = pd.Series([1,2,'Python', 2.0, True, 100])\n",
    "\n",
    "change_dtype(series)"
   ]
  },
  {
   "cell_type": "markdown",
   "id": "e058ba0d",
   "metadata": {},
   "source": [
    "### `Q-6` Find top 10 most run getter from the series."
   ]
  },
  {
   "cell_type": "code",
   "execution_count": 10,
   "id": "10bb2371",
   "metadata": {},
   "outputs": [
    {
     "data": {
      "text/html": [
       "<div>\n",
       "<style scoped>\n",
       "    .dataframe tbody tr th:only-of-type {\n",
       "        vertical-align: middle;\n",
       "    }\n",
       "\n",
       "    .dataframe tbody tr th {\n",
       "        vertical-align: top;\n",
       "    }\n",
       "\n",
       "    .dataframe thead th {\n",
       "        text-align: right;\n",
       "    }\n",
       "</style>\n",
       "<table border=\"1\" class=\"dataframe\">\n",
       "  <thead>\n",
       "    <tr style=\"text-align: right;\">\n",
       "      <th></th>\n",
       "      <th>batter</th>\n",
       "      <th>batsman_run</th>\n",
       "    </tr>\n",
       "  </thead>\n",
       "  <tbody>\n",
       "    <tr>\n",
       "      <th>0</th>\n",
       "      <td>A Ashish Reddy</td>\n",
       "      <td>280</td>\n",
       "    </tr>\n",
       "    <tr>\n",
       "      <th>1</th>\n",
       "      <td>A Badoni</td>\n",
       "      <td>161</td>\n",
       "    </tr>\n",
       "    <tr>\n",
       "      <th>2</th>\n",
       "      <td>A Chandila</td>\n",
       "      <td>4</td>\n",
       "    </tr>\n",
       "    <tr>\n",
       "      <th>3</th>\n",
       "      <td>A Chopra</td>\n",
       "      <td>53</td>\n",
       "    </tr>\n",
       "    <tr>\n",
       "      <th>4</th>\n",
       "      <td>A Choudhary</td>\n",
       "      <td>25</td>\n",
       "    </tr>\n",
       "    <tr>\n",
       "      <th>...</th>\n",
       "      <td>...</td>\n",
       "      <td>...</td>\n",
       "    </tr>\n",
       "    <tr>\n",
       "      <th>600</th>\n",
       "      <td>Yash Dayal</td>\n",
       "      <td>0</td>\n",
       "    </tr>\n",
       "    <tr>\n",
       "      <th>601</th>\n",
       "      <td>Yashpal Singh</td>\n",
       "      <td>47</td>\n",
       "    </tr>\n",
       "    <tr>\n",
       "      <th>602</th>\n",
       "      <td>Younis Khan</td>\n",
       "      <td>3</td>\n",
       "    </tr>\n",
       "    <tr>\n",
       "      <th>603</th>\n",
       "      <td>Yuvraj Singh</td>\n",
       "      <td>2754</td>\n",
       "    </tr>\n",
       "    <tr>\n",
       "      <th>604</th>\n",
       "      <td>Z Khan</td>\n",
       "      <td>117</td>\n",
       "    </tr>\n",
       "  </tbody>\n",
       "</table>\n",
       "<p>605 rows × 2 columns</p>\n",
       "</div>"
      ],
      "text/plain": [
       "             batter  batsman_run\n",
       "0    A Ashish Reddy          280\n",
       "1          A Badoni          161\n",
       "2        A Chandila            4\n",
       "3          A Chopra           53\n",
       "4       A Choudhary           25\n",
       "..              ...          ...\n",
       "600      Yash Dayal            0\n",
       "601   Yashpal Singh           47\n",
       "602     Younis Khan            3\n",
       "603    Yuvraj Singh         2754\n",
       "604          Z Khan          117\n",
       "\n",
       "[605 rows x 2 columns]"
      ]
     },
     "execution_count": 10,
     "metadata": {},
     "output_type": "execute_result"
    }
   ],
   "source": [
    "data=pd.read_csv('batsman_runs_series.csv')\n",
    "data"
   ]
  },
  {
   "cell_type": "code",
   "execution_count": 11,
   "id": "7500e163",
   "metadata": {},
   "outputs": [
    {
     "data": {
      "text/html": [
       "<div>\n",
       "<style scoped>\n",
       "    .dataframe tbody tr th:only-of-type {\n",
       "        vertical-align: middle;\n",
       "    }\n",
       "\n",
       "    .dataframe tbody tr th {\n",
       "        vertical-align: top;\n",
       "    }\n",
       "\n",
       "    .dataframe thead th {\n",
       "        text-align: right;\n",
       "    }\n",
       "</style>\n",
       "<table border=\"1\" class=\"dataframe\">\n",
       "  <thead>\n",
       "    <tr style=\"text-align: right;\">\n",
       "      <th></th>\n",
       "      <th>batter</th>\n",
       "      <th>batsman_run</th>\n",
       "    </tr>\n",
       "  </thead>\n",
       "  <tbody>\n",
       "    <tr>\n",
       "      <th>569</th>\n",
       "      <td>V Kohli</td>\n",
       "      <td>6634</td>\n",
       "    </tr>\n",
       "    <tr>\n",
       "      <th>462</th>\n",
       "      <td>S Dhawan</td>\n",
       "      <td>6244</td>\n",
       "    </tr>\n",
       "    <tr>\n",
       "      <th>130</th>\n",
       "      <td>DA Warner</td>\n",
       "      <td>5883</td>\n",
       "    </tr>\n",
       "    <tr>\n",
       "      <th>430</th>\n",
       "      <td>RG Sharma</td>\n",
       "      <td>5881</td>\n",
       "    </tr>\n",
       "    <tr>\n",
       "      <th>493</th>\n",
       "      <td>SK Raina</td>\n",
       "      <td>5536</td>\n",
       "    </tr>\n",
       "    <tr>\n",
       "      <th>27</th>\n",
       "      <td>AB de Villiers</td>\n",
       "      <td>5181</td>\n",
       "    </tr>\n",
       "    <tr>\n",
       "      <th>108</th>\n",
       "      <td>CH Gayle</td>\n",
       "      <td>4997</td>\n",
       "    </tr>\n",
       "    <tr>\n",
       "      <th>339</th>\n",
       "      <td>MS Dhoni</td>\n",
       "      <td>4978</td>\n",
       "    </tr>\n",
       "    <tr>\n",
       "      <th>452</th>\n",
       "      <td>RV Uthappa</td>\n",
       "      <td>4954</td>\n",
       "    </tr>\n",
       "    <tr>\n",
       "      <th>256</th>\n",
       "      <td>KD Karthik</td>\n",
       "      <td>4377</td>\n",
       "    </tr>\n",
       "  </tbody>\n",
       "</table>\n",
       "</div>"
      ],
      "text/plain": [
       "             batter  batsman_run\n",
       "569         V Kohli         6634\n",
       "462        S Dhawan         6244\n",
       "130       DA Warner         5883\n",
       "430       RG Sharma         5881\n",
       "493        SK Raina         5536\n",
       "27   AB de Villiers         5181\n",
       "108        CH Gayle         4997\n",
       "339        MS Dhoni         4978\n",
       "452      RV Uthappa         4954\n",
       "256      KD Karthik         4377"
      ]
     },
     "execution_count": 11,
     "metadata": {},
     "output_type": "execute_result"
    }
   ],
   "source": [
    "data.sort_values('batsman_run',ascending=False).head(10)"
   ]
  },
  {
   "cell_type": "markdown",
   "id": "fc880c5c",
   "metadata": {},
   "source": [
    "### `Q-7` No of players having runs above 3000"
   ]
  },
  {
   "cell_type": "code",
   "execution_count": 12,
   "id": "ed991d25",
   "metadata": {},
   "outputs": [
    {
     "data": {
      "text/plain": [
       "20"
      ]
     },
     "execution_count": 12,
     "metadata": {},
     "output_type": "execute_result"
    }
   ],
   "source": [
    "data[data['batsman_run']>3000].shape[0]"
   ]
  },
  {
   "cell_type": "markdown",
   "id": "a7b5a430",
   "metadata": {},
   "source": [
    "### `Q-8` No of players having runs above mean value?"
   ]
  },
  {
   "cell_type": "code",
   "execution_count": 13,
   "id": "b4b2f757",
   "metadata": {},
   "outputs": [
    {
     "data": {
      "text/html": [
       "<div>\n",
       "<style scoped>\n",
       "    .dataframe tbody tr th:only-of-type {\n",
       "        vertical-align: middle;\n",
       "    }\n",
       "\n",
       "    .dataframe tbody tr th {\n",
       "        vertical-align: top;\n",
       "    }\n",
       "\n",
       "    .dataframe thead th {\n",
       "        text-align: right;\n",
       "    }\n",
       "</style>\n",
       "<table border=\"1\" class=\"dataframe\">\n",
       "  <thead>\n",
       "    <tr style=\"text-align: right;\">\n",
       "      <th></th>\n",
       "      <th>batter</th>\n",
       "      <th>batsman_run</th>\n",
       "    </tr>\n",
       "  </thead>\n",
       "  <tbody>\n",
       "    <tr>\n",
       "      <th>0</th>\n",
       "      <td>A Ashish Reddy</td>\n",
       "      <td>280</td>\n",
       "    </tr>\n",
       "    <tr>\n",
       "      <th>1</th>\n",
       "      <td>A Badoni</td>\n",
       "      <td>161</td>\n",
       "    </tr>\n",
       "    <tr>\n",
       "      <th>2</th>\n",
       "      <td>A Chandila</td>\n",
       "      <td>4</td>\n",
       "    </tr>\n",
       "    <tr>\n",
       "      <th>3</th>\n",
       "      <td>A Chopra</td>\n",
       "      <td>53</td>\n",
       "    </tr>\n",
       "    <tr>\n",
       "      <th>4</th>\n",
       "      <td>A Choudhary</td>\n",
       "      <td>25</td>\n",
       "    </tr>\n",
       "    <tr>\n",
       "      <th>...</th>\n",
       "      <td>...</td>\n",
       "      <td>...</td>\n",
       "    </tr>\n",
       "    <tr>\n",
       "      <th>600</th>\n",
       "      <td>Yash Dayal</td>\n",
       "      <td>0</td>\n",
       "    </tr>\n",
       "    <tr>\n",
       "      <th>601</th>\n",
       "      <td>Yashpal Singh</td>\n",
       "      <td>47</td>\n",
       "    </tr>\n",
       "    <tr>\n",
       "      <th>602</th>\n",
       "      <td>Younis Khan</td>\n",
       "      <td>3</td>\n",
       "    </tr>\n",
       "    <tr>\n",
       "      <th>603</th>\n",
       "      <td>Yuvraj Singh</td>\n",
       "      <td>2754</td>\n",
       "    </tr>\n",
       "    <tr>\n",
       "      <th>604</th>\n",
       "      <td>Z Khan</td>\n",
       "      <td>117</td>\n",
       "    </tr>\n",
       "  </tbody>\n",
       "</table>\n",
       "<p>605 rows × 2 columns</p>\n",
       "</div>"
      ],
      "text/plain": [
       "             batter  batsman_run\n",
       "0    A Ashish Reddy          280\n",
       "1          A Badoni          161\n",
       "2        A Chandila            4\n",
       "3          A Chopra           53\n",
       "4       A Choudhary           25\n",
       "..              ...          ...\n",
       "600      Yash Dayal            0\n",
       "601   Yashpal Singh           47\n",
       "602     Younis Khan            3\n",
       "603    Yuvraj Singh         2754\n",
       "604          Z Khan          117\n",
       "\n",
       "[605 rows x 2 columns]"
      ]
     },
     "execution_count": 13,
     "metadata": {},
     "output_type": "execute_result"
    }
   ],
   "source": [
    "data"
   ]
  },
  {
   "cell_type": "markdown",
   "id": "a070de3f",
   "metadata": {},
   "source": [
    "### `Q-9` \n",
    "    i. Read `items.csv` making `item_name` as index.\n",
    "    ii. Show no of nan values\n",
    "    ii. Item price is given in $, so convert it to rupees without currency symbol.\n",
    "    iii. Make data type of newly made series as float.\n",
    "    iv. Fill nan with mean of the series\n",
    "\n",
    "\n",
    "How csv file looks\n",
    "\n",
    "```\n",
    "item_name\titem_price\n",
    "Chips and Fresh Tomato Salsa\t$2.39\n",
    "Izze\t$3.39\n",
    "Nantucket Nectar\t$3.39\n",
    "Chips and Tomatillo-Green Chili Salsa\t$2.39\n",
    "Chicken Bowl\t$16.98\n",
    "\n",
    "```"
   ]
  },
  {
   "cell_type": "code",
   "execution_count": 18,
   "id": "f81ac9c3",
   "metadata": {},
   "outputs": [
    {
     "data": {
      "text/plain": [
       "item_name\n",
       "Chips and Fresh Tomato Salsa              $2.39\n",
       "Izze                                      $3.39\n",
       "Nantucket Nectar                          $3.39\n",
       "Chips and Tomatillo-Green Chili Salsa     $2.39\n",
       "Chicken Bowl                             $16.98\n",
       "                                          ...  \n",
       "Steak Burrito                            $11.75\n",
       "Steak Burrito                            $11.75\n",
       "Chicken Salad Bowl                       $11.25\n",
       "Chicken Salad Bowl                        $8.75\n",
       "Chicken Salad Bowl                        $8.75\n",
       "Name: item_price, Length: 4622, dtype: object"
      ]
     },
     "execution_count": 18,
     "metadata": {},
     "output_type": "execute_result"
    }
   ],
   "source": [
    "#1\n",
    "items=pd.read_csv('items.csv',index_col='item_name').squeeze()\n",
    "items"
   ]
  },
  {
   "cell_type": "code",
   "execution_count": 21,
   "id": "00b7cc10",
   "metadata": {},
   "outputs": [
    {
     "data": {
      "text/plain": [
       "50"
      ]
     },
     "execution_count": 21,
     "metadata": {},
     "output_type": "execute_result"
    }
   ],
   "source": [
    "#2\n",
    "items.isna().sum()"
   ]
  },
  {
   "cell_type": "code",
   "execution_count": 23,
   "id": "d3d1b13c",
   "metadata": {},
   "outputs": [
    {
     "data": {
      "text/plain": [
       "item_name\n",
       "Chips and Fresh Tomato Salsa              197.1511\n",
       "Izze                                      279.6411\n",
       "Nantucket Nectar                          279.6411\n",
       "Chips and Tomatillo-Green Chili Salsa     197.1511\n",
       "Chicken Bowl                             1400.6802\n",
       "                                           ...    \n",
       "Steak Burrito                             969.2575\n",
       "Steak Burrito                             969.2575\n",
       "Chicken Salad Bowl                        928.0125\n",
       "Chicken Salad Bowl                        721.7875\n",
       "Chicken Salad Bowl                        721.7875\n",
       "Name: item_price, Length: 4622, dtype: float64"
      ]
     },
     "execution_count": 23,
     "metadata": {},
     "output_type": "execute_result"
    }
   ],
   "source": [
    "#2ii\n",
    "def rupees(x):\n",
    "    try:\n",
    "        y=x[1:]\n",
    "    except:\n",
    "        y=x\n",
    "    \n",
    "    return float(y)*82.49\n",
    "    \n",
    "items.apply(rupees)"
   ]
  },
  {
   "cell_type": "code",
   "execution_count": 24,
   "id": "5b0ac821",
   "metadata": {},
   "outputs": [
    {
     "data": {
      "text/plain": [
       "item_name\n",
       "Chips and Fresh Tomato Salsa              $2.39\n",
       "Izze                                      $3.39\n",
       "Nantucket Nectar                          $3.39\n",
       "Chips and Tomatillo-Green Chili Salsa     $2.39\n",
       "Chicken Bowl                             $16.98\n",
       "                                          ...  \n",
       "Steak Burrito                            $11.75\n",
       "Steak Burrito                            $11.75\n",
       "Chicken Salad Bowl                       $11.25\n",
       "Chicken Salad Bowl                        $8.75\n",
       "Chicken Salad Bowl                        $8.75\n",
       "Name: item_price, Length: 4622, dtype: object"
      ]
     },
     "execution_count": 24,
     "metadata": {},
     "output_type": "execute_result"
    }
   ],
   "source": [
    "items"
   ]
  },
  {
   "cell_type": "code",
   "execution_count": 26,
   "id": "0ea149de",
   "metadata": {},
   "outputs": [],
   "source": [
    "items=items.apply(rupees)"
   ]
  },
  {
   "cell_type": "code",
   "execution_count": 34,
   "id": "a1ccc659",
   "metadata": {},
   "outputs": [],
   "source": [
    "items=items.fillna(items.mean())"
   ]
  },
  {
   "cell_type": "code",
   "execution_count": 36,
   "id": "b0078c09",
   "metadata": {},
   "outputs": [
    {
     "data": {
      "text/plain": [
       "item_name\n",
       "Chips and Fresh Tomato Salsa              197.1511\n",
       "Izze                                      279.6411\n",
       "Nantucket Nectar                          279.6411\n",
       "Chips and Tomatillo-Green Chili Salsa     197.1511\n",
       "Chicken Bowl                             1400.6802\n",
       "                                           ...    \n",
       "Steak Burrito                             969.2575\n",
       "Steak Burrito                             969.2575\n",
       "Chicken Salad Bowl                        928.0125\n",
       "Chicken Salad Bowl                        721.7875\n",
       "Chicken Salad Bowl                        721.7875\n",
       "Name: item_price, Length: 4622, dtype: float64"
      ]
     },
     "execution_count": 36,
     "metadata": {},
     "output_type": "execute_result"
    }
   ],
   "source": [
    "items"
   ]
  },
  {
   "cell_type": "code",
   "execution_count": 37,
   "id": "229d7c84",
   "metadata": {},
   "outputs": [
    {
     "data": {
      "text/plain": [
       "0"
      ]
     },
     "execution_count": 37,
     "metadata": {},
     "output_type": "execute_result"
    }
   ],
   "source": [
    "items.isna().sum()"
   ]
  },
  {
   "cell_type": "markdown",
   "id": "2a625345",
   "metadata": {},
   "source": [
    "### `Q-10`: \n",
    "    i. Find mean price\n",
    "    ii. Find 30th and 6th percentile value\n",
    "    iii. Plot Histogram on price with bin size 50\n",
    "    iv. No of items price lies between [1000 to 2000]\n"
   ]
  },
  {
   "cell_type": "code",
   "execution_count": 39,
   "id": "3ec40ba9",
   "metadata": {},
   "outputs": [
    {
     "data": {
      "text/plain": [
       "615.6254681102482"
      ]
     },
     "execution_count": 39,
     "metadata": {},
     "output_type": "execute_result"
    }
   ],
   "source": [
    "#1\n",
    "items.mean()"
   ]
  },
  {
   "cell_type": "code",
   "execution_count": 42,
   "id": "2c30d0aa",
   "metadata": {},
   "outputs": [
    {
     "data": {
      "text/plain": [
       "367.0805"
      ]
     },
     "execution_count": 42,
     "metadata": {},
     "output_type": "execute_result"
    }
   ],
   "source": [
    "#2\n",
    "items.quantile(q=0.3)"
   ]
  },
  {
   "cell_type": "code",
   "execution_count": 41,
   "id": "0cb8c5db",
   "metadata": {},
   "outputs": [
    {
     "data": {
      "text/plain": [
       "103.1125"
      ]
     },
     "execution_count": 41,
     "metadata": {},
     "output_type": "execute_result"
    }
   ],
   "source": [
    "items.quantile(q=0.06)"
   ]
  },
  {
   "cell_type": "code",
   "execution_count": 44,
   "id": "ea6b97c9",
   "metadata": {},
   "outputs": [
    {
     "data": {
      "text/plain": [
       "<AxesSubplot:ylabel='Frequency'>"
      ]
     },
     "execution_count": 44,
     "metadata": {},
     "output_type": "execute_result"
    },
    {
     "data": {
      "image/png": "[encoded data removed]",
      "text/plain": [
       "<Figure size 640x480 with 1 Axes>"
      ]
     },
     "metadata": {},
     "output_type": "display_data"
    }
   ],
   "source": [
    "#3\n",
    "items.plot.hist(bins=50)"
   ]
  },
  {
   "cell_type": "code",
   "execution_count": 46,
   "id": "e89a52cf",
   "metadata": {},
   "outputs": [
    {
     "data": {
      "text/plain": [
       "item_name\n",
       "Chicken Bowl           1400.6802\n",
       "Chicken Salad Bowl     1856.0250\n",
       "Steak Burrito          1483.1702\n",
       "Chicken Burrito        1443.5750\n",
       "Chicken Bowl           1443.5750\n",
       "                         ...    \n",
       "Chicken Bowl           1856.0250\n",
       "Steak Bowl             1938.5150\n",
       "Chicken Bowl           1443.5750\n",
       "Chips and Guacamole    1468.3220\n",
       "Chicken Salad Bowl     1443.5750\n",
       "Name: item_price, Length: 116, dtype: float64"
      ]
     },
     "execution_count": 46,
     "metadata": {},
     "output_type": "execute_result"
    }
   ],
   "source": [
    "items[items.between(1000,2000)]"
   ]
  },
  {
   "cell_type": "code",
   "execution_count": null,
   "id": "5c338a66",
   "metadata": {},
   "outputs": [],
   "source": []
  }
 ],
 "metadata": {
  "kernelspec": {
   "display_name": "Python 3 (ipykernel)",
   "language": "python",
   "name": "python3"
  },
  "language_info": {
   "codemirror_mode": {
    "name": "ipython",
    "version": 3
   },
   "file_extension": ".py",
   "mimetype": "text/x-python",
   "name": "python",
   "nbconvert_exporter": "python",
   "pygments_lexer": "ipython3",
   "version": "3.9.13"
  }
 },
 "nbformat": 4,
 "nbformat_minor": 5
}
