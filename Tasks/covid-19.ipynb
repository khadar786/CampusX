{
 "cells": [
  {
   "cell_type": "code",
   "execution_count": 30,
   "id": "a56855fb",
   "metadata": {},
   "outputs": [],
   "source": [
    "import numpy as np\n",
    "import pandas as pd\n",
    "import seaborn as sns\n",
    "import matplotlib.pyplot as plt"
   ]
  },
  {
   "cell_type": "code",
   "execution_count": 2,
   "id": "06c93292",
   "metadata": {},
   "outputs": [],
   "source": [
    "patients=pd.read_csv('IndividualDetails.csv')"
   ]
  },
  {
   "cell_type": "code",
   "execution_count": 3,
   "id": "24b3a438",
   "metadata": {},
   "outputs": [
    {
     "data": {
      "text/plain": [
       "Hospitalized    8301\n",
       "Recovered        139\n",
       "Deceased          30\n",
       "Migrated           1\n",
       "Name: current_status, dtype: int64"
      ]
     },
     "execution_count": 3,
     "metadata": {},
     "output_type": "execute_result"
    }
   ],
   "source": [
    "patients['current_status'].value_counts()"
   ]
  },
  {
   "cell_type": "code",
   "execution_count": 4,
   "id": "b72ff180",
   "metadata": {},
   "outputs": [],
   "source": [
    "total=patients.shape[0]\n",
    "active=patients[patients['current_status']=='Hospitalized'].shape[0]\n",
    "recovered=patients[patients['current_status']=='Recovered'].shape[0]\n",
    "deaths=patients[patients['current_status']=='Deceased'].shape[0]"
   ]
  },
  {
   "cell_type": "code",
   "execution_count": 5,
   "id": "41a0cf8a",
   "metadata": {},
   "outputs": [
    {
     "data": {
      "text/plain": [
       "8472"
      ]
     },
     "execution_count": 5,
     "metadata": {},
     "output_type": "execute_result"
    }
   ],
   "source": [
    "total"
   ]
  },
  {
   "cell_type": "code",
   "execution_count": 6,
   "id": "92b84b67",
   "metadata": {},
   "outputs": [
    {
     "data": {
      "text/plain": [
       "8301"
      ]
     },
     "execution_count": 6,
     "metadata": {},
     "output_type": "execute_result"
    }
   ],
   "source": [
    "active"
   ]
  },
  {
   "cell_type": "code",
   "execution_count": 7,
   "id": "1c53d703",
   "metadata": {},
   "outputs": [
    {
     "data": {
      "text/plain": [
       "139"
      ]
     },
     "execution_count": 7,
     "metadata": {},
     "output_type": "execute_result"
    }
   ],
   "source": [
    "recovered"
   ]
  },
  {
   "cell_type": "code",
   "execution_count": 8,
   "id": "7bef6767",
   "metadata": {},
   "outputs": [
    {
     "data": {
      "text/plain": [
       "30"
      ]
     },
     "execution_count": 8,
     "metadata": {},
     "output_type": "execute_result"
    }
   ],
   "source": [
    "deaths"
   ]
  },
  {
   "cell_type": "code",
   "execution_count": 12,
   "id": "487ebd5b",
   "metadata": {},
   "outputs": [],
   "source": [
    "pbar=patients['detected_state'].value_counts().reset_index()"
   ]
  },
  {
   "cell_type": "code",
   "execution_count": 13,
   "id": "f4cb5b61",
   "metadata": {},
   "outputs": [
    {
     "data": {
      "text/html": [
       "<div>\n",
       "<style scoped>\n",
       "    .dataframe tbody tr th:only-of-type {\n",
       "        vertical-align: middle;\n",
       "    }\n",
       "\n",
       "    .dataframe tbody tr th {\n",
       "        vertical-align: top;\n",
       "    }\n",
       "\n",
       "    .dataframe thead th {\n",
       "        text-align: right;\n",
       "    }\n",
       "</style>\n",
       "<table border=\"1\" class=\"dataframe\">\n",
       "  <thead>\n",
       "    <tr style=\"text-align: right;\">\n",
       "      <th></th>\n",
       "      <th>index</th>\n",
       "      <th>detected_state</th>\n",
       "    </tr>\n",
       "  </thead>\n",
       "  <tbody>\n",
       "    <tr>\n",
       "      <th>0</th>\n",
       "      <td>Maharashtra</td>\n",
       "      <td>1761</td>\n",
       "    </tr>\n",
       "    <tr>\n",
       "      <th>1</th>\n",
       "      <td>Delhi</td>\n",
       "      <td>1069</td>\n",
       "    </tr>\n",
       "    <tr>\n",
       "      <th>2</th>\n",
       "      <td>Tamil Nadu</td>\n",
       "      <td>969</td>\n",
       "    </tr>\n",
       "    <tr>\n",
       "      <th>3</th>\n",
       "      <td>Rajasthan</td>\n",
       "      <td>700</td>\n",
       "    </tr>\n",
       "    <tr>\n",
       "      <th>4</th>\n",
       "      <td>Madhya Pradesh</td>\n",
       "      <td>529</td>\n",
       "    </tr>\n",
       "    <tr>\n",
       "      <th>5</th>\n",
       "      <td>Telangana</td>\n",
       "      <td>503</td>\n",
       "    </tr>\n",
       "    <tr>\n",
       "      <th>6</th>\n",
       "      <td>Gujarat</td>\n",
       "      <td>468</td>\n",
       "    </tr>\n",
       "    <tr>\n",
       "      <th>7</th>\n",
       "      <td>Uttar Pradesh</td>\n",
       "      <td>452</td>\n",
       "    </tr>\n",
       "    <tr>\n",
       "      <th>8</th>\n",
       "      <td>Andhra Pradesh</td>\n",
       "      <td>405</td>\n",
       "    </tr>\n",
       "    <tr>\n",
       "      <th>9</th>\n",
       "      <td>Kerala</td>\n",
       "      <td>373</td>\n",
       "    </tr>\n",
       "    <tr>\n",
       "      <th>10</th>\n",
       "      <td>Karnataka</td>\n",
       "      <td>226</td>\n",
       "    </tr>\n",
       "    <tr>\n",
       "      <th>11</th>\n",
       "      <td>Jammu and Kashmir</td>\n",
       "      <td>224</td>\n",
       "    </tr>\n",
       "    <tr>\n",
       "      <th>12</th>\n",
       "      <td>Haryana</td>\n",
       "      <td>179</td>\n",
       "    </tr>\n",
       "    <tr>\n",
       "      <th>13</th>\n",
       "      <td>Punjab</td>\n",
       "      <td>158</td>\n",
       "    </tr>\n",
       "    <tr>\n",
       "      <th>14</th>\n",
       "      <td>West Bengal</td>\n",
       "      <td>134</td>\n",
       "    </tr>\n",
       "    <tr>\n",
       "      <th>15</th>\n",
       "      <td>Bihar</td>\n",
       "      <td>64</td>\n",
       "    </tr>\n",
       "    <tr>\n",
       "      <th>16</th>\n",
       "      <td>Odisha</td>\n",
       "      <td>54</td>\n",
       "    </tr>\n",
       "    <tr>\n",
       "      <th>17</th>\n",
       "      <td>Uttarakhand</td>\n",
       "      <td>35</td>\n",
       "    </tr>\n",
       "    <tr>\n",
       "      <th>18</th>\n",
       "      <td>Himachal Pradesh</td>\n",
       "      <td>32</td>\n",
       "    </tr>\n",
       "    <tr>\n",
       "      <th>19</th>\n",
       "      <td>Assam</td>\n",
       "      <td>29</td>\n",
       "    </tr>\n",
       "    <tr>\n",
       "      <th>20</th>\n",
       "      <td>Chhattisgarh</td>\n",
       "      <td>25</td>\n",
       "    </tr>\n",
       "    <tr>\n",
       "      <th>21</th>\n",
       "      <td>Chandigarh</td>\n",
       "      <td>19</td>\n",
       "    </tr>\n",
       "    <tr>\n",
       "      <th>22</th>\n",
       "      <td>Jharkhand</td>\n",
       "      <td>17</td>\n",
       "    </tr>\n",
       "    <tr>\n",
       "      <th>23</th>\n",
       "      <td>Ladakh</td>\n",
       "      <td>15</td>\n",
       "    </tr>\n",
       "    <tr>\n",
       "      <th>24</th>\n",
       "      <td>Andaman and Nicobar Islands</td>\n",
       "      <td>11</td>\n",
       "    </tr>\n",
       "    <tr>\n",
       "      <th>25</th>\n",
       "      <td>Puducherry</td>\n",
       "      <td>7</td>\n",
       "    </tr>\n",
       "    <tr>\n",
       "      <th>26</th>\n",
       "      <td>Goa</td>\n",
       "      <td>7</td>\n",
       "    </tr>\n",
       "    <tr>\n",
       "      <th>27</th>\n",
       "      <td>Manipur</td>\n",
       "      <td>2</td>\n",
       "    </tr>\n",
       "    <tr>\n",
       "      <th>28</th>\n",
       "      <td>Tripura</td>\n",
       "      <td>2</td>\n",
       "    </tr>\n",
       "    <tr>\n",
       "      <th>29</th>\n",
       "      <td>Mizoram</td>\n",
       "      <td>1</td>\n",
       "    </tr>\n",
       "    <tr>\n",
       "      <th>30</th>\n",
       "      <td>Arunachal Pradesh</td>\n",
       "      <td>1</td>\n",
       "    </tr>\n",
       "    <tr>\n",
       "      <th>31</th>\n",
       "      <td>Dadra and Nagar Haveli</td>\n",
       "      <td>1</td>\n",
       "    </tr>\n",
       "  </tbody>\n",
       "</table>\n",
       "</div>"
      ],
      "text/plain": [
       "                          index  detected_state\n",
       "0                   Maharashtra            1761\n",
       "1                         Delhi            1069\n",
       "2                    Tamil Nadu             969\n",
       "3                     Rajasthan             700\n",
       "4                Madhya Pradesh             529\n",
       "5                     Telangana             503\n",
       "6                       Gujarat             468\n",
       "7                 Uttar Pradesh             452\n",
       "8                Andhra Pradesh             405\n",
       "9                        Kerala             373\n",
       "10                    Karnataka             226\n",
       "11            Jammu and Kashmir             224\n",
       "12                      Haryana             179\n",
       "13                       Punjab             158\n",
       "14                  West Bengal             134\n",
       "15                        Bihar              64\n",
       "16                       Odisha              54\n",
       "17                  Uttarakhand              35\n",
       "18             Himachal Pradesh              32\n",
       "19                        Assam              29\n",
       "20                 Chhattisgarh              25\n",
       "21                   Chandigarh              19\n",
       "22                    Jharkhand              17\n",
       "23                       Ladakh              15\n",
       "24  Andaman and Nicobar Islands              11\n",
       "25                   Puducherry               7\n",
       "26                          Goa               7\n",
       "27                      Manipur               2\n",
       "28                      Tripura               2\n",
       "29                      Mizoram               1\n",
       "30            Arunachal Pradesh               1\n",
       "31       Dadra and Nagar Haveli               1"
      ]
     },
     "execution_count": 13,
     "metadata": {},
     "output_type": "execute_result"
    }
   ],
   "source": [
    "pbar"
   ]
  },
  {
   "cell_type": "code",
   "execution_count": 18,
   "id": "36dce510",
   "metadata": {},
   "outputs": [
    {
     "data": {
      "text/plain": [
       "['Maharashtra',\n",
       " 'Delhi',\n",
       " 'Tamil Nadu',\n",
       " 'Rajasthan',\n",
       " 'Madhya Pradesh',\n",
       " 'Telangana',\n",
       " 'Gujarat',\n",
       " 'Uttar Pradesh',\n",
       " 'Andhra Pradesh',\n",
       " 'Kerala',\n",
       " 'Karnataka',\n",
       " 'Jammu and Kashmir',\n",
       " 'Haryana',\n",
       " 'Punjab',\n",
       " 'West Bengal',\n",
       " 'Bihar',\n",
       " 'Odisha',\n",
       " 'Uttarakhand',\n",
       " 'Himachal Pradesh',\n",
       " 'Assam',\n",
       " 'Chhattisgarh',\n",
       " 'Chandigarh',\n",
       " 'Jharkhand',\n",
       " 'Ladakh',\n",
       " 'Andaman and Nicobar Islands',\n",
       " 'Puducherry',\n",
       " 'Goa',\n",
       " 'Manipur',\n",
       " 'Tripura',\n",
       " 'Mizoram',\n",
       " 'Arunachal Pradesh',\n",
       " 'Dadra and Nagar Haveli']"
      ]
     },
     "execution_count": 18,
     "metadata": {},
     "output_type": "execute_result"
    }
   ],
   "source": [
    "pbar['index'].tolist()"
   ]
  },
  {
   "cell_type": "code",
   "execution_count": 20,
   "id": "16f1dda3",
   "metadata": {},
   "outputs": [
    {
     "name": "stdout",
     "output_type": "stream",
     "text": [
      "0                     Maharashtra\n",
      "1                           Delhi\n",
      "2                      Tamil Nadu\n",
      "3                       Rajasthan\n",
      "4                  Madhya Pradesh\n",
      "5                       Telangana\n",
      "6                         Gujarat\n",
      "7                   Uttar Pradesh\n",
      "8                  Andhra Pradesh\n",
      "9                          Kerala\n",
      "10                      Karnataka\n",
      "11              Jammu and Kashmir\n",
      "12                        Haryana\n",
      "13                         Punjab\n",
      "14                    West Bengal\n",
      "15                          Bihar\n",
      "16                         Odisha\n",
      "17                    Uttarakhand\n",
      "18               Himachal Pradesh\n",
      "19                          Assam\n",
      "20                   Chhattisgarh\n",
      "21                     Chandigarh\n",
      "22                      Jharkhand\n",
      "23                         Ladakh\n",
      "24    Andaman and Nicobar Islands\n",
      "25                     Puducherry\n",
      "26                            Goa\n",
      "27                        Manipur\n",
      "28                        Tripura\n",
      "29                        Mizoram\n",
      "30              Arunachal Pradesh\n",
      "31         Dadra and Nagar Haveli\n",
      "Name: index, dtype: object\n"
     ]
    }
   ],
   "source": [
    "print(pbar['index'])"
   ]
  },
  {
   "cell_type": "code",
   "execution_count": 21,
   "id": "2e28d72d",
   "metadata": {},
   "outputs": [
    {
     "name": "stdout",
     "output_type": "stream",
     "text": [
      "Maharashtra\n",
      "Delhi\n",
      "Tamil Nadu\n",
      "Rajasthan\n",
      "Madhya Pradesh\n",
      "Telangana\n",
      "Gujarat\n",
      "Uttar Pradesh\n",
      "Andhra Pradesh\n",
      "Kerala\n",
      "Karnataka\n",
      "Jammu and Kashmir\n",
      "Haryana\n",
      "Punjab\n",
      "West Bengal\n",
      "Bihar\n",
      "Odisha\n",
      "Uttarakhand\n",
      "Himachal Pradesh\n",
      "Assam\n",
      "Chhattisgarh\n",
      "Chandigarh\n",
      "Jharkhand\n",
      "Ladakh\n",
      "Andaman and Nicobar Islands\n",
      "Puducherry\n",
      "Goa\n",
      "Manipur\n",
      "Tripura\n",
      "Mizoram\n",
      "Arunachal Pradesh\n",
      "Dadra and Nagar Haveli\n"
     ]
    }
   ],
   "source": [
    "for i in pbar['index']:\n",
    "    print(i)"
   ]
  },
  {
   "cell_type": "code",
   "execution_count": 22,
   "id": "2f304b2d",
   "metadata": {},
   "outputs": [
    {
     "data": {
      "text/plain": [
       "0     1761\n",
       "1     1069\n",
       "2      969\n",
       "3      700\n",
       "4      529\n",
       "5      503\n",
       "6      468\n",
       "7      452\n",
       "8      405\n",
       "9      373\n",
       "10     226\n",
       "11     224\n",
       "12     179\n",
       "13     158\n",
       "14     134\n",
       "15      64\n",
       "16      54\n",
       "17      35\n",
       "18      32\n",
       "19      29\n",
       "20      25\n",
       "21      19\n",
       "22      17\n",
       "23      15\n",
       "24      11\n",
       "25       7\n",
       "26       7\n",
       "27       2\n",
       "28       2\n",
       "29       1\n",
       "30       1\n",
       "31       1\n",
       "Name: detected_state, dtype: int64"
      ]
     },
     "execution_count": 22,
     "metadata": {},
     "output_type": "execute_result"
    }
   ],
   "source": [
    "pbar['detected_state']"
   ]
  },
  {
   "cell_type": "code",
   "execution_count": 23,
   "id": "0d2f75c4",
   "metadata": {},
   "outputs": [
    {
     "data": {
      "text/plain": [
       "0     1761\n",
       "1     1069\n",
       "2      969\n",
       "3      700\n",
       "4      529\n",
       "5      503\n",
       "6      468\n",
       "7      452\n",
       "8      405\n",
       "9      373\n",
       "10     226\n",
       "11     224\n",
       "12     179\n",
       "13     158\n",
       "14     134\n",
       "15      64\n",
       "16      54\n",
       "17      35\n",
       "18      32\n",
       "19      29\n",
       "20      25\n",
       "21      19\n",
       "22      17\n",
       "23      15\n",
       "24      11\n",
       "25       7\n",
       "26       7\n",
       "27       2\n",
       "28       2\n",
       "29       1\n",
       "30       1\n",
       "31       1\n",
       "Name: detected_state, dtype: int64"
      ]
     },
     "execution_count": 23,
     "metadata": {},
     "output_type": "execute_result"
    }
   ],
   "source": [
    "pbar['detected_state']"
   ]
  },
  {
   "cell_type": "code",
   "execution_count": 27,
   "id": "9bb27016",
   "metadata": {},
   "outputs": [
    {
     "name": "stdout",
     "output_type": "stream",
     "text": [
      "                          index  detected_state\n",
      "0                   Maharashtra            1761\n",
      "1                         Delhi            1069\n",
      "2                    Tamil Nadu             969\n",
      "3                     Rajasthan             700\n",
      "4                Madhya Pradesh             529\n",
      "5                     Telangana             503\n",
      "6                       Gujarat             468\n",
      "7                 Uttar Pradesh             452\n",
      "8                Andhra Pradesh             405\n",
      "9                        Kerala             373\n",
      "10                    Karnataka             226\n",
      "11            Jammu and Kashmir             224\n",
      "12                      Haryana             179\n",
      "13                       Punjab             158\n",
      "14                  West Bengal             134\n",
      "15                        Bihar              64\n",
      "16                       Odisha              54\n",
      "17                  Uttarakhand              35\n",
      "18             Himachal Pradesh              32\n",
      "19                        Assam              29\n",
      "20                 Chhattisgarh              25\n",
      "21                   Chandigarh              19\n",
      "22                    Jharkhand              17\n",
      "23                       Ladakh              15\n",
      "24  Andaman and Nicobar Islands              11\n",
      "25                   Puducherry               7\n",
      "26                          Goa               7\n",
      "27                      Manipur               2\n",
      "28                      Tripura               2\n",
      "29                      Mizoram               1\n",
      "30            Arunachal Pradesh               1\n",
      "31       Dadra and Nagar Haveli               1 32\n"
     ]
    }
   ],
   "source": [
    "print(pbar.iloc[0:32], pbar['detected_state'].shape[0])"
   ]
  },
  {
   "cell_type": "code",
   "execution_count": 33,
   "id": "0e3fb1ee",
   "metadata": {},
   "outputs": [
    {
     "data": {
      "image/png": "[encoded data removed]",
      "text/plain": [
       "<Figure size 640x480 with 1 Axes>"
      ]
     },
     "metadata": {},
     "output_type": "display_data"
    }
   ],
   "source": [
    "plt.bar(pbar['index'],pbar['detected_state'])\n",
    "plt.xticks(rotation='vertical')\n",
    "plt.show()"
   ]
  },
  {
   "cell_type": "code",
   "execution_count": null,
   "id": "3f482189",
   "metadata": {},
   "outputs": [],
   "source": []
  }
 ],
 "metadata": {
  "kernelspec": {
   "display_name": "Python 3 (ipykernel)",
   "language": "python",
   "name": "python3"
  },
  "language_info": {
   "codemirror_mode": {
    "name": "ipython",
    "version": 3
   },
   "file_extension": ".py",
   "mimetype": "text/x-python",
   "name": "python",
   "nbconvert_exporter": "python",
   "pygments_lexer": "ipython3",
   "version": "3.9.13"
  }
 },
 "nbformat": 4,
 "nbformat_minor": 5
}
