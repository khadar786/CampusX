{
 "cells": [
  {
   "cell_type": "markdown",
   "id": "2ae6d294",
   "metadata": {},
   "source": [
    "###  `Problem-1:` Class inheritence\n",
    "\n",
    "Create a **Bus** child class that inherits from the Vehicle class. The default fare charge of any vehicle is seating capacity * 100. If Vehicle is Bus instance, we need to add an extra 10% on full fare as a maintenance charge. So total fare for bus instance will become the final amount = total fare + 10% of the total fare.\n",
    "\n",
    "Note: The bus seating capacity is 50. so the final fare amount should be 5500. You need to override the fare() method of a Vehicle class in Bus class."
   ]
  },
  {
   "cell_type": "code",
   "execution_count": 14,
   "id": "cb3d3916",
   "metadata": {},
   "outputs": [
    {
     "data": {
      "text/plain": [
       "5500.0"
      ]
     },
     "execution_count": 14,
     "metadata": {},
     "output_type": "execute_result"
    }
   ],
   "source": [
    "class Vehicle:\n",
    "    \n",
    "    def __init__(self,type,capacity):\n",
    "        self.type=type\n",
    "        self.capacity=capacity\n",
    "    \n",
    "    def fare(self):\n",
    "        return self.capacity*100\n",
    "\n",
    "class Bus(Vehicle):\n",
    "    \n",
    "    def fare(self):\n",
    "        base_fare=super().fare()\n",
    "        base_fare=base_fare+base_fare*0.1\n",
    "        return base_fare\n",
    "\n",
    "bs=Bus('school bus',50)\n",
    "bs.fare()"
   ]
  },
  {
   "cell_type": "markdown",
   "id": "2403ce27",
   "metadata": {},
   "source": [
    "### `Problem-2:` Class Inheritence\n",
    "\n",
    "Create a Bus class that inherits from the Vehicle class. Give the capacity argument of *Bus.seating_capacity()* a default value of 50.\n",
    "\n",
    "Use the following code for your parent Vehicle class."
   ]
  },
  {
   "cell_type": "code",
   "execution_count": 15,
   "id": "8dafea0a",
   "metadata": {},
   "outputs": [],
   "source": [
    "class Vehicle:\n",
    "    \n",
    "    def __init__(self,capacity=50):\n",
    "        self.capacity=capacity\n",
    "        \n",
    "class Bus(Vehicle):\n",
    "    pass"
   ]
  },
  {
   "cell_type": "markdown",
   "id": "7deb3b8b",
   "metadata": {},
   "source": [
    "###  `Problem-3:` Write a program that has a class Point. Define another class Location which has two objects (Location & Destination) of class Point. Also define a function in Location that prints the reflection of Destination on the x axis."
   ]
  },
  {
   "cell_type": "code",
   "execution_count": 19,
   "id": "a568a671",
   "metadata": {},
   "outputs": [
    {
     "name": "stdout",
     "output_type": "stream",
     "text": [
      "source is  0,0\n",
      "destination is  1,1\n",
      "Reflection is  1,-1\n"
     ]
    }
   ],
   "source": [
    "class Point:\n",
    "    def __init__(self,x,y):\n",
    "        self.x=x\n",
    "        self.y=y\n",
    "    \n",
    "    def show(self):\n",
    "        return '{},{}'.format(self.x,self.y)\n",
    "    \n",
    "class Location:\n",
    "    \n",
    "    def __init__(self,x1,y1,x2,y2):\n",
    "        self.source=Point(x1,y1)\n",
    "        self.destination=Point(x2,y2)\n",
    "    \n",
    "    def show(self):\n",
    "        print('source is ',self.source.show())\n",
    "        print('destination is ',self.destination.show())\n",
    "    \n",
    "    def reflection(self):\n",
    "        self.destination.y=-self.destination.x\n",
    "        print('Reflection is ',self.destination.show())\n",
    "\n",
    "L=Location(0,0,1,1)\n",
    "L.show()\n",
    "L.reflection()"
   ]
  },
  {
   "cell_type": "markdown",
   "id": "8e8ef609",
   "metadata": {},
   "source": [
    "### `Problem-4:` Write a program that has an abstract class Polygon. Derive two classes Rectangle and Triamgle from Polygon and write methods to get the details of their dimensions and hence calculate the area."
   ]
  },
  {
   "cell_type": "code",
   "execution_count": 22,
   "id": "12a767ea",
   "metadata": {},
   "outputs": [
    {
     "name": "stdout",
     "output_type": "stream",
     "text": [
      "20\n",
      "10.0\n"
     ]
    }
   ],
   "source": [
    "from abc import ABC,abstractmethod\n",
    "\n",
    "class Polygon(ABC):\n",
    "    \n",
    "    @abstractmethod\n",
    "    def get_data():\n",
    "        pass\n",
    "    \n",
    "    @abstractmethod\n",
    "    def area():\n",
    "        pass\n",
    "\n",
    "class Rectangle(Polygon):\n",
    "    \n",
    "    def get_data(self,l,b):\n",
    "        self.l=l\n",
    "        self.b=b\n",
    "    \n",
    "    def area(self):\n",
    "        return self.l*self.b\n",
    "\n",
    "\n",
    "class Triamgle(Polygon):\n",
    "    \n",
    "    def get_data(self,b,h):\n",
    "        self.b=b\n",
    "        self.h=h\n",
    "    \n",
    "    def area(self):\n",
    "        return 0.5*self.b*self.h\n",
    "\n",
    "\n",
    "rect=Rectangle()\n",
    "rect.get_data(4,5)\n",
    "print(rect.area())\n",
    "\n",
    "tri=Triamgle()\n",
    "tri.get_data(4,5)\n",
    "print(tri.area())\n",
    "    "
   ]
  },
  {
   "cell_type": "markdown",
   "id": "ee64be91",
   "metadata": {},
   "source": [
    "###  `Problem-5:` Write a program with class Bill. The users have the option to pay the bill either by cheque or by cash. Use the inheritance to model this situation."
   ]
  },
  {
   "cell_type": "code",
   "execution_count": 9,
   "id": "7bf9839a",
   "metadata": {},
   "outputs": [],
   "source": [
    "class Bill:\n",
    "    \n",
    "    def __init__(self,items,price):\n",
    "        self.total=0\n",
    "        self.items=items\n",
    "        self.price=price\n",
    "        \n",
    "        for i in price:\n",
    "            self.total+=i\n",
    "    \n",
    "    def display(self):\n",
    "        print('Item \\t\\t\\t Price')\n",
    "        for i in range(len(self.items)):\n",
    "            print(self.items[i],'\\t',self.price[i])\n",
    "        print(\"*\"*10)\n",
    "        \n",
    "        print(\"Total \",self.total)\n",
    "\n",
    "class CashPayment(Bill):\n",
    "    def __init__(self,items,price,deno,value):\n",
    "        super().__init__(items,price)\n",
    "        \n",
    "        self.deno=deno\n",
    "        self.value=value\n",
    "    \n",
    "    def show_cash_payment(self):\n",
    "        super().display()\n",
    "        \n",
    "        for i in range(len(self.deno)):\n",
    "            print(self.deno[i],\"*\",self.value[i],\"=\",self.deno[i]*self.value[i])\n",
    "\n",
    "class ChequePayment(Bill):\n",
    "    def __init__(self,items,price,cno,name):\n",
    "        super().__init__(items,price)\n",
    "        \n",
    "        self.cno=cno\n",
    "        self.name=name\n",
    "    \n",
    "    def show_cheque_payment(self):\n",
    "        super().display()\n",
    "        \n",
    "        print('Cheque no ',self.cno)\n",
    "        print('Bank Name ',self.name)\n"
   ]
  },
  {
   "cell_type": "code",
   "execution_count": 10,
   "id": "33df14fd",
   "metadata": {},
   "outputs": [
    {
     "name": "stdout",
     "output_type": "stream",
     "text": [
      "Item \t\t\t Price\n",
      "External Hard Disk \t 5000\n",
      "RAM \t 2000\n",
      "Printer \t 6000\n",
      "Pen Drive \t 800\n",
      "**********\n",
      "Total  13800\n",
      "10 * 1 = 10\n",
      "20 * 1 = 20\n",
      "50 * 1 = 50\n",
      "100 * 20 = 2000\n",
      "500 * 4 = 2000\n",
      "2000 * 5 = 10000\n"
     ]
    }
   ],
   "source": [
    "items = [\"External Hard Disk\", \"RAM\", \"Printer\", \"Pen Drive\"]\n",
    "price = [5000, 2000, 6000, 800]\n",
    "\n",
    "deno = [10, 20, 50, 100, 500, 2000]\n",
    "value = [1, 1, 1, 20, 4, 5]\n",
    "\n",
    "#bill=Bill(items,price)\n",
    "#bill.display()\n",
    "\n",
    "cash=CashPayment(items,price,deno,value)\n",
    "cash.show_cash_payment()"
   ]
  },
  {
   "cell_type": "code",
   "execution_count": 11,
   "id": "2733fff2",
   "metadata": {},
   "outputs": [
    {
     "name": "stdout",
     "output_type": "stream",
     "text": [
      "Would you like to pay by cheque or cash (1/2): 1\n",
      "Enter the name of the bank: SBI\n",
      "Enter the cheque number: 1212\n",
      "Item \t\t\t Price\n",
      "External Hard Disk \t 5000\n",
      "RAM \t 2000\n",
      "Printer \t 6000\n",
      "Pen Drive \t 800\n",
      "**********\n",
      "Total  13800\n",
      "Cheque no  1212\n",
      "Bank Name  SBI\n"
     ]
    }
   ],
   "source": [
    "items = [\"External Hard Disk\", \"RAM\", \"Printer\", \"Pen Drive\"]\n",
    "price = [5000, 2000, 6000, 800]\n",
    "\n",
    "option = int(input(\"Would you like to pay by cheque or cash (1/2): \"))\n",
    "\n",
    "if option==1:\n",
    "    name = input(\"Enter the name of the bank: \")\n",
    "    cno = input(\"Enter the cheque number: \")\n",
    "    cheque=ChequePayment(items, price, cno, name)\n",
    "    cheque.show_cheque_payment()\n",
    "else:\n",
    "    deno = [10, 20, 50, 100, 500, 2000]\n",
    "    value = [1, 1, 1, 20, 4, 5]\n",
    "    \n",
    "    cash=CashPayment(items,price,deno,value)\n",
    "    cash.show_cash_payment()"
   ]
  },
  {
   "cell_type": "code",
   "execution_count": null,
   "id": "3d0a6190",
   "metadata": {},
   "outputs": [],
   "source": [
    "import nlpcloud\n",
    "\n",
    "client = nlpcloud.Client(\"finetuned-gpt-neox-20b\", \"2b58d7fb9af09e617ee525e78c7766b6d8c5bb61\", gpu=True, lang=\"en\")\n",
    "client.entities(\"\"\"John Doe started learning Javascript when he was 15 years old. After a couple of years he switched to Python and starter learning low level programming. He is now a Go expert at Google.\"\"\", searched_entity=\"programming languages\")"
   ]
  }
 ],
 "metadata": {
  "kernelspec": {
   "display_name": "Python 3 (ipykernel)",
   "language": "python",
   "name": "python3"
  },
  "language_info": {
   "codemirror_mode": {
    "name": "ipython",
    "version": 3
   },
   "file_extension": ".py",
   "mimetype": "text/x-python",
   "name": "python",
   "nbconvert_exporter": "python",
   "pygments_lexer": "ipython3",
   "version": "3.9.13"
  }
 },
 "nbformat": 4,
 "nbformat_minor": 5
}
