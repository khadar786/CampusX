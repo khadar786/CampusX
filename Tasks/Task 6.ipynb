{
 "cells": [
  {
   "cell_type": "markdown",
   "id": "3db8896f",
   "metadata": {},
   "source": [
    "### **`Problem-1:`** Write a Python function that takes a list and returns a new list with unique elements of the first list.\n",
    "\n",
    "**Exercise 1:**\n",
    "\n",
    "Input:\n",
    "\n",
    "```bash\n",
    "[1,2,3,3,3,3,4,5]\n",
    "```\n",
    "\n",
    "Output:\n",
    "\n",
    "```bash\n",
    "[1, 2, 3, 4, 5]\n",
    "```"
   ]
  },
  {
   "cell_type": "code",
   "execution_count": 2,
   "id": "ab77e991",
   "metadata": {},
   "outputs": [
    {
     "data": {
      "text/plain": [
       "[1, 2, 3, 4, 5]"
      ]
     },
     "execution_count": 2,
     "metadata": {},
     "output_type": "execute_result"
    }
   ],
   "source": [
    "def uniqueElements(L):\n",
    "    unique=[]\n",
    "    \n",
    "    for i in L:\n",
    "        if i not in unique:\n",
    "            unique.append(i)\n",
    "    return unique\n",
    "\n",
    "L=[1,2,3,3,3,3,4,5]\n",
    "uniqueElements(L)"
   ]
  },
  {
   "cell_type": "markdown",
   "id": "e5bf23bc",
   "metadata": {},
   "source": [
    "### **`Problem-2:`** Write a Python function that accepts a hyphen-separated sequence of words as parameter and returns the words in a hyphen-separated sequence after sorting them alphabetically.\n",
    "\n",
    "**Example 1:**\n",
    "\n",
    "Input:\n",
    "```bash\n",
    "green-red-yellow-black-white\n",
    "```\n",
    "\n",
    "Output:\n",
    "```bash\n",
    "black-green-red-white-yellow\n",
    "```"
   ]
  },
  {
   "cell_type": "code",
   "execution_count": 6,
   "id": "8f411d6c",
   "metadata": {},
   "outputs": [
    {
     "name": "stdout",
     "output_type": "stream",
     "text": [
      "black-green-red-white-yellow\n"
     ]
    }
   ],
   "source": [
    "def wordsSorting(s):\n",
    "    words=[]\n",
    "    for i in s.split(\"-\"):\n",
    "        words.append(i)\n",
    "    \n",
    "    return \"-\".join(sorted(words))\n",
    "    \n",
    "s=\"green-red-yellow-black-white\"\n",
    "result=wordsSorting(s)\n",
    "print(result)"
   ]
  },
  {
   "cell_type": "markdown",
   "id": "817e2774",
   "metadata": {},
   "source": [
    "### **`Problem 3:`** Write a Python function that accepts a string and calculate the number of upper case letters and lower case letters.\n",
    "\n",
    "```\n",
    "Sample String : 'CampusX is an Online Mentorship Program fOr EnginEering studentS.'\n",
    "Expected Output :\n",
    "No. of Upper case characters :  9\n",
    "No. of Lower case Characters :  47\n",
    "```"
   ]
  },
  {
   "cell_type": "code",
   "execution_count": 12,
   "id": "b92abae5",
   "metadata": {},
   "outputs": [
    {
     "name": "stdout",
     "output_type": "stream",
     "text": [
      "No. of Upper case characters :  9 \n",
      "No. of Lower case Characters :  47\n"
     ]
    }
   ],
   "source": [
    "def calculateUpperAndLower(s):\n",
    "    upper_count=sum([1 for i in s if i.isupper()])\n",
    "    lower_count=sum([1 for i in s if i.islower()])\n",
    "    return upper_count,lower_count\n",
    "\n",
    "sample_str='CampusX is an Online Mentorship Program fOr EnginEering studentS.'\n",
    "upper_count,lower_count=calculateUpperAndLower(sample_str)\n",
    "print(\"No. of Upper case characters :  {} \\nNo. of Lower case Characters :  {}\".format(upper_count,lower_count))"
   ]
  },
  {
   "cell_type": "markdown",
   "id": "a6ebb368",
   "metadata": {},
   "source": [
    "### **`Problem 4:`** Write a Python program to print the even numbers from a given list.\n",
    "```\n",
    "Sample List : [1, 2, 3, 4, 5, 6, 7, 8, 9]\n",
    "Expected Result : [2, 4, 6, 8]"
   ]
  },
  {
   "cell_type": "code",
   "execution_count": 13,
   "id": "ca2bcf94",
   "metadata": {},
   "outputs": [
    {
     "name": "stdout",
     "output_type": "stream",
     "text": [
      "[2, 4, 6, 8]\n"
     ]
    }
   ],
   "source": [
    "def isEven(L):\n",
    "    result=[i for i in L if i%2==0]\n",
    "    return result\n",
    "\n",
    "L=[1, 2, 3, 4, 5, 6, 7, 8, 9] \n",
    "result=isEven(L)\n",
    "print(result)"
   ]
  },
  {
   "cell_type": "markdown",
   "id": "d0789c5f",
   "metadata": {},
   "source": [
    "### **`Problem 5:`** Write a Python function to check whether a number is perfect or not.\n",
    "\n",
    "A Perfect number is a number that is half the sum of all of its positive divisors (including itself).\n",
    "\n",
    "Example : \n",
    "\n",
    "```\n",
    "The first perfect number is 6, because 1, 2, and 3 are its proper positive divisors, and 1 + 2 + 3 = 6. \n",
    "Equivalently, the number 6 is equal to half the sum of all its positive divisors: ( 1 + 2 + 3 + 6 ) / 2 = 6. \n",
    "\n",
    "The next perfect number is 28 = 1 + 2 + 4 + 7 + 14. This is followed by the perfect numbers 496 and 8128."
   ]
  },
  {
   "cell_type": "code",
   "execution_count": 18,
   "id": "7263ef85",
   "metadata": {},
   "outputs": [
    {
     "data": {
      "text/plain": [
       "True"
      ]
     },
     "execution_count": 18,
     "metadata": {},
     "output_type": "execute_result"
    }
   ],
   "source": [
    "def isPerfectNumerb(num):\n",
    "    sum=0\n",
    "    \n",
    "    for i in range(1,num):\n",
    "        if num%i==0:\n",
    "            sum+=i\n",
    "            \n",
    "    return sum==num\n",
    "\n",
    "isPerfectNumerb(28)"
   ]
  },
  {
   "cell_type": "markdown",
   "id": "1e4a2337",
   "metadata": {},
   "source": [
    "### **`Problem-6:`** Write a Python function to concatenate any no of dictionaries to create a new one.\n",
    "\n",
    "```\n",
    "Sample Dictionary :\n",
    "dic1={1:10, 2:20}\n",
    "dic2={3:30, 4:40}\n",
    "dic3={5:50,6:60}\n",
    "Expected Result : {1: 10, 2: 20, 3: 30, 4: 40, 5: 50, 6: 60}\n",
    "```"
   ]
  },
  {
   "cell_type": "code",
   "execution_count": 20,
   "id": "81bf058e",
   "metadata": {},
   "outputs": [
    {
     "name": "stdout",
     "output_type": "stream",
     "text": [
      "{1: 10, 2: 20, 3: 30, 4: 40, 5: 50, 6: 60}\n"
     ]
    }
   ],
   "source": [
    "def concatenateDict(*args):\n",
    "    d={}\n",
    "    for i in args:\n",
    "        d.update(i)\n",
    "    return d\n",
    "\n",
    "dic1={1:10, 2:20}\n",
    "dic2={3:30, 4:40}\n",
    "dic3={5:50,6:60}\n",
    "result=concatenateDict(dic1,dic2,dic3)\n",
    "print(result)"
   ]
  },
  {
   "cell_type": "markdown",
   "id": "265c585c",
   "metadata": {},
   "source": [
    "`Problem-7` Write a python function that accepts a string as input and returns the word with most occurence.\n",
    "\n",
    "```\n",
    "Input:\n",
    "hello how are you i am fine thank you\n",
    "```\n",
    "\n",
    "```\n",
    "Output\n",
    "you -> 2\n",
    "```"
   ]
  },
  {
   "cell_type": "code",
   "execution_count": 22,
   "id": "1ad6c177",
   "metadata": {},
   "outputs": [
    {
     "name": "stdout",
     "output_type": "stream",
     "text": [
      "you -> 2\n"
     ]
    }
   ],
   "source": [
    "def mostOccurence(s):\n",
    "    d={}\n",
    "    \n",
    "    for i in s.split():\n",
    "        if i in d:\n",
    "            d[i]=d[i]+1\n",
    "        else:\n",
    "            d[i]=1\n",
    "   \n",
    "    max_value=max(d.values())\n",
    "    for i in d:\n",
    "        if d[i]==max_value:\n",
    "            print(i,'->',max_value)\n",
    "            break\n",
    "\n",
    "input_str='hello how are you i am fine thank you'\n",
    "mostOccurence(input_str)"
   ]
  },
  {
   "cell_type": "markdown",
   "id": "7964bd5f",
   "metadata": {},
   "source": [
    "`Problem-8` Write a python function that receives a list of integers and prints out a histogram of bin size 10\n",
    "\n",
    "```\n",
    "Input:\n",
    "[13,42,15,37,22,39,41,50]\n",
    "```\n",
    "\n",
    "```\n",
    "Output:\n",
    "{11-20:2,21-30:1,31-40:2,41-50:3}\n",
    "```"
   ]
  },
  {
   "cell_type": "code",
   "execution_count": 25,
   "id": "d05115de",
   "metadata": {},
   "outputs": [
    {
     "data": {
      "text/plain": [
       "{'11-20': 2, '21-30': 1, '31-40': 2, '41-50': 3}"
      ]
     },
     "execution_count": 25,
     "metadata": {},
     "output_type": "execute_result"
    }
   ],
   "source": [
    "import math\n",
    "\n",
    "def histogram(L):\n",
    "    d={}\n",
    "    min_bin=math.floor(min(L)/10)*10\n",
    "    max_bin=math.ceil(max(L)/10)*10\n",
    "    \n",
    "    for i in range(min_bin,max_bin,10):\n",
    "        count=0\n",
    "        for j in L:\n",
    "            if i+1<=j<=i+10:\n",
    "                count+=1\n",
    "        \n",
    "        d[str(i+1)+'-'+str(i+10)]=count\n",
    "    \n",
    "    return d\n",
    "\n",
    "L=[13,42,15,37,22,39,41,50]\n",
    "histogram(L)"
   ]
  },
  {
   "cell_type": "markdown",
   "id": "ebb93792",
   "metadata": {},
   "source": [
    "`Problem-9` Write a python function that accepts a list of 2D co-ordinates and a query point, and then finds the the co-ordinate which is closest in terms of distance from the query point.\n",
    "\n",
    "```\n",
    "List of Coordinates\n",
    "[(1,1),(2,2),(3,3),(4,4)]\n",
    "Query Point\n",
    "(0,0)\n",
    "```\n",
    "\n",
    "```\n",
    "Output\n",
    "Nearest to (0,0) is (1,1)\n",
    "```"
   ]
  },
  {
   "cell_type": "code",
   "execution_count": 39,
   "id": "25ae9a5b",
   "metadata": {},
   "outputs": [
    {
     "name": "stdout",
     "output_type": "stream",
     "text": [
      "(1, 1)\n",
      "(2, 2)\n",
      "(3, 3)\n",
      "(4, 4)\n",
      "Nearest to (0, 0) is (1, 1)\n"
     ]
    }
   ],
   "source": [
    "# Distance b/w given any two points\n",
    "# AB=sqrt((x1-x2)**2+ (y1-y2)**2)\n",
    "\n",
    "def short_distance(points,query):\n",
    "    temp=[]\n",
    "    for i in points:\n",
    "        print(i)\n",
    "        distance=((i[0]-query[0])**2 + (i[1]-query[1]))**0.5\n",
    "        temp.append(distance)\n",
    "    \n",
    "    return points[sorted(list(enumerate(temp)),key=lambda x:x[1])[0][0]]\n",
    "\n",
    "points=[(1,1),(2,2),(3,3),(4,4)]\n",
    "query=(0,0)\n",
    "\n",
    "print(\"Nearest to {} is {}\".format(query,short_distance(points,query)))\n"
   ]
  },
  {
   "cell_type": "markdown",
   "id": "9960ed16",
   "metadata": {},
   "source": [
    "`Problem-10`:Write a python program that receives a list of strings and performs bag of word operation on those strings\n",
    "\n",
    "https://en.wikipedia.org/wiki/Bag-of-words_model"
   ]
  },
  {
   "cell_type": "code",
   "execution_count": 49,
   "id": "e9238ce3",
   "metadata": {},
   "outputs": [
    {
     "name": "stdout",
     "output_type": "stream",
     "text": [
      "{'cat', 'rat', 'fat', 'pat', 'bat', 'sat', 'mat'}\n"
     ]
    },
    {
     "data": {
      "text/plain": [
       "[[2, 1, 0, 0, 0, 0, 1], [1, 1, 1, 0, 1, 1, 0], [1, 1, 0, 1, 0, 0, 1]]"
      ]
     },
     "execution_count": 49,
     "metadata": {},
     "output_type": "execute_result"
    }
   ],
   "source": [
    "def baw(L):\n",
    "    vocab=set()\n",
    "    \n",
    "    for i in L:\n",
    "        vocab.update(i.split())\n",
    "    \n",
    "    result=[]\n",
    "    for i in L:\n",
    "        result.append([])\n",
    "        for j in vocab:\n",
    "               result[-1].append(i.count(j))\n",
    "    \n",
    "    print(vocab)\n",
    "    return result\n",
    "\n",
    "L = [\n",
    "    'cat mat rat cat',\n",
    "     'sat bat fat cat rat',\n",
    "     'pat cat mat rat'\n",
    "]\n",
    "\n",
    "baw(L)"
   ]
  },
  {
   "cell_type": "markdown",
   "id": "35e63cbc",
   "metadata": {},
   "source": [
    "### `Problem 11:` Write a Python program to add three given lists using Python map and lambda."
   ]
  },
  {
   "cell_type": "code",
   "execution_count": 51,
   "id": "13bf3dd0",
   "metadata": {},
   "outputs": [
    {
     "data": {
      "text/plain": [
       "[12, 15, 18]"
      ]
     },
     "execution_count": 51,
     "metadata": {},
     "output_type": "execute_result"
    }
   ],
   "source": [
    "# Write code here\n",
    "L1 = [1,2,3]\n",
    "L2 = [4,5,6]\n",
    "L3 = [7,8,9]\n",
    "\n",
    "list(map(lambda a,b,c:a+b+c,L1,L2,L3))"
   ]
  },
  {
   "cell_type": "markdown",
   "id": "30acc754",
   "metadata": {},
   "source": [
    "### `Problem-12:`Write a Python program to create a list containing the power of said number in bases raised to the corresponding number in the index using Python map.\n",
    "`Input:`\n",
    "```\n",
    "list1 = [1,2,3,4,5,6]\n",
    "```\n",
    "`Output:`\n",
    "```\n",
    "[1,2,9,64,625,-]\n",
    "```\n"
   ]
  },
  {
   "cell_type": "code",
   "execution_count": 53,
   "id": "b34f6540",
   "metadata": {},
   "outputs": [
    {
     "data": {
      "text/plain": [
       "[1, 2, 9, 64, 625, 7776]"
      ]
     },
     "execution_count": 53,
     "metadata": {},
     "output_type": "execute_result"
    }
   ],
   "source": [
    "list1 = [1,2,3,4,5,6]\n",
    "list(map(lambda x,y:x**y,list1,range(len(list1))))"
   ]
  },
  {
   "cell_type": "markdown",
   "id": "1ffe68df",
   "metadata": {},
   "source": [
    "### `Problem-13` Using filter() and list() functions and .lower() method filter all the vowels in a given string.\n"
   ]
  },
  {
   "cell_type": "code",
   "execution_count": 55,
   "id": "261fdc10",
   "metadata": {},
   "outputs": [
    {
     "data": {
      "text/plain": [
       "['I', 'A', 'o', 'u', 'i', 'i', 'a', 'e', 'a', 'e', 'i', 'a', 'a']"
      ]
     },
     "execution_count": 55,
     "metadata": {},
     "output_type": "execute_result"
    }
   ],
   "source": [
    "str1=\"FIFA world cup in 2022 will take place in Qatar\"\n",
    "\n",
    "list(filter(lambda s:True if s.lower() in 'aeiou' else False,str1))"
   ]
  },
  {
   "cell_type": "markdown",
   "id": "417e3af8",
   "metadata": {},
   "source": [
    "`Problem-14`: Use reduce to convert a 2D list to 1D"
   ]
  },
  {
   "cell_type": "code",
   "execution_count": 56,
   "id": "ea45c548",
   "metadata": {},
   "outputs": [
    {
     "data": {
      "text/plain": [
       "[1, 2, 3, 3, 6, 7, 7, 5, 4]"
      ]
     },
     "execution_count": 56,
     "metadata": {},
     "output_type": "execute_result"
    }
   ],
   "source": [
    "ini_list = [[1, 2, 3],\n",
    "            [3, 6, 7],\n",
    "            [7, 5, 4]]\n",
    "\n",
    "import functools\n",
    "functools.reduce(lambda x,y:x+y,ini_list)"
   ]
  },
  {
   "cell_type": "markdown",
   "id": "50730e75",
   "metadata": {},
   "source": [
    "`Problem 15`- A dictionary contains following information about 5 employees:\n",
    "- First name\n",
    "- Last name\n",
    "- Age\n",
    "- Grade(Skilled,Semi-skilled,Highly skilled)<br>\n",
    "Write a program using map/filter/reduce to a list of employees(first name + last name) who are highly skilled"
   ]
  },
  {
   "cell_type": "code",
   "execution_count": 59,
   "id": "a4f0dc89",
   "metadata": {},
   "outputs": [
    {
     "data": {
      "text/plain": [
       "['Neha Singh', 'Abhinav Sharma']"
      ]
     },
     "execution_count": 59,
     "metadata": {},
     "output_type": "execute_result"
    }
   ],
   "source": [
    "# Write code here\n",
    "employees = [\n",
    "    {\n",
    "        'fname':'Nitish',\n",
    "        'lname':'Singh',\n",
    "        'age' : 33,\n",
    "        'grade':'skilled'\n",
    "    },\n",
    "    {\n",
    "        'fname':'Ankit',\n",
    "        'lname':'Verma',\n",
    "        'age' : 34,\n",
    "        'grade':'semi-skilled'\n",
    "    },\n",
    "    {\n",
    "        'fname':'Neha',\n",
    "        'lname':'Singh',\n",
    "        'age' : 35,\n",
    "        'grade':'highly-skilled'\n",
    "    },\n",
    "    {\n",
    "        'fname':'Anurag',\n",
    "        'lname':'Kumar',\n",
    "        'age' : 30,\n",
    "        'grade':'skilled'\n",
    "    },\n",
    "    {\n",
    "        'fname':'Abhinav',\n",
    "        'lname':'Sharma',\n",
    "        'age' : 37,\n",
    "        'grade':'highly-skilled'\n",
    "    }\n",
    "    \n",
    "]\n",
    "\n",
    "list(map(lambda x:x['fname']+' '+x['lname'],list(filter(lambda x:True if x['grade']=='highly-skilled' else False,employees))))"
   ]
  },
  {
   "cell_type": "code",
   "execution_count": null,
   "id": "3990ce5f",
   "metadata": {},
   "outputs": [],
   "source": []
  }
 ],
 "metadata": {
  "kernelspec": {
   "display_name": "Python 3 (ipykernel)",
   "language": "python",
   "name": "python3"
  },
  "language_info": {
   "codemirror_mode": {
    "name": "ipython",
    "version": 3
   },
   "file_extension": ".py",
   "mimetype": "text/x-python",
   "name": "python",
   "nbconvert_exporter": "python",
   "pygments_lexer": "ipython3",
   "version": "3.11.4"
  }
 },
 "nbformat": 4,
 "nbformat_minor": 5
}
