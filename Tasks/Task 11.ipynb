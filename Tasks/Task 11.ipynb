{
 "cells": [
  {
   "cell_type": "markdown",
   "id": "975ade5b",
   "metadata": {},
   "source": [
    "### `Q-1`: You are given a function definition. There might be several issues on execution of this function. You are asked to do exception handling for diffrent errors that this function goes in to `without altering this function`. And print error text.\n"
   ]
  },
  {
   "cell_type": "markdown",
   "id": "c746d885",
   "metadata": {},
   "source": [
    "Function parameters `l -> list, s -> could be anything`\n",
    "\n",
    "```\n",
    "def function(l: list, s, **args):\n",
    "    last_element = l[-1]\n",
    "    \n",
    "    l[int(s)]=10\n",
    "    any_element = l[int(s)+10]\n",
    "    l[s]=10\n",
    "    \n",
    "    res = sum(l)\n",
    "    \n",
    "    p = args['p']\n",
    "    # print(p)\n",
    "    return res/last_element * p + any_element\n",
    "\n",
    "```\n",
    "Check for different function calls:-\n",
    "\n",
    "```\n",
    "function([1,2,1], 12)\n",
    "function([1,2,1]*9, '1-2')\n",
    "function([1,'2',1]*9, 12)\n",
    "function([1,'2',1]*9, 12)\n",
    "function([1,2,0]*9, 12  )\n",
    "function([1,2,1]*9, 12, p=None)\n",
    "function([1,2,0]*9, 12, p=10)\n",
    "```"
   ]
  },
  {
   "cell_type": "code",
   "execution_count": 40,
   "id": "2a7f38a9",
   "metadata": {},
   "outputs": [
    {
     "name": "stdout",
     "output_type": "stream",
     "text": [
      "Result : 452.0\n",
      "Thank you\n"
     ]
    }
   ],
   "source": [
    "def function(l: list, s, **args):\n",
    "        last_element = l[-1]\n",
    "\n",
    "        l[int(s)]=10\n",
    "        any_element = l[int(s)+10]\n",
    "        l[s]=10\n",
    "\n",
    "        res = sum(l)\n",
    "        p = args['p']\n",
    "        # print(p)\n",
    "        return res/last_element * p + any_element\n",
    "\n",
    "try:\n",
    "#     function([1,2,1], 12)\n",
    "#     function([1,2,1]*9, '1-2')\n",
    "#     function([1,'2',1]*9, 12)\n",
    "#     function([1,'2',1]*9, 12)\n",
    "#     function([1,2,0]*9, 12  )\n",
    "#     function([1,2,1]*9, 12, p=None)\n",
    "    res=function([1,2,1]*9, 12, p=10)\n",
    "except IndexError:\n",
    "    print('index out of range')\n",
    "except ValueError:\n",
    "    print(\"invalid literal for int() with base 10: '1-2'\")\n",
    "except TypeError:\n",
    "    print(\"unsupported operand type(s) for +: 'int' and 'str'\")\n",
    "except KeyError:\n",
    "    print('key not found p')\n",
    "except ZeroDivisionError:\n",
    "    print('division by zero')\n",
    "except Exception as e:\n",
    "    print(e)\n",
    "else:\n",
    "    print('Result :',res)\n",
    "finally:\n",
    "    print('Thank you')\n",
    "    \n"
   ]
  },
  {
   "cell_type": "markdown",
   "id": "bdff84fb",
   "metadata": {},
   "source": [
    "###`Q-2:` You are given a code snippet. There might be several issues on execution of this code. You are asked to do exception handling for diffrent errors, condition is what ever happens we need to execute last line printing correct result of `sum of elements`.\n",
    "\n",
    "List have elemnts as any no of  `key-pair dict with key as list index and value as any integer`, `integers` and `numeric-strings`. There is always only one element in the dict.\n",
    "\n",
    "\n",
    "```\n",
    "l = [{0:2},2,3,4,'5', {5:10}]\n",
    "# For calculating sum of above list\n",
    "s=0\n",
    "for i in range(len(l)):\n",
    "    #You can Edit code from here\n",
    "    s += l[i].get(i)\n",
    "    s += l[i]\n",
    "    s += int(l[i])\n",
    "\n",
    "\n",
    "print(s)\n",
    "```"
   ]
  },
  {
   "cell_type": "code",
   "execution_count": 46,
   "id": "1222deb1",
   "metadata": {},
   "outputs": [
    {
     "name": "stdout",
     "output_type": "stream",
     "text": [
      "26\n"
     ]
    }
   ],
   "source": [
    "l = [{0:2},2,3,4,'5', {5:10}]\n",
    "# try:\n",
    "#     # For calculating sum of above list\n",
    "#     s=0\n",
    "#     for i in range(len(l)):\n",
    "#         #You can Edit code from here\n",
    "#         if type(l[i])==dict:\n",
    "#             s += l[i].get(i)\n",
    "#         elif type(l[i])==int:\n",
    "#             s += l[i]\n",
    "#         else:\n",
    "#             s += int(l[i])\n",
    "# except Exception as e:\n",
    "#     print(e)\n",
    "# else:\n",
    "#     print(s)\n",
    "    \n",
    "# For calculating sum of above list\n",
    "s=0\n",
    "for i in range(len(l)):\n",
    "    try:\n",
    "        s += l[i]\n",
    "    except TypeError:\n",
    "        try:\n",
    "            s+=l[i].get(i)\n",
    "        except AttributeError:\n",
    "            s += int(l[i])\n",
    "\n",
    "print(s)"
   ]
  },
  {
   "cell_type": "markdown",
   "id": "22ee180c",
   "metadata": {},
   "source": [
    "### `Q-3:`: File Handling with Exception handling\n",
    "\n",
    "Write a program that opens a text file and write data to it as \"Hello, Good Morning!!!\". Handle exceptions that can be generated during the I/O operations. Do not show the success message on the main exception handling block (write inside the else block)."
   ]
  },
  {
   "cell_type": "code",
   "execution_count": 48,
   "id": "ee644ed4",
   "metadata": {},
   "outputs": [
    {
     "name": "stdout",
     "output_type": "stream",
     "text": [
      "File written successfully\n"
     ]
    }
   ],
   "source": [
    "try:\n",
    "    with open('text_file.txt','w') as f:\n",
    "        f.write(\"Hello, Good Morning!!!\")\n",
    "except IOError:\n",
    "    print(\"Error working with file ..\")\n",
    "else:\n",
    "    print(\"File written successfully\")"
   ]
  },
  {
   "cell_type": "markdown",
   "id": "e04249da",
   "metadata": {},
   "source": [
    "###  `Q-4`: Number game program.\n",
    "\n",
    "Write a number game program. Ask the user to enter a number. If the number is greater than number to be guessed, raise a **ValueTooLarge** exception. If the value is smaller the number to be guessed the, raise a **ValueTooSmall** exception and prompt the user to enter again. Quit the program only when the user enters the correct number. Also raise **GuessError** if user guess a number less than 1."
   ]
  },
  {
   "cell_type": "code",
   "execution_count": null,
   "id": "21900204",
   "metadata": {},
   "outputs": [],
   "source": []
  }
 ],
 "metadata": {
  "kernelspec": {
   "display_name": "Python 3 (ipykernel)",
   "language": "python",
   "name": "python3"
  },
  "language_info": {
   "codemirror_mode": {
    "name": "ipython",
    "version": 3
   },
   "file_extension": ".py",
   "mimetype": "text/x-python",
   "name": "python",
   "nbconvert_exporter": "python",
   "pygments_lexer": "ipython3",
   "version": "3.9.13"
  }
 },
 "nbformat": 4,
 "nbformat_minor": 5
}
