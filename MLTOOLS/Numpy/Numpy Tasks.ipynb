{
 "cells": [
  {
   "cell_type": "code",
   "execution_count": 1,
   "id": "26279577",
   "metadata": {},
   "outputs": [],
   "source": [
    "import numpy as np"
   ]
  },
  {
   "cell_type": "code",
   "execution_count": 2,
   "id": "c3304253",
   "metadata": {},
   "outputs": [],
   "source": [
    "# Q1 Create a null vector of size 10 but the fifth value which is 1.\n"
   ]
  },
  {
   "cell_type": "code",
   "execution_count": 9,
   "id": "b6b95c39",
   "metadata": {},
   "outputs": [],
   "source": [
    "a=np.nan*np.empty(10)"
   ]
  },
  {
   "cell_type": "code",
   "execution_count": 11,
   "id": "21b571c8",
   "metadata": {},
   "outputs": [],
   "source": [
    "a[4]=1"
   ]
  },
  {
   "cell_type": "code",
   "execution_count": 12,
   "id": "d290eb50",
   "metadata": {},
   "outputs": [
    {
     "data": {
      "text/plain": [
       "array([nan, nan, nan, nan,  1., nan, nan, nan, nan, nan])"
      ]
     },
     "execution_count": 12,
     "metadata": {},
     "output_type": "execute_result"
    }
   ],
   "source": [
    "a"
   ]
  },
  {
   "cell_type": "code",
   "execution_count": 13,
   "id": "a2ba5b6a",
   "metadata": {},
   "outputs": [],
   "source": [
    "#Q-2 Ask user to input two numbers a, b. Write a program to generate a random array of shape (a, b) \n",
    "#and print the array and avg of the array."
   ]
  },
  {
   "cell_type": "code",
   "execution_count": 14,
   "id": "cb894cd5",
   "metadata": {},
   "outputs": [
    {
     "name": "stdout",
     "output_type": "stream",
     "text": [
      "Enter a value :3\n",
      "Enter b value :3\n"
     ]
    }
   ],
   "source": [
    "a=int(input(\"Enter a value :\"))\n",
    "b=int(input(\"Enter b value :\"))\n",
    "\n",
    "x=np.random.random((a,b))"
   ]
  },
  {
   "cell_type": "code",
   "execution_count": 15,
   "id": "91d8a448",
   "metadata": {},
   "outputs": [
    {
     "data": {
      "text/plain": [
       "array([[0.27708059, 0.17394667, 0.21337835],\n",
       "       [0.54843392, 0.55991004, 0.12097906],\n",
       "       [0.17842719, 0.4825535 , 0.59502315]])"
      ]
     },
     "execution_count": 15,
     "metadata": {},
     "output_type": "execute_result"
    }
   ],
   "source": [
    "x"
   ]
  },
  {
   "cell_type": "code",
   "execution_count": 16,
   "id": "56765951",
   "metadata": {},
   "outputs": [
    {
     "data": {
      "text/plain": [
       "0.34997027443214984"
      ]
     },
     "execution_count": 16,
     "metadata": {},
     "output_type": "execute_result"
    }
   ],
   "source": [
    "x.mean()"
   ]
  },
  {
   "cell_type": "code",
   "execution_count": 17,
   "id": "a3907dba",
   "metadata": {},
   "outputs": [],
   "source": [
    "#Q-3 Write a function to create a 2d array with 1 on the border and 0 inside. \n",
    "#Take 2-D array shape as (a,b) as parameter to function.\n",
    "\n",
    "# Eg.-\n",
    "# [[1,1,1,1],\n",
    "# [1,0,0,1],\n",
    "# [1,0,0,1],\n",
    "# [1,1,1,1]]"
   ]
  },
  {
   "cell_type": "code",
   "execution_count": 21,
   "id": "09cd48f4",
   "metadata": {},
   "outputs": [
    {
     "data": {
      "text/plain": [
       "array([[1., 1., 1., 1., 1.],\n",
       "       [1., 1., 1., 1., 1.],\n",
       "       [1., 1., 1., 1., 1.],\n",
       "       [1., 1., 1., 1., 1.]])"
      ]
     },
     "execution_count": 21,
     "metadata": {},
     "output_type": "execute_result"
    }
   ],
   "source": [
    "x=np.ones((4,5))\n",
    "x"
   ]
  },
  {
   "cell_type": "code",
   "execution_count": 33,
   "id": "0b019e8d",
   "metadata": {},
   "outputs": [],
   "source": [
    "x[1:-1,1:-1]=0"
   ]
  },
  {
   "cell_type": "code",
   "execution_count": 34,
   "id": "fed5c674",
   "metadata": {},
   "outputs": [
    {
     "data": {
      "text/plain": [
       "array([[1., 1., 1., 1., 1.],\n",
       "       [1., 0., 0., 0., 1.],\n",
       "       [1., 0., 0., 0., 1.],\n",
       "       [1., 1., 1., 1., 1.]])"
      ]
     },
     "execution_count": 34,
     "metadata": {},
     "output_type": "execute_result"
    }
   ],
   "source": [
    "x"
   ]
  },
  {
   "cell_type": "code",
   "execution_count": 35,
   "id": "438871e2",
   "metadata": {},
   "outputs": [],
   "source": [
    "# Q-4 Create a vector of size 10 with values ranging from 0 to 1, both excluded."
   ]
  },
  {
   "cell_type": "code",
   "execution_count": 50,
   "id": "53bd7624",
   "metadata": {},
   "outputs": [],
   "source": [
    "y=np.linspace(0,1,12,endpoint=True)[1:-1]"
   ]
  },
  {
   "cell_type": "code",
   "execution_count": 51,
   "id": "b519aee3",
   "metadata": {},
   "outputs": [
    {
     "data": {
      "text/plain": [
       "array([0.09090909, 0.18181818, 0.27272727, 0.36363636, 0.45454545,\n",
       "       0.54545455, 0.63636364, 0.72727273, 0.81818182, 0.90909091])"
      ]
     },
     "execution_count": 51,
     "metadata": {},
     "output_type": "execute_result"
    }
   ],
   "source": [
    "y"
   ]
  },
  {
   "cell_type": "code",
   "execution_count": 52,
   "id": "a2d6f946",
   "metadata": {},
   "outputs": [],
   "source": [
    "# Q-5 Can you create a identity mattrix of shape (3,4). If yes write code for it."
   ]
  },
  {
   "cell_type": "code",
   "execution_count": 58,
   "id": "aad73124",
   "metadata": {},
   "outputs": [
    {
     "data": {
      "text/plain": [
       "array([[1., 0., 0.],\n",
       "       [0., 1., 0.],\n",
       "       [0., 0., 1.]])"
      ]
     },
     "execution_count": 58,
     "metadata": {},
     "output_type": "execute_result"
    }
   ],
   "source": [
    "np.eye(3)"
   ]
  },
  {
   "cell_type": "code",
   "execution_count": 59,
   "id": "8d4af3c3",
   "metadata": {},
   "outputs": [
    {
     "data": {
      "text/plain": [
       "array([[1., 0., 0., 0.],\n",
       "       [0., 1., 0., 0.],\n",
       "       [0., 0., 1., 0.],\n",
       "       [0., 0., 0., 1.]])"
      ]
     },
     "execution_count": 59,
     "metadata": {},
     "output_type": "execute_result"
    }
   ],
   "source": [
    "np.identity(4)"
   ]
  },
  {
   "cell_type": "code",
   "execution_count": 60,
   "id": "560f6c07",
   "metadata": {},
   "outputs": [],
   "source": [
    "# Q-6: Create a 5x5 matrix with row values ranging from 0 to 4."
   ]
  },
  {
   "cell_type": "code",
   "execution_count": 63,
   "id": "7c1a9804",
   "metadata": {},
   "outputs": [
    {
     "data": {
      "text/plain": [
       "array([[0., 1., 2., 3., 4.],\n",
       "       [0., 1., 2., 3., 4.],\n",
       "       [0., 1., 2., 3., 4.],\n",
       "       [0., 1., 2., 3., 4.],\n",
       "       [0., 1., 2., 3., 4.]])"
      ]
     },
     "execution_count": 63,
     "metadata": {},
     "output_type": "execute_result"
    }
   ],
   "source": [
    "z=np.zeros((5,5))\n",
    "z+=np.arange(5)\n",
    "z"
   ]
  },
  {
   "cell_type": "code",
   "execution_count": 68,
   "id": "3297af95",
   "metadata": {},
   "outputs": [
    {
     "data": {
      "text/plain": [
       "array([ 26,  85, 121, 114, 128,  68, 102,  81,  83,  99])"
      ]
     },
     "execution_count": 68,
     "metadata": {},
     "output_type": "execute_result"
    }
   ],
   "source": [
    "# Q-7: Consider a random integer (in range 1 to 100) vector with shape (10,2) representing coordinates, \n",
    "# and coordinates of a point as array is given. Create an array of distance of each point in the random vectros \n",
    "# from the given point. Distance array should be interger type.\n",
    "\n",
    "p=np.array([2,3])\n",
    "a=np.random.randint(1,100,(10,2))\n",
    "np.sqrt(np.sum((a-p)**2,axis=1)).astype(int)"
   ]
  },
  {
   "cell_type": "code",
   "execution_count": 69,
   "id": "cb0216df",
   "metadata": {},
   "outputs": [],
   "source": [
    "# Q-8: Consider a (6,7,8) shape array, what is the index (x,y,z) of the 100th element?"
   ]
  },
  {
   "cell_type": "code",
   "execution_count": 71,
   "id": "7d355e96",
   "metadata": {},
   "outputs": [
    {
     "data": {
      "text/plain": [
       "(1, 5, 4)"
      ]
     },
     "execution_count": 71,
     "metadata": {},
     "output_type": "execute_result"
    }
   ],
   "source": [
    "np.unravel_index(100,(6,7,8))"
   ]
  },
  {
   "cell_type": "code",
   "execution_count": 72,
   "id": "af19da44",
   "metadata": {},
   "outputs": [],
   "source": [
    "# Q-9: Arrays\n",
    "# You are given a space separated list of numbers. Your task is to print a reversed NumPy array with the element type float."
   ]
  },
  {
   "cell_type": "code",
   "execution_count": 74,
   "id": "4f6558da",
   "metadata": {},
   "outputs": [
    {
     "name": "stdout",
     "output_type": "stream",
     "text": [
      "1 2 3 4 -8 -10\n"
     ]
    },
    {
     "data": {
      "text/plain": [
       "array([-10.,  -8.,   4.,   3.,   2.,   1.], dtype=float32)"
      ]
     },
     "execution_count": 74,
     "metadata": {},
     "output_type": "execute_result"
    }
   ],
   "source": [
    "# Input Format:\n",
    "# A single line of input containing space separated numbers.\n",
    "# Output Format:\n",
    "# Print the reverse NumPy array with type float.\n",
    "\n",
    "# Example 1:\n",
    "# Input:\n",
    "# 1 2 3 4 -8 -10\n",
    "\n",
    "a=input().strip().split()\n",
    "np.array(a[::-1],dtype=np.float32)"
   ]
  },
  {
   "cell_type": "code",
   "execution_count": 75,
   "id": "bb17ab9a",
   "metadata": {},
   "outputs": [],
   "source": [
    "#Q-10: Elements count\n",
    "#Count the number of elements of a numpy array."
   ]
  },
  {
   "cell_type": "code",
   "execution_count": 76,
   "id": "ccfe329d",
   "metadata": {},
   "outputs": [
    {
     "data": {
      "text/plain": [
       "array([], dtype=float64)"
      ]
     },
     "execution_count": 76,
     "metadata": {},
     "output_type": "execute_result"
    }
   ],
   "source": [
    "np.array([])"
   ]
  },
  {
   "cell_type": "code",
   "execution_count": 78,
   "id": "9cc547e0",
   "metadata": {},
   "outputs": [
    {
     "name": "stdout",
     "output_type": "stream",
     "text": [
      "elements_count  : 0\n"
     ]
    }
   ],
   "source": [
    "print(\"elements_count  :\",len(np.array([])))"
   ]
  },
  {
   "cell_type": "code",
   "execution_count": 79,
   "id": "be696352",
   "metadata": {},
   "outputs": [
    {
     "name": "stdout",
     "output_type": "stream",
     "text": [
      "elements_count  : 2\n"
     ]
    }
   ],
   "source": [
    "print(\"elements_count  :\",len(np.array([1, 2])))"
   ]
  },
  {
   "cell_type": "code",
   "execution_count": 80,
   "id": "09264d50",
   "metadata": {},
   "outputs": [
    {
     "data": {
      "text/plain": [
       "6"
      ]
     },
     "execution_count": 80,
     "metadata": {},
     "output_type": "execute_result"
    }
   ],
   "source": [
    "a=np.array([])\n",
    "a=np.array([1,2])\n",
    "a=np.zeros((2,3))\n",
    "a.size"
   ]
  },
  {
   "cell_type": "code",
   "execution_count": null,
   "id": "6047c3bb",
   "metadata": {},
   "outputs": [],
   "source": []
  }
 ],
 "metadata": {
  "kernelspec": {
   "display_name": "Python 3 (ipykernel)",
   "language": "python",
   "name": "python3"
  },
  "language_info": {
   "codemirror_mode": {
    "name": "ipython",
    "version": 3
   },
   "file_extension": ".py",
   "mimetype": "text/x-python",
   "name": "python",
   "nbconvert_exporter": "python",
   "pygments_lexer": "ipython3",
   "version": "3.9.13"
  }
 },
 "nbformat": 4,
 "nbformat_minor": 5
}
