{
 "cells": [
  {
   "cell_type": "markdown",
   "id": "b9d9aca3",
   "metadata": {},
   "source": [
    "## **Questions based on Titanic Dataset:**\n",
    "\n",
    "To read the dataset as csv, use the below code:\n",
    "\n",
    "```python\n",
    "import pandas as pd\n",
    "\n",
    "url = \"https://docs.google.com/spreadsheets/d/e/2PACX-1vQjh5HzZ1N0SU7ME9ZQRzeVTaXaGsV97rU8R7eAcg53k27GTstJp9cRUOfr55go1GRRvTz1NwvyOnuh/pub?gid=1562145139&single=true&output=csv\"\n",
    "titanic_df = pd.read_csv(url)\n",
    "```"
   ]
  },
  {
   "cell_type": "code",
   "execution_count": 7,
   "id": "f0ac4c58",
   "metadata": {},
   "outputs": [],
   "source": [
    "import pandas as pd\n",
    "import numpy as np\n",
    "url = \"https://docs.google.com/spreadsheets/d/e/2PACX-1vQjh5HzZ1N0SU7ME9ZQRzeVTaXaGsV97rU8R7eAcg53k27GTstJp9cRUOfr55go1GRRvTz1NwvyOnuh/pub?gid=1562145139&single=true&output=csv\"\n",
    "titanic_df = pd.read_csv(url)"
   ]
  },
  {
   "cell_type": "markdown",
   "id": "41471d55",
   "metadata": {},
   "source": [
    "### `Q-1:` Using `groupby` make groups using the `\"Pclass\"` column and find out the average age and total number of missing values in the `\"Age\"` column for every group."
   ]
  },
  {
   "cell_type": "code",
   "execution_count": 22,
   "id": "0bd890bf",
   "metadata": {},
   "outputs": [
    {
     "name": "stdout",
     "output_type": "stream",
     "text": [
      "Pclass 1 : Avg Age 38.233440860215055and total number of missing values in the Age 30\n",
      "Pclass 2 : Avg Age 29.87763005780347and total number of missing values in the Age 11\n",
      "Pclass 3 : Avg Age 25.14061971830986and total number of missing values in the Age 136\n"
     ]
    }
   ],
   "source": [
    "pclass_groups=titanic_df.groupby('Pclass')\n",
    "\n",
    "#print(pclass_groups.groups.keys())\n",
    "for group in list(pclass_groups.groups.keys()):\n",
    "    print(f\"Pclass {group} : Avg Age {pclass_groups.get_group(group)['Age'].mean()}and total number of missing values in the Age {pclass_groups.get_group(group)['Age'].isna().sum()}\")"
   ]
  },
  {
   "cell_type": "markdown",
   "id": "deeaa72c",
   "metadata": {},
   "source": [
    "### `Q-2:` Using `groupby` make groups using the `\"Pclass\"` column and fill every group's `\"Embarked\"` column's missing values with the mode value of that group. After that, print every group's `\"Embarked\"` column's value counts in ascending order."
   ]
  },
  {
   "cell_type": "code",
   "execution_count": 23,
   "id": "31ed727f",
   "metadata": {},
   "outputs": [
    {
     "name": "stdout",
     "output_type": "stream",
     "text": [
      "Q      2\n",
      "C     85\n",
      "S    127\n",
      "Name: Embarked, dtype: int64\n",
      "Q      3\n",
      "C     17\n",
      "S    164\n",
      "Name: Embarked, dtype: int64\n",
      "C     66\n",
      "Q     72\n",
      "S    353\n",
      "Name: Embarked, dtype: int64\n"
     ]
    }
   ],
   "source": [
    "for group in list(pclass_groups.groups.keys()):\n",
    "    mode=pclass_groups.get_group(group)[\"Embarked\"].mode()\n",
    "    pclass_groups.get_group(group)[\"Embarked\"].fillna(mode)\n",
    "    print(pclass_groups.get_group(group)[\"Embarked\"].value_counts(ascending=True))"
   ]
  },
  {
   "cell_type": "code",
   "execution_count": null,
   "id": "2dddab86",
   "metadata": {},
   "outputs": [],
   "source": []
  }
 ],
 "metadata": {
  "kernelspec": {
   "display_name": "Python 3 (ipykernel)",
   "language": "python",
   "name": "python3"
  },
  "language_info": {
   "codemirror_mode": {
    "name": "ipython",
    "version": 3
   },
   "file_extension": ".py",
   "mimetype": "text/x-python",
   "name": "python",
   "nbconvert_exporter": "python",
   "pygments_lexer": "ipython3",
   "version": "3.11.4"
  }
 },
 "nbformat": 4,
 "nbformat_minor": 5
}
