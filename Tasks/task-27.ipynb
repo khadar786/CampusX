{
 "cells": [
  {
   "cell_type": "code",
   "execution_count": 1,
   "id": "9cbdc90c",
   "metadata": {},
   "outputs": [],
   "source": [
    "import pandas as pd\n",
    "import requests\n",
    "from io import StringIO"
   ]
  },
  {
   "cell_type": "markdown",
   "id": "64c59eef",
   "metadata": {},
   "source": [
    "### Problem-1:\n",
    "\n",
    "You are given a SQL file link: https://drive.google.com/file/d/1WFt7B84LTHhMueoKmz8W-PRo7xXqmZf3/view?usp=share_link. Read the data by using the file and store it in a excel file. In this data, there are 3 tables named \"invoices\", \"order_leads\" and \"sales_sql\". So create 3 sheets to your excel file."
   ]
  },
  {
   "cell_type": "code",
   "execution_count": 3,
   "id": "5bc68425",
   "metadata": {},
   "outputs": [],
   "source": [
    "#pip install mysql.connector\n",
    "#!pip install mysql.connector"
   ]
  },
  {
   "cell_type": "code",
   "execution_count": 7,
   "id": "8047332c",
   "metadata": {},
   "outputs": [],
   "source": [
    "#import sys\n",
    "#sys.path.append(r'c:\\python310\\lib\\site-packages')\n",
    "import mysql.connector"
   ]
  },
  {
   "cell_type": "code",
   "execution_count": 9,
   "id": "6b97d399",
   "metadata": {},
   "outputs": [],
   "source": [
    "conn=mysql.connector.connect(host='localhost',user='root',password='',database='supermarket')"
   ]
  },
  {
   "cell_type": "code",
   "execution_count": 10,
   "id": "db628a49",
   "metadata": {},
   "outputs": [
    {
     "name": "stderr",
     "output_type": "stream",
     "text": [
      "C:\\Users\\khadarbasha\\Anaconda3\\lib\\site-packages\\pandas\\io\\sql.py:762: UserWarning: pandas only support SQLAlchemy connectable(engine/connection) ordatabase string URI or sqlite3 DBAPI2 connectionother DBAPI2 objects are not tested, please consider using SQLAlchemy\n",
      "  warnings.warn(\n"
     ]
    }
   ],
   "source": [
    "invoices=pd.read_sql_query('SELECT * FROM invoices',conn)"
   ]
  },
  {
   "cell_type": "code",
   "execution_count": 11,
   "id": "07afe042",
   "metadata": {},
   "outputs": [
    {
     "data": {
      "text/html": [
       "<div>\n",
       "<style scoped>\n",
       "    .dataframe tbody tr th:only-of-type {\n",
       "        vertical-align: middle;\n",
       "    }\n",
       "\n",
       "    .dataframe tbody tr th {\n",
       "        vertical-align: top;\n",
       "    }\n",
       "\n",
       "    .dataframe thead th {\n",
       "        text-align: right;\n",
       "    }\n",
       "</style>\n",
       "<table border=\"1\" class=\"dataframe\">\n",
       "  <thead>\n",
       "    <tr style=\"text-align: right;\">\n",
       "      <th></th>\n",
       "      <th>index</th>\n",
       "      <th>Order Id</th>\n",
       "      <th>Date</th>\n",
       "      <th>Meal Id</th>\n",
       "      <th>Company Id</th>\n",
       "      <th>Date of Meal</th>\n",
       "      <th>Participants</th>\n",
       "      <th>Meal Price</th>\n",
       "      <th>Type of Meal</th>\n",
       "    </tr>\n",
       "  </thead>\n",
       "  <tbody>\n",
       "    <tr>\n",
       "      <th>0</th>\n",
       "      <td>0</td>\n",
       "      <td>839FKFW2LLX4LMBB</td>\n",
       "      <td>27-05-2016</td>\n",
       "      <td>INBUX904GIHI8YBD</td>\n",
       "      <td>LJKS5NK6788CYMUU</td>\n",
       "      <td>2016-05-31 07:00:00+02:00</td>\n",
       "      <td>['David Bishop']</td>\n",
       "      <td>469</td>\n",
       "      <td>Breakfast</td>\n",
       "    </tr>\n",
       "    <tr>\n",
       "      <th>1</th>\n",
       "      <td>1</td>\n",
       "      <td>97OX39BGVMHODLJM</td>\n",
       "      <td>27-09-2018</td>\n",
       "      <td>J0MMOOPP709DIDIE</td>\n",
       "      <td>LJKS5NK6788CYMUU</td>\n",
       "      <td>2018-10-01 20:00:00+02:00</td>\n",
       "      <td>['David Bishop']</td>\n",
       "      <td>22</td>\n",
       "      <td>Dinner</td>\n",
       "    </tr>\n",
       "    <tr>\n",
       "      <th>2</th>\n",
       "      <td>2</td>\n",
       "      <td>041ORQM5OIHTIU6L</td>\n",
       "      <td>24-08-2014</td>\n",
       "      <td>E4UJLQNCI16UX5CS</td>\n",
       "      <td>LJKS5NK6788CYMUU</td>\n",
       "      <td>2014-08-23 14:00:00+02:00</td>\n",
       "      <td>['Karen Stansell']</td>\n",
       "      <td>314</td>\n",
       "      <td>Lunch</td>\n",
       "    </tr>\n",
       "    <tr>\n",
       "      <th>3</th>\n",
       "      <td>3</td>\n",
       "      <td>YT796QI18WNGZ7ZJ</td>\n",
       "      <td>12-04-2014</td>\n",
       "      <td>C9SDFHF7553BE247</td>\n",
       "      <td>LJKS5NK6788CYMUU</td>\n",
       "      <td>2014-04-07 21:00:00+02:00</td>\n",
       "      <td>['Addie Patino']</td>\n",
       "      <td>438</td>\n",
       "      <td>Dinner</td>\n",
       "    </tr>\n",
       "    <tr>\n",
       "      <th>4</th>\n",
       "      <td>4</td>\n",
       "      <td>6YLROQT27B6HRF4E</td>\n",
       "      <td>28-07-2015</td>\n",
       "      <td>48EQXS6IHYNZDDZ5</td>\n",
       "      <td>LJKS5NK6788CYMUU</td>\n",
       "      <td>2015-07-27 14:00:00+02:00</td>\n",
       "      <td>['Addie Patino' 'Susan Guerrero']</td>\n",
       "      <td>690</td>\n",
       "      <td>Lunch</td>\n",
       "    </tr>\n",
       "  </tbody>\n",
       "</table>\n",
       "</div>"
      ],
      "text/plain": [
       "   index          Order Id        Date           Meal Id        Company Id  \\\n",
       "0      0  839FKFW2LLX4LMBB  27-05-2016  INBUX904GIHI8YBD  LJKS5NK6788CYMUU   \n",
       "1      1  97OX39BGVMHODLJM  27-09-2018  J0MMOOPP709DIDIE  LJKS5NK6788CYMUU   \n",
       "2      2  041ORQM5OIHTIU6L  24-08-2014  E4UJLQNCI16UX5CS  LJKS5NK6788CYMUU   \n",
       "3      3  YT796QI18WNGZ7ZJ  12-04-2014  C9SDFHF7553BE247  LJKS5NK6788CYMUU   \n",
       "4      4  6YLROQT27B6HRF4E  28-07-2015  48EQXS6IHYNZDDZ5  LJKS5NK6788CYMUU   \n",
       "\n",
       "                Date of Meal                       Participants  Meal Price  \\\n",
       "0  2016-05-31 07:00:00+02:00                   ['David Bishop']         469   \n",
       "1  2018-10-01 20:00:00+02:00                   ['David Bishop']          22   \n",
       "2  2014-08-23 14:00:00+02:00                 ['Karen Stansell']         314   \n",
       "3  2014-04-07 21:00:00+02:00                   ['Addie Patino']         438   \n",
       "4  2015-07-27 14:00:00+02:00  ['Addie Patino' 'Susan Guerrero']         690   \n",
       "\n",
       "  Type of Meal  \n",
       "0    Breakfast  \n",
       "1       Dinner  \n",
       "2        Lunch  \n",
       "3       Dinner  \n",
       "4        Lunch  "
      ]
     },
     "execution_count": 11,
     "metadata": {},
     "output_type": "execute_result"
    }
   ],
   "source": [
    "invoices.head()"
   ]
  },
  {
   "cell_type": "code",
   "execution_count": 12,
   "id": "3f507e1d",
   "metadata": {},
   "outputs": [],
   "source": [
    "import sys\n",
    "sys.path.append(r'c:\\python310\\lib\\site-packages')\n",
    "import pymysql\n",
    "from sqlalchemy import create_engine"
   ]
  },
  {
   "cell_type": "code",
   "execution_count": 13,
   "id": "9f5f9ebe",
   "metadata": {},
   "outputs": [],
   "source": [
    "engine=create_engine(\"mysql+pymysql://root:@localhost/supermarket\")"
   ]
  },
  {
   "cell_type": "code",
   "execution_count": 16,
   "id": "7895880d",
   "metadata": {},
   "outputs": [],
   "source": [
    "invoices=pd.read_sql_query('SELECT * FROM invoices',engine)\n",
    "order_lead=pd.read_sql_query('SELECT * FROM order_leads',engine)\n",
    "sales_sql=pd.read_sql_query('SELECT * FROM sales_sql',engine)"
   ]
  },
  {
   "cell_type": "code",
   "execution_count": 17,
   "id": "05b53295",
   "metadata": {},
   "outputs": [
    {
     "data": {
      "text/html": [
       "<div>\n",
       "<style scoped>\n",
       "    .dataframe tbody tr th:only-of-type {\n",
       "        vertical-align: middle;\n",
       "    }\n",
       "\n",
       "    .dataframe tbody tr th {\n",
       "        vertical-align: top;\n",
       "    }\n",
       "\n",
       "    .dataframe thead th {\n",
       "        text-align: right;\n",
       "    }\n",
       "</style>\n",
       "<table border=\"1\" class=\"dataframe\">\n",
       "  <thead>\n",
       "    <tr style=\"text-align: right;\">\n",
       "      <th></th>\n",
       "      <th>index</th>\n",
       "      <th>Sales Rep</th>\n",
       "      <th>Sales Rep Id</th>\n",
       "      <th>Company Name</th>\n",
       "      <th>Company Id</th>\n",
       "    </tr>\n",
       "  </thead>\n",
       "  <tbody>\n",
       "    <tr>\n",
       "      <th>0</th>\n",
       "      <td>0</td>\n",
       "      <td>Jessie Mcallister</td>\n",
       "      <td>97UNNAT790E0WM4N</td>\n",
       "      <td>Chimera-Chasing Casbah</td>\n",
       "      <td>LJKS5NK6788CYMUU</td>\n",
       "    </tr>\n",
       "    <tr>\n",
       "      <th>1</th>\n",
       "      <td>1</td>\n",
       "      <td>Jessie Mcallister</td>\n",
       "      <td>97UNNAT790E0WM4N</td>\n",
       "      <td>Tangential Sheds</td>\n",
       "      <td>36MFTZOYMTAJP1RK</td>\n",
       "    </tr>\n",
       "    <tr>\n",
       "      <th>2</th>\n",
       "      <td>2</td>\n",
       "      <td>Jessie Mcallister</td>\n",
       "      <td>97UNNAT790E0WM4N</td>\n",
       "      <td>Two-Mile Grab</td>\n",
       "      <td>H3JRC7XX7WJAD4ZO</td>\n",
       "    </tr>\n",
       "    <tr>\n",
       "      <th>3</th>\n",
       "      <td>3</td>\n",
       "      <td>Jessie Mcallister</td>\n",
       "      <td>97UNNAT790E0WM4N</td>\n",
       "      <td>Three-Men-And-A-Helper Congo'S</td>\n",
       "      <td>HB25MDZR0MGCQUGX</td>\n",
       "    </tr>\n",
       "    <tr>\n",
       "      <th>4</th>\n",
       "      <td>4</td>\n",
       "      <td>Jessie Mcallister</td>\n",
       "      <td>97UNNAT790E0WM4N</td>\n",
       "      <td>Biophysical Battleground</td>\n",
       "      <td>7RVA8TIVBLBXMNO4</td>\n",
       "    </tr>\n",
       "  </tbody>\n",
       "</table>\n",
       "</div>"
      ],
      "text/plain": [
       "   index          Sales Rep      Sales Rep Id                    Company Name  \\\n",
       "0      0  Jessie Mcallister  97UNNAT790E0WM4N          Chimera-Chasing Casbah   \n",
       "1      1  Jessie Mcallister  97UNNAT790E0WM4N                Tangential Sheds   \n",
       "2      2  Jessie Mcallister  97UNNAT790E0WM4N                   Two-Mile Grab   \n",
       "3      3  Jessie Mcallister  97UNNAT790E0WM4N  Three-Men-And-A-Helper Congo'S   \n",
       "4      4  Jessie Mcallister  97UNNAT790E0WM4N        Biophysical Battleground   \n",
       "\n",
       "         Company Id  \n",
       "0  LJKS5NK6788CYMUU  \n",
       "1  36MFTZOYMTAJP1RK  \n",
       "2  H3JRC7XX7WJAD4ZO  \n",
       "3  HB25MDZR0MGCQUGX  \n",
       "4  7RVA8TIVBLBXMNO4  "
      ]
     },
     "execution_count": 17,
     "metadata": {},
     "output_type": "execute_result"
    }
   ],
   "source": [
    "sales_sql.head()"
   ]
  },
  {
   "cell_type": "code",
   "execution_count": 18,
   "id": "b3f59601",
   "metadata": {},
   "outputs": [],
   "source": [
    "with pd.ExcelWriter('supermarket.xlsx') as writer:\n",
    "    invoices.to_excel(writer,sheet_name='invoices')\n",
    "    order_lead.to_excel(writer,sheet_name='order_lead')\n",
    "    sales_sql.to_excel(writer,sheet_name='sales_sql')"
   ]
  },
  {
   "cell_type": "markdown",
   "id": "a8b1598b",
   "metadata": {},
   "source": [
    "### Problem-2\n",
    "\n",
    "Go to the site: https://rapidapi.com/wirefreethought/api/geodb-cities. From here, you have to grab the API and have to choose proper routes to get the cities of different countries. After getting the right API, hit that API and create a dataframe of all the cities that you can get by using the API. Then store the dataframe to a SQL. If you need to create an account or have to subscribe, then do that (it has free subscription but has some limitations. Use that free subscription and modify your accordingly to get all the data).  "
   ]
  },
  {
   "cell_type": "code",
   "execution_count": 14,
   "id": "7ef15ef9",
   "metadata": {},
   "outputs": [],
   "source": [
    "import requests\n",
    "\n",
    "url = \"https://wft-geo-db.p.rapidapi.com/v1/geo/adminDivisions\"\n",
    "\n",
    "headers = {\n",
    "    \"x-rapidapi-key\": \"af728d4ef3msh61c7494c4b735fbp1f68eejsn968d4e6c416b\",\n",
    "    \"x-rapidapi-host\": \"wft-geo-db.p.rapidapi.com\"\n",
    "}\n",
    "\n",
    "response = requests.get(url, headers=headers)\n",
    "\n",
    "data=response.json()['data']\n",
    "links=response.json()['links']\n",
    "metadata=response.json()['metadata']"
   ]
  },
  {
   "cell_type": "code",
   "execution_count": 15,
   "id": "a075c5c7",
   "metadata": {},
   "outputs": [
    {
     "data": {
      "text/plain": [
       "[{'rel': 'first', 'href': '/v1/geo/adminDivisions?offset=0&limit=5'},\n",
       " {'rel': 'next', 'href': '/v1/geo/adminDivisions?offset=5&limit=5'},\n",
       " {'rel': 'last', 'href': '/v1/geo/adminDivisions?offset=61940&limit=5'}]"
      ]
     },
     "execution_count": 15,
     "metadata": {},
     "output_type": "execute_result"
    }
   ],
   "source": [
    "links"
   ]
  },
  {
   "cell_type": "code",
   "execution_count": 16,
   "id": "008757fe",
   "metadata": {},
   "outputs": [
    {
     "data": {
      "text/plain": [
       "{'currentOffset': 0, 'totalCount': 61945}"
      ]
     },
     "execution_count": 16,
     "metadata": {},
     "output_type": "execute_result"
    }
   ],
   "source": [
    "metadata"
   ]
  },
  {
   "cell_type": "code",
   "execution_count": 17,
   "id": "d6d45753",
   "metadata": {},
   "outputs": [
    {
     "data": {
      "text/html": [
       "<div>\n",
       "<style scoped>\n",
       "    .dataframe tbody tr th:only-of-type {\n",
       "        vertical-align: middle;\n",
       "    }\n",
       "\n",
       "    .dataframe tbody tr th {\n",
       "        vertical-align: top;\n",
       "    }\n",
       "\n",
       "    .dataframe thead th {\n",
       "        text-align: right;\n",
       "    }\n",
       "</style>\n",
       "<table border=\"1\" class=\"dataframe\">\n",
       "  <thead>\n",
       "    <tr style=\"text-align: right;\">\n",
       "      <th></th>\n",
       "      <th>id</th>\n",
       "      <th>wikiDataId</th>\n",
       "      <th>name</th>\n",
       "      <th>country</th>\n",
       "      <th>countryCode</th>\n",
       "      <th>region</th>\n",
       "      <th>regionCode</th>\n",
       "      <th>regionWdId</th>\n",
       "      <th>latitude</th>\n",
       "      <th>longitude</th>\n",
       "      <th>population</th>\n",
       "    </tr>\n",
       "  </thead>\n",
       "  <tbody>\n",
       "    <tr>\n",
       "      <th>0</th>\n",
       "      <td>3515514</td>\n",
       "      <td>Q4117373</td>\n",
       "      <td>Al Mamzar</td>\n",
       "      <td>United Arab Emirates</td>\n",
       "      <td>AE</td>\n",
       "      <td>Emirate of Dubai</td>\n",
       "      <td>DU</td>\n",
       "      <td>Q613</td>\n",
       "      <td>25.309469</td>\n",
       "      <td>55.342811</td>\n",
       "      <td>0</td>\n",
       "    </tr>\n",
       "    <tr>\n",
       "      <th>1</th>\n",
       "      <td>3671889</td>\n",
       "      <td>Q1262899</td>\n",
       "      <td>Dubai Internet City</td>\n",
       "      <td>United Arab Emirates</td>\n",
       "      <td>AE</td>\n",
       "      <td>Emirate of Dubai</td>\n",
       "      <td>DU</td>\n",
       "      <td>Q613</td>\n",
       "      <td>25.095000</td>\n",
       "      <td>55.160000</td>\n",
       "      <td>24000</td>\n",
       "    </tr>\n",
       "    <tr>\n",
       "      <th>2</th>\n",
       "      <td>3850830</td>\n",
       "      <td>Q102179103</td>\n",
       "      <td>Shumayliyah</td>\n",
       "      <td>United Arab Emirates</td>\n",
       "      <td>AE</td>\n",
       "      <td>Emirate of Sharjah</td>\n",
       "      <td>SH</td>\n",
       "      <td>Q188810</td>\n",
       "      <td>25.333330</td>\n",
       "      <td>56.333330</td>\n",
       "      <td>0</td>\n",
       "    </tr>\n",
       "    <tr>\n",
       "      <th>3</th>\n",
       "      <td>3386644</td>\n",
       "      <td>Q3694483</td>\n",
       "      <td>Ab Band District</td>\n",
       "      <td>Afghanistan</td>\n",
       "      <td>AF</td>\n",
       "      <td>Ghazni</td>\n",
       "      <td>GHA</td>\n",
       "      <td>Q180415</td>\n",
       "      <td>32.983000</td>\n",
       "      <td>67.967000</td>\n",
       "      <td>0</td>\n",
       "    </tr>\n",
       "    <tr>\n",
       "      <th>4</th>\n",
       "      <td>3339608</td>\n",
       "      <td>Q2572213</td>\n",
       "      <td>Ab Kamari</td>\n",
       "      <td>Afghanistan</td>\n",
       "      <td>AF</td>\n",
       "      <td>Badghis</td>\n",
       "      <td>BDG</td>\n",
       "      <td>Q172052</td>\n",
       "      <td>34.925000</td>\n",
       "      <td>62.901667</td>\n",
       "      <td>0</td>\n",
       "    </tr>\n",
       "  </tbody>\n",
       "</table>\n",
       "</div>"
      ],
      "text/plain": [
       "        id  wikiDataId                 name               country countryCode  \\\n",
       "0  3515514    Q4117373            Al Mamzar  United Arab Emirates          AE   \n",
       "1  3671889    Q1262899  Dubai Internet City  United Arab Emirates          AE   \n",
       "2  3850830  Q102179103          Shumayliyah  United Arab Emirates          AE   \n",
       "3  3386644    Q3694483     Ab Band District           Afghanistan          AF   \n",
       "4  3339608    Q2572213            Ab Kamari           Afghanistan          AF   \n",
       "\n",
       "               region regionCode regionWdId   latitude  longitude  population  \n",
       "0    Emirate of Dubai         DU       Q613  25.309469  55.342811           0  \n",
       "1    Emirate of Dubai         DU       Q613  25.095000  55.160000       24000  \n",
       "2  Emirate of Sharjah         SH    Q188810  25.333330  56.333330           0  \n",
       "3              Ghazni        GHA    Q180415  32.983000  67.967000           0  \n",
       "4             Badghis        BDG    Q172052  34.925000  62.901667           0  "
      ]
     },
     "execution_count": 17,
     "metadata": {},
     "output_type": "execute_result"
    }
   ],
   "source": [
    "pd.DataFrame(data)"
   ]
  },
  {
   "cell_type": "code",
   "execution_count": 18,
   "id": "cd5efe66",
   "metadata": {},
   "outputs": [],
   "source": [
    "count=metadata['totalCount']//5"
   ]
  },
  {
   "cell_type": "code",
   "execution_count": 19,
   "id": "ed2d078b",
   "metadata": {},
   "outputs": [],
   "source": [
    "next_url=links[1]['href']"
   ]
  },
  {
   "cell_type": "code",
   "execution_count": 20,
   "id": "4e4b79cb",
   "metadata": {},
   "outputs": [],
   "source": [
    "import time\n",
    "\n",
    "num_iters=1\n",
    "for i in range(1,count):\n",
    "    num_iters+=1\n",
    "    \n",
    "    url = \"https://wft-geo-db.p.rapidapi.com\"\n",
    "    page=url+next_url\n",
    "    \n",
    "    response = requests.get(page, headers=headers)\n",
    "    \n",
    "    links=response.json()['links']\n",
    "    for item in links:\n",
    "        if item['rel']=='next':\n",
    "            next_url=item['href']\n",
    "    \n",
    "    data.extend(response.json()['data'])\n",
    "            \n",
    "    if num_iters==10:\n",
    "        break\n",
    "    \n",
    "    time.sleep(3)"
   ]
  },
  {
   "cell_type": "code",
   "execution_count": 22,
   "id": "6ca4852a",
   "metadata": {},
   "outputs": [],
   "source": [
    "cites=pd.DataFrame(data)"
   ]
  },
  {
   "cell_type": "code",
   "execution_count": 25,
   "id": "f45b53d6",
   "metadata": {},
   "outputs": [],
   "source": [
    "import sys\n",
    "sys.path.append(r'c:\\python310\\lib\\site-packages')\n",
    "import pymysql\n",
    "from sqlalchemy import create_engine"
   ]
  },
  {
   "cell_type": "code",
   "execution_count": 26,
   "id": "60c9764f",
   "metadata": {},
   "outputs": [],
   "source": [
    "engine=create_engine(\"mysql+pymysql://root:@localhost/temp_db\")"
   ]
  },
  {
   "cell_type": "code",
   "execution_count": 28,
   "id": "782d0422",
   "metadata": {},
   "outputs": [
    {
     "data": {
      "text/plain": [
       "50"
      ]
     },
     "execution_count": 28,
     "metadata": {},
     "output_type": "execute_result"
    }
   ],
   "source": [
    "cites.to_sql(\"cites\",con=engine,if_exists='append')"
   ]
  },
  {
   "cell_type": "markdown",
   "id": "ea11f854",
   "metadata": {},
   "source": [
    "### Problem 3:\n",
    "\n",
    "Go to this url: https://www.flipkart.com/search?q=smartphones. This is the url to find phones in flipkart website. You have to extract the below things:\n",
    "1. image url of the phone\n",
    "2. name of the image\n",
    "3. average ratings\n",
    "4. total ratings\n",
    "5. total reviews\n",
    "6. discounted price\n",
    "7. actual price\n",
    "\n",
    "Extract all the phones which are available in this website. So you have to use the pagination concept. **Also after requesting every page through the url, please wait for a while (minimum 2-3 seconds), otherwise your IP address can be banned to access the flipkart website later.**\n",
    "\n",
    "After collecting all the data, save that in a JSON file."
   ]
  },
  {
   "cell_type": "code",
   "execution_count": 30,
   "id": "3b54ef95",
   "metadata": {},
   "outputs": [],
   "source": [
    "import requests\n",
    "from bs4 import BeautifulSoup\n",
    "import time\n",
    "\n",
    "import pandas as pd\n",
    "import numpy as np"
   ]
  },
  {
   "cell_type": "code",
   "execution_count": 36,
   "id": "f81213b0",
   "metadata": {},
   "outputs": [
    {
     "data": {
      "text/plain": [
       "<Response [403]>"
      ]
     },
     "execution_count": 36,
     "metadata": {},
     "output_type": "execute_result"
    }
   ],
   "source": [
    "headers={\"User-Agent\": \"Mozilla/5.0 (Windows NT 10.0; Win64; x64) AppleWebKit/537.36 (KHTML, like Gecko) Chrome/58.0.3029.110 Safari/537.3\"}\n",
    "requests.get('https://www.flipkart.com/search?q=smartphones&page=1')"
   ]
  },
  {
   "cell_type": "code",
   "execution_count": 37,
   "id": "7326cc70",
   "metadata": {},
   "outputs": [
    {
     "data": {
      "text/plain": [
       "'<!DOCTYPE html>\\n<html lang=\"en\">\\n\\n<head>\\n    <meta charset=\"UTF-8\">\\n    <meta name=\"viewport\" content=\"width=device-width, initial-scale=1.0\">\\n    <title>Flipkart reCAPTCHA</title>\\n    <style>\\n        @font-face {\\n\\t\\t\\tfont-family: \\'inter_regular\\';\\n\\t\\t\\tfont-weight: 400;\\n\\t\\t\\tfont-style: normal;\\n\\t\\t\\tfont-display: swap;\\n\\t\\t\\tsrc: local(\\'Inter Regular\\'), local(\\'Inter-Regular\\'), local(\\'inter_regular\\'), local(\\'Inter\\'), local(\\'sans-serif\\'), url(https://static-assets-web.flixcart.com/batman-returns/batman-returns/p/fonts/Inter-Regular.woff2) format(\\'woff2\\'), url(https://static-assets-web.flixcart.com/batman-returns/batman-returns/p/fonts/Inter-Regular.woff) format(\\'woff\\');\\n\\t\\t}\\n\\n\\t\\t@font-face {\\n\\t\\t\\tfont-family: \\'inter_semi_bold\\';\\n\\t\\t\\tfont-weight: 600;\\n\\t\\t\\tfont-style: normal;\\n\\t\\t\\tfont-display: swap;\\n\\t\\t\\tsrc: local(\\'Inter Medium\\'), local(\\'Inter-Medium\\'), local(\\'inter_semi_bold\\'),\\n\\t\\t\\t\\tlocal(\\'Inter\\'), local(\\'sans-serif-medium\\'),  url(https://static-assets-web.flixcart.com/batman-returns/batman-returns/p/fonts/Inter-SemiBold.woff2) format(\\'woff2\\'),\\n\\t\\t\\t\\turl(https://static-assets-web.flixcart.com/batman-returns/batman-returns/p/fonts/Inter-SemiBold.woff) format(\\'woff\\');\\n\\t\\t}\\n\\n        body, html {\\n            height: 100%;\\n        }\\n        .container {\\n            height: 100%;\\n            text-align: center;\\n            display: flex;\\n            flex-direction: column;\\n            justify-content: center;\\n            align-items: center;\\n        }\\n        .logo {\\n            width: 60px;\\n\\t        height: 60px;\\n        }\\n        .header {\\n            font-family: \\'inter_semi_bold\\', sans-serif;\\n            font-size: 24px;\\n            line-height: 34px;\\n            margin-bottom: 5%;\\n            font-weight: 600;\\n        }\\n        .subText {\\n            font-family: \\'inter_regular\\', sans-serif;\\n            font-size: 17px;\\n            line-height: 24px;\\n            font-weight: 400;\\n            text-align: center;\\n            margin-bottom: 0;\\n        }\\n        .loaderContainer {\\n            margin-top: 5%;\\n        }\\n        .loader {\\n            border: 3px solid #f3f3f3;\\n            border-radius: 50%;\\n            border-top: 3px solid #2874F0;\\n            width: 32px;\\n            height: 32px;\\n            -webkit-animation: spin 2s linear infinite;\\n            animation: spin 2s linear infinite;\\n        }\\n\\n        /* Safari */\\n        @-webkit-keyframes spin {\\n            0% { -webkit-transform: rotate(0deg); }\\n            100% { -webkit-transform: rotate(360deg); }\\n        }\\n\\n        @keyframes spin {\\n            0% { transform: rotate(0deg); }\\n            100% { transform: rotate(360deg); }\\n        }\\n    </style>\\n    <script src=\"https://www.google.com/recaptcha/api.js?render=6Lc49B0pAAAAAIVgOhfwW8i7t7SRO0KSnlSVZRAq\"></script>\\n    <script type=\"text/javascript\" defer async>\\n            function filterText(text) {\\n                var pattern = /[^A-Za-z\\\\/_\\\\\\\\]/g;\\n                var filteredText = text.replace(pattern, \\'\\');\\n                return filteredText;\\n            }\\n            grecaptcha.ready(function () {\\n                let action = location.pathname.substring(location.pathname.lastIndexOf(\"/\") + 1);\\n                if(!action){\\n                    action = \"index\";\\n                }\\n                action = filterText(action);\\n                grecaptcha.execute(\"6Lc49B0pAAAAAIVgOhfwW8i7t7SRO0KSnlSVZRAq\", {\\n                    action: action\\n                }).then(function (token) {\\n                    var captcha_resp_body = \"grecaptcharesp=\" + token + \"&location=\" + encodeURIComponent(document.URL);\\n                    var makereport = new XMLHttpRequest();\\n                    makereport.open(\"POST\", `/.well-known/haproxy/captcha_callback`, true);\\n                    makereport.setRequestHeader(\"Content-type\", \"application/x-www-form-urlencoded\");\\n                    makereport.onreadystatechange = function () {\\n                        if (makereport.readyState == 4 && makereport.status == 200) {\\n                            document.cookie = \"solved_captcha=\" + makereport.responseText;\\n                            window.location.reload();\\n                        }\\n                    };\\n                    makereport.send(captcha_resp_body);\\n                })\\n            })\\n    </script>\\n</head>\\n<body>\\n<div class=\"container\">\\n    <img class=\"logo\" src=\"https://rukminim1.flixcart.com/www/60/60/promos/14/06/2024/88011666-ce1d-40f0-a8eb-1bac7d164885.png?q=60\" alt=\"Flipkart Logo\" />\\n    <h1 class=\"header\">Are you a human?</h1>\\n    <p class=\"subText\">Confirming...</p>\\n    <div class=\"loaderContainer\"><div class=\"loader\"></div></div>\\n</div>\\n</body>\\n\\n</html>'"
      ]
     },
     "execution_count": 37,
     "metadata": {},
     "output_type": "execute_result"
    }
   ],
   "source": [
    "webpage"
   ]
  },
  {
   "cell_type": "code",
   "execution_count": null,
   "id": "4899186a",
   "metadata": {},
   "outputs": [],
   "source": []
  }
 ],
 "metadata": {
  "kernelspec": {
   "display_name": "Python 3 (ipykernel)",
   "language": "python",
   "name": "python3"
  },
  "language_info": {
   "codemirror_mode": {
    "name": "ipython",
    "version": 3
   },
   "file_extension": ".py",
   "mimetype": "text/x-python",
   "name": "python",
   "nbconvert_exporter": "python",
   "pygments_lexer": "ipython3",
   "version": "3.9.13"
  }
 },
 "nbformat": 4,
 "nbformat_minor": 5
}
