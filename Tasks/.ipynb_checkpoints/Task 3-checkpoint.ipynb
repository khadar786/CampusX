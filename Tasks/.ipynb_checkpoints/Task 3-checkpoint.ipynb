{
 "cells": [
  {
   "cell_type": "markdown",
   "id": "c37496e4",
   "metadata": {},
   "source": [
    "### `Problem 1` - Print the following pattern. Write a program to use for loop to print the following reverse number pattern.\n",
    "\n",
    "```bash\n",
    "5 4 3 2 1 \n",
    "4 3 2 1 \n",
    "3 2 1 \n",
    "2 1 \n",
    "1\n",
    "```"
   ]
  },
  {
   "cell_type": "code",
   "execution_count": 11,
   "id": "c39ab836",
   "metadata": {},
   "outputs": [
    {
     "name": "stdout",
     "output_type": "stream",
     "text": [
      "Enter the number :10\n",
      "10 9 8 7 6 5 4 3 2 1 \n",
      "9 8 7 6 5 4 3 2 1 \n",
      "8 7 6 5 4 3 2 1 \n",
      "7 6 5 4 3 2 1 \n",
      "6 5 4 3 2 1 \n",
      "5 4 3 2 1 \n",
      "4 3 2 1 \n",
      "3 2 1 \n",
      "2 1 \n",
      "1 \n"
     ]
    }
   ],
   "source": [
    "num=int(input(\"Enter the number :\"))\n",
    "\n",
    "for i in range(num,0,-1):\n",
    "    for j in range(i,0,-1):\n",
    "        print(j,end=\" \")\n",
    "    print()"
   ]
  },
  {
   "cell_type": "markdown",
   "id": "13f2992b",
   "metadata": {},
   "source": [
    "### `Problem 2`: Print the following pattern.\n",
    "\n",
    "```bash\n",
    "* \n",
    "* * \n",
    "* * * \n",
    "* * * * \n",
    "* * * * * \n",
    "* * * * \n",
    "* * * \n",
    "* * \n",
    "*\n",
    "```"
   ]
  },
  {
   "cell_type": "code",
   "execution_count": 24,
   "id": "dfa33d22",
   "metadata": {},
   "outputs": [
    {
     "name": "stdout",
     "output_type": "stream",
     "text": [
      "Enter the number :10\n",
      "* \n",
      "* * \n",
      "* * * \n",
      "* * * * \n",
      "* * * * * \n",
      "* * * * * * \n",
      "* * * * * * * \n",
      "* * * * * * * * \n",
      "* * * * * * * * * \n",
      "* * * * * * * * * * \n",
      "* * * * * * * * * \n",
      "* * * * * * * * \n",
      "* * * * * * * \n",
      "* * * * * * \n",
      "* * * * * \n",
      "* * * * \n",
      "* * * \n",
      "* * \n",
      "* \n"
     ]
    }
   ],
   "source": [
    "num=int(input(\"Enter the number :\"))\n",
    "\n",
    "for i in range(1,num+1):\n",
    "    for j in range(1,i+1):\n",
    "        print('*',end=\" \")\n",
    "    print()\n",
    "for k in range(num,1,-1):\n",
    "    for l in range(k,1,-1):\n",
    "        print('*',end=\" \")\n",
    "    print()"
   ]
  },
  {
   "cell_type": "markdown",
   "id": "64d56251",
   "metadata": {},
   "source": [
    "### `Problem 3`:Write a program to pring the following pattern\n",
    "\n",
    "        *\n",
    "      * * *\n",
    "    * * * * *\n",
    "   * * * * * * *\n",
    "* * * * * * * * *"
   ]
  },
  {
   "cell_type": "code",
   "execution_count": 26,
   "id": "a32c683d",
   "metadata": {},
   "outputs": [
    {
     "name": "stdout",
     "output_type": "stream",
     "text": [
      "Enter the rows :20\n",
      "                    * \n",
      "                   * * \n",
      "                  * * * \n",
      "                 * * * * \n",
      "                * * * * * \n",
      "               * * * * * * \n",
      "              * * * * * * * \n",
      "             * * * * * * * * \n",
      "            * * * * * * * * * \n",
      "           * * * * * * * * * * \n",
      "          * * * * * * * * * * * \n",
      "         * * * * * * * * * * * * \n",
      "        * * * * * * * * * * * * * \n",
      "       * * * * * * * * * * * * * * \n",
      "      * * * * * * * * * * * * * * * \n",
      "     * * * * * * * * * * * * * * * * \n",
      "    * * * * * * * * * * * * * * * * * \n",
      "   * * * * * * * * * * * * * * * * * * \n",
      "  * * * * * * * * * * * * * * * * * * * \n"
     ]
    }
   ],
   "source": [
    "rows=int(input(\"Enter the rows :\"))\n",
    "\n",
    "for i in range(1,rows):\n",
    "    print(' '*rows,end='')\n",
    "    print('* '*i)\n",
    "    rows-=1"
   ]
  },
  {
   "cell_type": "markdown",
   "id": "be82347d",
   "metadata": {},
   "source": [
    "### `Problem 4`:Write a program to print the following pattern\n",
    "\n",
    "1 \n",
    "\n",
    "2 1 \n",
    "\n",
    "3 2 1 \n",
    "\n",
    "4 3 2 1 \n",
    "\n",
    "5 4 3 2 1"
   ]
  },
  {
   "cell_type": "code",
   "execution_count": 29,
   "id": "c8b8e867",
   "metadata": {},
   "outputs": [
    {
     "name": "stdout",
     "output_type": "stream",
     "text": [
      "Enter the number :5\n",
      "1 \n",
      "2 1 \n",
      "3 2 1 \n",
      "4 3 2 1 \n",
      "5 4 3 2 1 \n"
     ]
    }
   ],
   "source": [
    "num=int(input(\"Enter the number :\"))\n",
    "\n",
    "for i in range(1,num+1):\n",
    "    for j in range(i,0,-1):\n",
    "        print(j,end=\" \")\n",
    "    print()"
   ]
  },
  {
   "cell_type": "markdown",
   "id": "9793e1bf",
   "metadata": {},
   "source": [
    "### `Problem 5`: Write a Python Program to Find the Sum of the Series till the nth term:<br> \n",
    "1 + x^2/2 + x^3/3 + … x^n/n<br>\n",
    "n will be provided by the user"
   ]
  },
  {
   "cell_type": "code",
   "execution_count": 39,
   "id": "866bebc1",
   "metadata": {},
   "outputs": [
    {
     "name": "stdout",
     "output_type": "stream",
     "text": [
      "1 + x^2/2 +x^3/3 +x^4/4 +x^5/5 \n",
      "22884.333333333332\n"
     ]
    }
   ],
   "source": [
    "x=10\n",
    "n=5\n",
    "\n",
    "sum=1\n",
    "s=''\n",
    "\n",
    "print('1 + ',end='')\n",
    "for i in range(2,n+1):\n",
    "    sum=sum+x**i/i\n",
    "    s=s+'x^{}/{} +'.format(i,i)\n",
    "\n",
    "print(s[:-1])\n",
    "print(sum)"
   ]
  },
  {
   "cell_type": "markdown",
   "id": "5f22afae",
   "metadata": {},
   "source": [
    "### `Problem 6`: The natural logarithm can be approximated by the following series.\n",
    "\n",
    "<img src=\"http://hyperphysics.gsu.edu/hbase/Math/immath/lnseries.png\"/>\n",
    "If x is input through the keyboard, write a program to calculate the sum of the first seven terms of this series.\n"
   ]
  },
  {
   "cell_type": "code",
   "execution_count": 45,
   "id": "9d6e84b9",
   "metadata": {},
   "outputs": [
    {
     "name": "stdout",
     "output_type": "stream",
     "text": [
      "(1/1)*((x-1)/x)^1 +(1/2)*((x-1)/x)^2 +(1/3)*((x-1)/x)^3 +(1/4)*((x-1)/x)^4 +(1/5)*((x-1)/x)^5 \n",
      "1.8301230000000004\n"
     ]
    }
   ],
   "source": [
    "x=10\n",
    "n=5\n",
    "\n",
    "sum=0\n",
    "s=''\n",
    "\n",
    "for i in range(1,n+1):\n",
    "    sum = sum + (1/i)*((x-1)/x)**i\n",
    "    s=s+'(1/{})*((x-1)/x)^{} +'.format(i,i)\n",
    "print(s[:-1])\n",
    "print(sum)"
   ]
  },
  {
   "cell_type": "markdown",
   "id": "ffa949f8",
   "metadata": {},
   "source": [
    "### `Problem 7` - Find the sum of the series upto n terms.\n",
    "Write a program to calculate the sum of series up to n term. For example, if n =5 the series will become 2 + 22 + 222 + 2222 + 22222 = 24690. Take the user input and then calculate. And the output style should match which is given in the example.\n",
    "\n",
    "**Example 1:**\n",
    "\n",
    "`Input:`\n",
    "```bash\n",
    "5\n",
    "```\n",
    "\n",
    "`Output:`\n",
    "\n",
    "```bash\n",
    "2+22+222+2222+22222\n",
    "Sum of above series is: 24690"
   ]
  },
  {
   "cell_type": "code",
   "execution_count": 48,
   "id": "47450311",
   "metadata": {},
   "outputs": [
    {
     "name": "stdout",
     "output_type": "stream",
     "text": [
      "enter the number of terms :5\n",
      "2+22+222+2222+22222\n",
      "24690\n"
     ]
    }
   ],
   "source": [
    "n=int(input(\"enter the number of terms :\"))\n",
    "start=2\n",
    "end=0\n",
    "sum=0\n",
    "\n",
    "for i in range(0,n):\n",
    "    if i<n-1:\n",
    "        print(start,end='+')\n",
    "    else:\n",
    "        print(start)\n",
    "    \n",
    "    sum=sum+start\n",
    "    start=start*10+2\n",
    "\n",
    "print(sum)"
   ]
  },
  {
   "cell_type": "markdown",
   "id": "c17f253c",
   "metadata": {},
   "source": [
    "### `Problem 8`: Write a program to print all the unique combinations of 1,2,3 and 4 \n",
    "\n",
    "`Output`:\n",
    "```\n",
    "1 2 3 4\n",
    "1 2 4 3\n",
    "1 3 2 4\n",
    "1 3 4 2\n",
    "1 4 2 3\n",
    "1 4 3 2\n",
    "2 1 3 4\n",
    "2 1 4 3\n",
    "2 3 1 4\n",
    "2 3 4 1\n",
    "2 4 1 3\n",
    ".\n",
    ".\n",
    "and so on\n",
    "```"
   ]
  },
  {
   "cell_type": "code",
   "execution_count": 49,
   "id": "a991f134",
   "metadata": {},
   "outputs": [
    {
     "name": "stdout",
     "output_type": "stream",
     "text": [
      "1 1 1 1\n",
      "1 1 1 2\n",
      "1 1 1 3\n",
      "1 1 1 4\n",
      "1 1 2 1\n",
      "1 1 2 2\n",
      "1 1 2 3\n",
      "1 1 2 4\n",
      "1 1 3 1\n",
      "1 1 3 2\n",
      "1 1 3 3\n",
      "1 1 3 4\n",
      "1 1 4 1\n",
      "1 1 4 2\n",
      "1 1 4 3\n",
      "1 1 4 4\n",
      "1 2 1 1\n",
      "1 2 1 2\n",
      "1 2 1 3\n",
      "1 2 1 4\n",
      "1 2 2 1\n",
      "1 2 2 2\n",
      "1 2 2 3\n",
      "1 2 2 4\n",
      "1 2 3 1\n",
      "1 2 3 2\n",
      "1 2 3 3\n",
      "1 2 3 4\n",
      "1 2 4 1\n",
      "1 2 4 2\n",
      "1 2 4 3\n",
      "1 2 4 4\n",
      "1 3 1 1\n",
      "1 3 1 2\n",
      "1 3 1 3\n",
      "1 3 1 4\n",
      "1 3 2 1\n",
      "1 3 2 2\n",
      "1 3 2 3\n",
      "1 3 2 4\n",
      "1 3 3 1\n",
      "1 3 3 2\n",
      "1 3 3 3\n",
      "1 3 3 4\n",
      "1 3 4 1\n",
      "1 3 4 2\n",
      "1 3 4 3\n",
      "1 3 4 4\n",
      "1 4 1 1\n",
      "1 4 1 2\n",
      "1 4 1 3\n",
      "1 4 1 4\n",
      "1 4 2 1\n",
      "1 4 2 2\n",
      "1 4 2 3\n",
      "1 4 2 4\n",
      "1 4 3 1\n",
      "1 4 3 2\n",
      "1 4 3 3\n",
      "1 4 3 4\n",
      "1 4 4 1\n",
      "1 4 4 2\n",
      "1 4 4 3\n",
      "1 4 4 4\n",
      "2 1 1 1\n",
      "2 1 1 2\n",
      "2 1 1 3\n",
      "2 1 1 4\n",
      "2 1 2 1\n",
      "2 1 2 2\n",
      "2 1 2 3\n",
      "2 1 2 4\n",
      "2 1 3 1\n",
      "2 1 3 2\n",
      "2 1 3 3\n",
      "2 1 3 4\n",
      "2 1 4 1\n",
      "2 1 4 2\n",
      "2 1 4 3\n",
      "2 1 4 4\n",
      "2 2 1 1\n",
      "2 2 1 2\n",
      "2 2 1 3\n",
      "2 2 1 4\n",
      "2 2 2 1\n",
      "2 2 2 2\n",
      "2 2 2 3\n",
      "2 2 2 4\n",
      "2 2 3 1\n",
      "2 2 3 2\n",
      "2 2 3 3\n",
      "2 2 3 4\n",
      "2 2 4 1\n",
      "2 2 4 2\n",
      "2 2 4 3\n",
      "2 2 4 4\n",
      "2 3 1 1\n",
      "2 3 1 2\n",
      "2 3 1 3\n",
      "2 3 1 4\n",
      "2 3 2 1\n",
      "2 3 2 2\n",
      "2 3 2 3\n",
      "2 3 2 4\n",
      "2 3 3 1\n",
      "2 3 3 2\n",
      "2 3 3 3\n",
      "2 3 3 4\n",
      "2 3 4 1\n",
      "2 3 4 2\n",
      "2 3 4 3\n",
      "2 3 4 4\n",
      "2 4 1 1\n",
      "2 4 1 2\n",
      "2 4 1 3\n",
      "2 4 1 4\n",
      "2 4 2 1\n",
      "2 4 2 2\n",
      "2 4 2 3\n",
      "2 4 2 4\n",
      "2 4 3 1\n",
      "2 4 3 2\n",
      "2 4 3 3\n",
      "2 4 3 4\n",
      "2 4 4 1\n",
      "2 4 4 2\n",
      "2 4 4 3\n",
      "2 4 4 4\n",
      "3 1 1 1\n",
      "3 1 1 2\n",
      "3 1 1 3\n",
      "3 1 1 4\n",
      "3 1 2 1\n",
      "3 1 2 2\n",
      "3 1 2 3\n",
      "3 1 2 4\n",
      "3 1 3 1\n",
      "3 1 3 2\n",
      "3 1 3 3\n",
      "3 1 3 4\n",
      "3 1 4 1\n",
      "3 1 4 2\n",
      "3 1 4 3\n",
      "3 1 4 4\n",
      "3 2 1 1\n",
      "3 2 1 2\n",
      "3 2 1 3\n",
      "3 2 1 4\n",
      "3 2 2 1\n",
      "3 2 2 2\n",
      "3 2 2 3\n",
      "3 2 2 4\n",
      "3 2 3 1\n",
      "3 2 3 2\n",
      "3 2 3 3\n",
      "3 2 3 4\n",
      "3 2 4 1\n",
      "3 2 4 2\n",
      "3 2 4 3\n",
      "3 2 4 4\n",
      "3 3 1 1\n",
      "3 3 1 2\n",
      "3 3 1 3\n",
      "3 3 1 4\n",
      "3 3 2 1\n",
      "3 3 2 2\n",
      "3 3 2 3\n",
      "3 3 2 4\n",
      "3 3 3 1\n",
      "3 3 3 2\n",
      "3 3 3 3\n",
      "3 3 3 4\n",
      "3 3 4 1\n",
      "3 3 4 2\n",
      "3 3 4 3\n",
      "3 3 4 4\n",
      "3 4 1 1\n",
      "3 4 1 2\n",
      "3 4 1 3\n",
      "3 4 1 4\n",
      "3 4 2 1\n",
      "3 4 2 2\n",
      "3 4 2 3\n",
      "3 4 2 4\n",
      "3 4 3 1\n",
      "3 4 3 2\n",
      "3 4 3 3\n",
      "3 4 3 4\n",
      "3 4 4 1\n",
      "3 4 4 2\n",
      "3 4 4 3\n",
      "3 4 4 4\n",
      "4 1 1 1\n",
      "4 1 1 2\n",
      "4 1 1 3\n",
      "4 1 1 4\n",
      "4 1 2 1\n",
      "4 1 2 2\n",
      "4 1 2 3\n",
      "4 1 2 4\n",
      "4 1 3 1\n",
      "4 1 3 2\n",
      "4 1 3 3\n",
      "4 1 3 4\n",
      "4 1 4 1\n",
      "4 1 4 2\n",
      "4 1 4 3\n",
      "4 1 4 4\n",
      "4 2 1 1\n",
      "4 2 1 2\n",
      "4 2 1 3\n",
      "4 2 1 4\n",
      "4 2 2 1\n",
      "4 2 2 2\n",
      "4 2 2 3\n",
      "4 2 2 4\n",
      "4 2 3 1\n",
      "4 2 3 2\n",
      "4 2 3 3\n",
      "4 2 3 4\n",
      "4 2 4 1\n",
      "4 2 4 2\n",
      "4 2 4 3\n",
      "4 2 4 4\n",
      "4 3 1 1\n",
      "4 3 1 2\n",
      "4 3 1 3\n",
      "4 3 1 4\n",
      "4 3 2 1\n",
      "4 3 2 2\n",
      "4 3 2 3\n",
      "4 3 2 4\n",
      "4 3 3 1\n",
      "4 3 3 2\n",
      "4 3 3 3\n",
      "4 3 3 4\n",
      "4 3 4 1\n",
      "4 3 4 2\n",
      "4 3 4 3\n",
      "4 3 4 4\n",
      "4 4 1 1\n",
      "4 4 1 2\n",
      "4 4 1 3\n",
      "4 4 1 4\n",
      "4 4 2 1\n",
      "4 4 2 2\n",
      "4 4 2 3\n",
      "4 4 2 4\n",
      "4 4 3 1\n",
      "4 4 3 2\n",
      "4 4 3 3\n",
      "4 4 3 4\n",
      "4 4 4 1\n",
      "4 4 4 2\n",
      "4 4 4 3\n",
      "4 4 4 4\n"
     ]
    }
   ],
   "source": [
    "for i in range(1,5):\n",
    "    for j in range(1,5):\n",
    "        for k in range(1,5):\n",
    "            for l in range(1,5):\n",
    "                print(i,j,k,l)"
   ]
  },
  {
   "cell_type": "markdown",
   "id": "45cbae90",
   "metadata": {},
   "source": [
    "### `Problem 9`: Write a program that will take a decimal number as input and prints out the binary equivalent of the number"
   ]
  },
  {
   "cell_type": "code",
   "execution_count": 53,
   "id": "327d89f8",
   "metadata": {},
   "outputs": [
    {
     "name": "stdout",
     "output_type": "stream",
     "text": [
      "enter the decimal number :60\n",
      "the binary number of the number 0 is 111100\n"
     ]
    }
   ],
   "source": [
    "n=int(input(\"enter the decimal number :\"))\n",
    "\n",
    "if n<0:\n",
    "    print('Invalid')\n",
    "else:\n",
    "    ans=''\n",
    "    while n:\n",
    "        ans+=str(n&1)\n",
    "        n=n>>1\n",
    "    \n",
    "    print(f'the binary number of the number {n} is {ans[::-1]}')"
   ]
  },
  {
   "cell_type": "code",
   "execution_count": 57,
   "id": "78e57100",
   "metadata": {},
   "outputs": [
    {
     "name": "stdout",
     "output_type": "stream",
     "text": [
      "enter the decimal number :60\n",
      "111100"
     ]
    }
   ],
   "source": [
    "n=int(input(\"enter the decimal number :\"))\n",
    "binary=[]\n",
    "\n",
    "while n>0:\n",
    "    binary.append(n%2)\n",
    "    n=n//2\n",
    "\n",
    "#print(binary)\n",
    "\n",
    "for i in binary[::-1]:\n",
    "    print(i,end=\"\")\n"
   ]
  },
  {
   "cell_type": "markdown",
   "id": "72781f80",
   "metadata": {},
   "source": [
    "### `Problem 10`: Write a program that will take 2 numbers as input and prints the LCM and HCF of those 2 numbers"
   ]
  },
  {
   "cell_type": "code",
   "execution_count": 59,
   "id": "0e412ab3",
   "metadata": {},
   "outputs": [
    {
     "name": "stdout",
     "output_type": "stream",
     "text": [
      "enter the 1st number :15\n",
      "enter the 2nd number :25\n",
      "75\n"
     ]
    }
   ],
   "source": [
    "# LCM of two numbers is the smallest common multiple or a positive integer which is divisible completely by both the numbers. \n",
    "\n",
    "x=int(input(\"enter the 1st number :\"))\n",
    "y=int(input(\"enter the 2nd number :\"))\n",
    "\n",
    "if x>y:\n",
    "    greater=x\n",
    "else:\n",
    "    greater=y\n",
    "    \n",
    "while True:\n",
    "    if (greater%x==0) and (greater%y==0):\n",
    "        lcm=greater\n",
    "        break\n",
    "\n",
    "    greater=greater+1\n",
    "\n",
    "print(lcm)"
   ]
  },
  {
   "cell_type": "code",
   "execution_count": 62,
   "id": "c0fe3fc9",
   "metadata": {},
   "outputs": [
    {
     "name": "stdout",
     "output_type": "stream",
     "text": [
      "enter the 1st number :12\n",
      "enter the 2nd number :15\n",
      "3\n"
     ]
    }
   ],
   "source": [
    "#The highest common factor of two numbers is defined as the greatest common factor of the two numbers. \n",
    "#For example, let’s consider two numbers 12 and 18.\n",
    "#The two numbers mentioned have the common factors as 2,3, and 6. \n",
    "#The highest out of the three is 6. So in this case the HCF is 6.\n",
    "\n",
    "x=int(input(\"enter the 1st number :\"))\n",
    "y=int(input(\"enter the 2nd number :\"))\n",
    "\n",
    "if x<y:\n",
    "    smaller=x\n",
    "else:\n",
    "    smaller=y\n",
    "    \n",
    "for i in range(1,smaller+1):\n",
    "    if (x%i==0) and (y%i==0):\n",
    "        hcf=i\n",
    "\n",
    "print(hcf)"
   ]
  },
  {
   "cell_type": "markdown",
   "id": "bd21ef63",
   "metadata": {},
   "source": [
    "### **Problem 11:** Create Short Form from initial character\n",
    "Given a string create short form ofthe string from Initial character. Short form should be capitalised.\n",
    "\n",
    "Example:\n",
    "\n",
    "`Input:`\n",
    "```\n",
    "Data science mentorship program\n",
    "```\n",
    "\n",
    "`Output:`\n",
    "```\n",
    "DSMP\n",
    "```"
   ]
  },
  {
   "cell_type": "code",
   "execution_count": 64,
   "id": "d743a48e",
   "metadata": {},
   "outputs": [
    {
     "name": "stdout",
     "output_type": "stream",
     "text": [
      "DSMP\n"
     ]
    }
   ],
   "source": [
    "inp='Data science mentorship program'\n",
    "result=''\n",
    "\n",
    "for i in inp.split():\n",
    "    result+=i[0].upper()\n",
    "\n",
    "print(result)"
   ]
  },
  {
   "cell_type": "markdown",
   "id": "6e64aa5a",
   "metadata": {},
   "source": [
    "###`Problem 12`: Append second string in the middle of first string\n",
    "\n",
    "`Input:`\n",
    "```\n",
    "campusx\n",
    "data\n",
    "```\n",
    "`Output`:\n",
    "\n",
    "```\n",
    "camdatapusx\n",
    "```"
   ]
  },
  {
   "cell_type": "code",
   "execution_count": 66,
   "id": "e1b01c78",
   "metadata": {},
   "outputs": [
    {
     "name": "stdout",
     "output_type": "stream",
     "text": [
      "enter the 1st string :campusx\n",
      "enter the 2nd string :data\n",
      "camdatapusx\n"
     ]
    }
   ],
   "source": [
    "s1=input(\"enter the 1st string :\")\n",
    "s2=input(\"enter the 2nd string :\")\n",
    "\n",
    "print(s1[0:int(len(s1)/2)]+s2+s1[int(len(s1)/2):])"
   ]
  },
  {
   "cell_type": "markdown",
   "id": "3e275e04",
   "metadata": {},
   "source": [
    "###  ``Problem 13``:Given string contains a combination of the lower and upper case letters. Write a program to arrange the characters of a string so that all lowercase letters should come first.\n",
    "\n",
    "Given:\n",
    "\n",
    "`str1 = PyNaTive`\n",
    "\n",
    "Expected Output:\n",
    "\n",
    "`yaivePNT`"
   ]
  },
  {
   "cell_type": "code",
   "execution_count": 70,
   "id": "ed786133",
   "metadata": {},
   "outputs": [
    {
     "name": "stdout",
     "output_type": "stream",
     "text": [
      "yaivePNT\n"
     ]
    }
   ],
   "source": [
    "s = 'PyNaTive'\n",
    "\n",
    "lower=''\n",
    "upper=''\n",
    "\n",
    "for i in s:\n",
    "    if i.islower():\n",
    "        lower+=i\n",
    "    else:\n",
    "        upper+=i\n",
    "\n",
    "print(lower+upper)"
   ]
  },
  {
   "cell_type": "markdown",
   "id": "3a17ca2a",
   "metadata": {},
   "source": [
    "### `Problem 14:`Take a alphanumeric string input and print the sum and average of the digits that appear in the string, ignoring all other characters.\n",
    "\n",
    "Input:\n",
    "\n",
    "`hel123O4every093`\n",
    "\n",
    "Output:\n",
    "\n",
    "```\n",
    "Sum: 22\n",
    "Avg: 2.75\n",
    "```"
   ]
  },
  {
   "cell_type": "code",
   "execution_count": 72,
   "id": "25c20a88",
   "metadata": {},
   "outputs": [
    {
     "name": "stdout",
     "output_type": "stream",
     "text": [
      "sum : 22\n",
      "avg : 2.75\n"
     ]
    }
   ],
   "source": [
    "alpha_numeric_str='hel123O4every093'\n",
    "\n",
    "sum=0\n",
    "digit_counter=1\n",
    "for i in alpha_numeric_str:\n",
    "    if i.isdigit():\n",
    "        sum+=int(i)\n",
    "        digit_counter+=1\n",
    "\n",
    "print('sum :',sum)\n",
    "print('avg :',(sum/digit_counter))"
   ]
  },
  {
   "cell_type": "markdown",
   "id": "b9907546",
   "metadata": {},
   "source": [
    "### `Problem 15:` Removal of all characters from a string except integers\n",
    "`Given:`\n",
    "\n",
    "```\n",
    "str1 = 'I am 25 years and 10 months old'\n",
    "```\n",
    "`Expected Output:`\n",
    "```\n",
    "2510\n",
    "```"
   ]
  },
  {
   "cell_type": "code",
   "execution_count": 73,
   "id": "a19bbcc2",
   "metadata": {},
   "outputs": [
    {
     "name": "stdout",
     "output_type": "stream",
     "text": [
      "2510\n"
     ]
    }
   ],
   "source": [
    "str1 = 'I am 25 years and 10 months old'\n",
    "integer_str=''\n",
    "\n",
    "for i in str1:\n",
    "    if i.isdigit():\n",
    "        integer_str+=str(i)\n",
    "\n",
    "print(integer_str)"
   ]
  },
  {
   "cell_type": "markdown",
   "id": "3c73cb4e",
   "metadata": {},
   "source": [
    "### `Problem 16`: Check whether the string is Symmetrical.\n",
    "\n",
    "**Statement:** Given a string. the task is to check if the string is symmetrical or not. A string is said to be symmetrical if both the halves of the string are the same.\n",
    "\n",
    "**Example 1:**\n",
    "\n",
    "`Input`\n",
    "\n",
    "```bash\n",
    "khokho\n",
    "```\n",
    "\n",
    "`Output`\n",
    "\n",
    "```bash\n",
    "The entered string is symmetrical\n",
    "```"
   ]
  },
  {
   "cell_type": "code",
   "execution_count": 77,
   "id": "59807c1d",
   "metadata": {},
   "outputs": [
    {
     "name": "stdout",
     "output_type": "stream",
     "text": [
      "enter the string :mom\n",
      "Symmetrical\n"
     ]
    }
   ],
   "source": [
    "s = input('enter the string :')\n",
    "\n",
    "if len(s)%2==0:\n",
    "    s1=s[0:len(s)//2]\n",
    "    s2=s[len(s)//2:]\n",
    "else:\n",
    "    s1=s[0:len(s)//2]\n",
    "    s2=s[len(s)//2+1:]\n",
    "\n",
    "if s1==s2:\n",
    "    print(\"Symmetrical\")\n",
    "else:\n",
    "    print(\"Non Symmetrical\")"
   ]
  },
  {
   "cell_type": "markdown",
   "id": "8f8433a0",
   "metadata": {},
   "source": [
    "### `Problem 17`: Reverse words in a given String\n",
    "\n",
    "**Statement:** We are given a string and we need to reverse words of a given string.\n",
    "\n",
    "**Example 1:**\n",
    "\n",
    "`Input:`\n",
    "\n",
    "```bash\n",
    "geeks quiz practice code\n",
    "```\n",
    "\n",
    "`Output:`\n",
    "\n",
    "```bash\n",
    "code practice quiz geeks\n",
    "```\n",
    "\n",
    "**Example 2:**\n",
    "\n",
    "`Input:`\n",
    "\n",
    "```bash\n",
    "my name is laxmi\n",
    "```\n",
    "\n",
    "`Output:`\n",
    "\n",
    "```bash\n",
    "laxmi is name my\n",
    "```"
   ]
  },
  {
   "cell_type": "code",
   "execution_count": 89,
   "id": "7fa3b8dc",
   "metadata": {},
   "outputs": [
    {
     "name": "stdout",
     "output_type": "stream",
     "text": [
      "code practice quiz geeks\n"
     ]
    }
   ],
   "source": [
    "s='geeks quiz practice code'\n",
    "words=[]\n",
    "\n",
    "\n",
    "for i in s.split():\n",
    "    words.append(i)\n",
    "\n",
    "print(\" \".join(words[::-1]))"
   ]
  },
  {
   "cell_type": "markdown",
   "id": "1d434e64",
   "metadata": {},
   "source": [
    "### `Problem 18`: Find uncommon words from two Strings.\n",
    "\n",
    "**Statement:** Given two sentences as strings **A** and **B**. The task is to return a list of all uncommon words. A word is uncommon if it appears exactly once in any one of the sentences, and does not appear in the other sentence. Note: A sentence is a string of space-separated words. Each word consists only of lowercase letters.\n",
    "\n",
    "**Example 1:**\n",
    "\n",
    "`Input:`\n",
    "\n",
    "```bash\n",
    "A = \"apple banana mango\" \n",
    "B = \"banana fruits mango\"\n",
    "```\n",
    "\n",
    "`Output:`\n",
    "\n",
    "```bash\n",
    "['apple', 'fruits']\n",
    "```"
   ]
  },
  {
   "cell_type": "code",
   "execution_count": 91,
   "id": "279840b8",
   "metadata": {},
   "outputs": [
    {
     "name": "stdout",
     "output_type": "stream",
     "text": [
      "['apple', 'fruits']\n"
     ]
    }
   ],
   "source": [
    "A = \"apple banana mango\" \n",
    "B = \"banana fruits mango\"\n",
    "\n",
    "L=[]\n",
    "\n",
    "for i in A.split():\n",
    "    if i not in B and i not in L:\n",
    "        L.append(i)\n",
    "\n",
    "for i in B.split():\n",
    "    if i not in A and i not in L:\n",
    "        L.append(i)\n",
    "\n",
    "print(L)"
   ]
  },
  {
   "cell_type": "markdown",
   "id": "dfa1bed0",
   "metadata": {},
   "source": [
    "### `Problem 19`: Word location in String.\n",
    "\n",
    "**Statement:** Find a location of a word in a given sentence.\n",
    "\n",
    "**Example 1:**\n",
    "\n",
    "`Input:`\n",
    "\n",
    "```bash\n",
    "Sentence: We can learn data science through campusx mentorship program.\n",
    "\n",
    "word: campusx\n",
    "```\n",
    "\n",
    "`Output:`\n",
    "\n",
    "```bash\n",
    "Location of the word is 7.\n",
    "```\n",
    "\n",
    "Note- Don't use index/find functions"
   ]
  },
  {
   "cell_type": "code",
   "execution_count": null,
   "id": "ee76ffcc",
   "metadata": {},
   "outputs": [],
   "source": []
  }
 ],
 "metadata": {
  "kernelspec": {
   "display_name": "Python 3 (ipykernel)",
   "language": "python",
   "name": "python3"
  },
  "language_info": {
   "codemirror_mode": {
    "name": "ipython",
    "version": 3
   },
   "file_extension": ".py",
   "mimetype": "text/x-python",
   "name": "python",
   "nbconvert_exporter": "python",
   "pygments_lexer": "ipython3",
   "version": "3.11.4"
  }
 },
 "nbformat": 4,
 "nbformat_minor": 5
}
