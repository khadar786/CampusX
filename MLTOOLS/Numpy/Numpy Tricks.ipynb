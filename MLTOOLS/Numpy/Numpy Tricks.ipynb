{
 "cells": [
  {
   "cell_type": "markdown",
   "id": "40fcff24",
   "metadata": {},
   "source": [
    "np.sort <br>\n",
    "Return a sorted copy of an array <br>\n",
    "https://numpy.org/doc/stable/reference/generated/numpy.sort.html"
   ]
  },
  {
   "cell_type": "code",
   "execution_count": 1,
   "id": "1969d8a3",
   "metadata": {},
   "outputs": [
    {
     "data": {
      "text/plain": [
       "array([19, 45, 27, 62, 10, 42, 49, 76, 73, 79, 64, 49, 71, 70, 22])"
      ]
     },
     "execution_count": 1,
     "metadata": {},
     "output_type": "execute_result"
    }
   ],
   "source": [
    "# code\n",
    "import numpy as np\n",
    "a=np.random.randint(1,100,15)\n",
    "a"
   ]
  },
  {
   "cell_type": "code",
   "execution_count": 2,
   "id": "c7bc39aa",
   "metadata": {},
   "outputs": [
    {
     "data": {
      "text/plain": [
       "array([10, 19, 22, 27, 42, 45, 49, 49, 62, 64, 70, 71, 73, 76, 79])"
      ]
     },
     "execution_count": 2,
     "metadata": {},
     "output_type": "execute_result"
    }
   ],
   "source": [
    "np.sort(a)"
   ]
  },
  {
   "cell_type": "code",
   "execution_count": 3,
   "id": "9fdcb0f4",
   "metadata": {},
   "outputs": [],
   "source": [
    "b=np.random.randint(1,100,24).reshape(6,4)"
   ]
  },
  {
   "cell_type": "code",
   "execution_count": 4,
   "id": "0e1319fd",
   "metadata": {},
   "outputs": [
    {
     "data": {
      "text/plain": [
       "array([[40, 68, 53, 45],\n",
       "       [73, 53, 27, 97],\n",
       "       [71, 79, 85, 90],\n",
       "       [ 8, 47,  1, 34],\n",
       "       [82, 85, 53, 15],\n",
       "       [88, 61, 57, 62]])"
      ]
     },
     "execution_count": 4,
     "metadata": {},
     "output_type": "execute_result"
    }
   ],
   "source": [
    "b"
   ]
  },
  {
   "cell_type": "code",
   "execution_count": 5,
   "id": "92d8b998",
   "metadata": {},
   "outputs": [
    {
     "data": {
      "text/plain": [
       "array([10, 19, 22, 27, 42, 45, 49, 49, 62, 64, 70, 71, 73, 76, 79])"
      ]
     },
     "execution_count": 5,
     "metadata": {},
     "output_type": "execute_result"
    }
   ],
   "source": [
    "np.sort(a)"
   ]
  },
  {
   "cell_type": "code",
   "execution_count": 6,
   "id": "1a3ca5bf",
   "metadata": {},
   "outputs": [
    {
     "data": {
      "text/plain": [
       "array([[40, 45, 53, 68],\n",
       "       [27, 53, 73, 97],\n",
       "       [71, 79, 85, 90],\n",
       "       [ 1,  8, 34, 47],\n",
       "       [15, 53, 82, 85],\n",
       "       [57, 61, 62, 88]])"
      ]
     },
     "execution_count": 6,
     "metadata": {},
     "output_type": "execute_result"
    }
   ],
   "source": [
    "np.sort(b)"
   ]
  },
  {
   "cell_type": "code",
   "execution_count": 8,
   "id": "8d36556c",
   "metadata": {},
   "outputs": [
    {
     "data": {
      "text/plain": [
       "array([[ 8, 47,  1, 15],\n",
       "       [40, 53, 27, 34],\n",
       "       [71, 61, 53, 45],\n",
       "       [73, 68, 53, 62],\n",
       "       [82, 79, 57, 90],\n",
       "       [88, 85, 85, 97]])"
      ]
     },
     "execution_count": 8,
     "metadata": {},
     "output_type": "execute_result"
    }
   ],
   "source": [
    "np.sort(b,axis=0)"
   ]
  },
  {
   "cell_type": "markdown",
   "id": "ef6a7a83",
   "metadata": {},
   "source": [
    "np.append <br>\n",
    "The numpy.append() appends values along the mentioned axis at the end of the array <br>\n",
    "\n",
    "https://numpy.org/doc/stable/reference/generated/numpy.append.html <br>"
   ]
  },
  {
   "cell_type": "code",
   "execution_count": 10,
   "id": "f15c4c47",
   "metadata": {},
   "outputs": [
    {
     "data": {
      "text/plain": [
       "array([19, 45, 27, 62, 10, 42, 49, 76, 73, 79, 64, 49, 71, 70, 22])"
      ]
     },
     "execution_count": 10,
     "metadata": {},
     "output_type": "execute_result"
    }
   ],
   "source": [
    "# code\n",
    "a"
   ]
  },
  {
   "cell_type": "code",
   "execution_count": 11,
   "id": "a2f86df8",
   "metadata": {},
   "outputs": [
    {
     "data": {
      "text/plain": [
       "array([ 19,  45,  27,  62,  10,  42,  49,  76,  73,  79,  64,  49,  71,\n",
       "        70,  22, 200])"
      ]
     },
     "execution_count": 11,
     "metadata": {},
     "output_type": "execute_result"
    }
   ],
   "source": [
    "np.append(a,200)"
   ]
  },
  {
   "cell_type": "code",
   "execution_count": 12,
   "id": "3faa7aa5",
   "metadata": {},
   "outputs": [
    {
     "data": {
      "text/plain": [
       "array([[40, 68, 53, 45],\n",
       "       [73, 53, 27, 97],\n",
       "       [71, 79, 85, 90],\n",
       "       [ 8, 47,  1, 34],\n",
       "       [82, 85, 53, 15],\n",
       "       [88, 61, 57, 62]])"
      ]
     },
     "execution_count": 12,
     "metadata": {},
     "output_type": "execute_result"
    }
   ],
   "source": [
    "b"
   ]
  },
  {
   "cell_type": "code",
   "execution_count": 14,
   "id": "57ebc5d2",
   "metadata": {},
   "outputs": [
    {
     "data": {
      "text/plain": [
       "array([[40., 68., 53., 45.,  1.],\n",
       "       [73., 53., 27., 97.,  1.],\n",
       "       [71., 79., 85., 90.,  1.],\n",
       "       [ 8., 47.,  1., 34.,  1.],\n",
       "       [82., 85., 53., 15.,  1.],\n",
       "       [88., 61., 57., 62.,  1.]])"
      ]
     },
     "execution_count": 14,
     "metadata": {},
     "output_type": "execute_result"
    }
   ],
   "source": [
    "np.append(b,np.ones((b.shape[0],1)),axis=1)"
   ]
  },
  {
   "cell_type": "code",
   "execution_count": 15,
   "id": "be3141f2",
   "metadata": {},
   "outputs": [],
   "source": [
    "# np.concatenate\n",
    "# numpy.concatenate() function concatenate a sequence of arrays along an existing axis.\n",
    "\n",
    "# https://numpy.org/doc/stable/reference/generated/numpy.concatenate.html"
   ]
  },
  {
   "cell_type": "code",
   "execution_count": 17,
   "id": "48973caf",
   "metadata": {},
   "outputs": [
    {
     "name": "stdout",
     "output_type": "stream",
     "text": [
      "[[0 1 2]\n",
      " [3 4 5]]\n",
      "[[ 6  7  8]\n",
      " [ 9 10 11]]\n"
     ]
    }
   ],
   "source": [
    "# code\n",
    "c=np.arange(6).reshape(2,3)\n",
    "d=np.arange(6,12).reshape(2,3)\n",
    "\n",
    "print(c)\n",
    "print(d)"
   ]
  },
  {
   "cell_type": "code",
   "execution_count": 18,
   "id": "14de7369",
   "metadata": {},
   "outputs": [
    {
     "data": {
      "text/plain": [
       "array([[ 0,  1,  2],\n",
       "       [ 3,  4,  5],\n",
       "       [ 6,  7,  8],\n",
       "       [ 9, 10, 11]])"
      ]
     },
     "execution_count": 18,
     "metadata": {},
     "output_type": "execute_result"
    }
   ],
   "source": [
    "np.concatenate((c,d),axis=0)"
   ]
  },
  {
   "cell_type": "code",
   "execution_count": 19,
   "id": "ee2c0822",
   "metadata": {},
   "outputs": [
    {
     "data": {
      "text/plain": [
       "array([[ 0,  1,  2,  6,  7,  8],\n",
       "       [ 3,  4,  5,  9, 10, 11]])"
      ]
     },
     "execution_count": 19,
     "metadata": {},
     "output_type": "execute_result"
    }
   ],
   "source": [
    "np.concatenate((c,d),axis=1)"
   ]
  },
  {
   "cell_type": "code",
   "execution_count": 20,
   "id": "6f707164",
   "metadata": {},
   "outputs": [],
   "source": [
    "# np.unique\n",
    "# With the help of np.unique() method, we can get the unique values from an array given as parameter in np.unique() method.\n",
    "\n",
    "# https://numpy.org/doc/stable/reference/generated/numpy.unique.html/"
   ]
  },
  {
   "cell_type": "code",
   "execution_count": 21,
   "id": "a9b53e60",
   "metadata": {},
   "outputs": [],
   "source": [
    "e=np.array([1,1,2,2,3,3,4,4,5,5,6,6])"
   ]
  },
  {
   "cell_type": "code",
   "execution_count": 22,
   "id": "08876b39",
   "metadata": {},
   "outputs": [
    {
     "data": {
      "text/plain": [
       "array([1, 2, 3, 4, 5, 6])"
      ]
     },
     "execution_count": 22,
     "metadata": {},
     "output_type": "execute_result"
    }
   ],
   "source": [
    "np.unique(e)"
   ]
  },
  {
   "cell_type": "code",
   "execution_count": 23,
   "id": "4affdb1f",
   "metadata": {},
   "outputs": [],
   "source": [
    "# np.expand_dims\n",
    "# With the help of Numpy.expand_dims() method, we can get the expanded dimensions of an array\n",
    "\n",
    "# https://numpy.org/doc/stable/reference/generated/numpy.expand_dims.html"
   ]
  },
  {
   "cell_type": "code",
   "execution_count": 24,
   "id": "88f3cfd6",
   "metadata": {},
   "outputs": [
    {
     "data": {
      "text/plain": [
       "array([19, 45, 27, 62, 10, 42, 49, 76, 73, 79, 64, 49, 71, 70, 22])"
      ]
     },
     "execution_count": 24,
     "metadata": {},
     "output_type": "execute_result"
    }
   ],
   "source": [
    "# code\n",
    "a"
   ]
  },
  {
   "cell_type": "code",
   "execution_count": 27,
   "id": "db9d52f6",
   "metadata": {},
   "outputs": [
    {
     "data": {
      "text/plain": [
       "array([[19, 45, 27, 62, 10, 42, 49, 76, 73, 79, 64, 49, 71, 70, 22]])"
      ]
     },
     "execution_count": 27,
     "metadata": {},
     "output_type": "execute_result"
    }
   ],
   "source": [
    "np.expand_dims(a,axis=0)"
   ]
  },
  {
   "cell_type": "code",
   "execution_count": 28,
   "id": "528eb239",
   "metadata": {},
   "outputs": [
    {
     "data": {
      "text/plain": [
       "(1, 15)"
      ]
     },
     "execution_count": 28,
     "metadata": {},
     "output_type": "execute_result"
    }
   ],
   "source": [
    "np.expand_dims(a,axis=0).shape"
   ]
  },
  {
   "cell_type": "code",
   "execution_count": 29,
   "id": "5acb4546",
   "metadata": {},
   "outputs": [
    {
     "data": {
      "text/plain": [
       "array([[19],\n",
       "       [45],\n",
       "       [27],\n",
       "       [62],\n",
       "       [10],\n",
       "       [42],\n",
       "       [49],\n",
       "       [76],\n",
       "       [73],\n",
       "       [79],\n",
       "       [64],\n",
       "       [49],\n",
       "       [71],\n",
       "       [70],\n",
       "       [22]])"
      ]
     },
     "execution_count": 29,
     "metadata": {},
     "output_type": "execute_result"
    }
   ],
   "source": [
    "np.expand_dims(a,axis=1)"
   ]
  },
  {
   "cell_type": "code",
   "execution_count": 30,
   "id": "883901bb",
   "metadata": {},
   "outputs": [
    {
     "data": {
      "text/plain": [
       "(15, 1)"
      ]
     },
     "execution_count": 30,
     "metadata": {},
     "output_type": "execute_result"
    }
   ],
   "source": [
    "np.expand_dims(a,axis=1).shape"
   ]
  },
  {
   "cell_type": "code",
   "execution_count": 31,
   "id": "3a6cf4dd",
   "metadata": {},
   "outputs": [],
   "source": [
    "# np.where\n",
    "# The numpy.where() function returns the indices of elements in an input array where the given condition is satisfied.\n",
    "\n",
    "# https://numpy.org/doc/stable/reference/generated/numpy.where.html"
   ]
  },
  {
   "cell_type": "code",
   "execution_count": 32,
   "id": "07306e49",
   "metadata": {},
   "outputs": [
    {
     "data": {
      "text/plain": [
       "array([19, 45, 27, 62, 10, 42, 49, 76, 73, 79, 64, 49, 71, 70, 22])"
      ]
     },
     "execution_count": 32,
     "metadata": {},
     "output_type": "execute_result"
    }
   ],
   "source": [
    "a"
   ]
  },
  {
   "cell_type": "code",
   "execution_count": 33,
   "id": "bed34f71",
   "metadata": {},
   "outputs": [
    {
     "data": {
      "text/plain": [
       "(array([ 3,  7,  8,  9, 10, 12, 13], dtype=int64),)"
      ]
     },
     "execution_count": 33,
     "metadata": {},
     "output_type": "execute_result"
    }
   ],
   "source": [
    "# find all indices with value greater than 50\n",
    "np.where(a>50)"
   ]
  },
  {
   "cell_type": "code",
   "execution_count": 34,
   "id": "26305fd9",
   "metadata": {},
   "outputs": [],
   "source": [
    "# replace all values >50 with 0"
   ]
  },
  {
   "cell_type": "code",
   "execution_count": 35,
   "id": "06e90d7b",
   "metadata": {},
   "outputs": [
    {
     "data": {
      "text/plain": [
       "array([19, 45, 27,  0, 10, 42, 49,  0,  0,  0,  0, 49,  0,  0, 22])"
      ]
     },
     "execution_count": 35,
     "metadata": {},
     "output_type": "execute_result"
    }
   ],
   "source": [
    "np.where(a>50,0,a)"
   ]
  },
  {
   "cell_type": "code",
   "execution_count": 36,
   "id": "421072f6",
   "metadata": {},
   "outputs": [
    {
     "data": {
      "text/plain": [
       "array([19, 45, 27,  0,  0,  0, 49,  0, 73, 79,  0, 49, 71,  0,  0])"
      ]
     },
     "execution_count": 36,
     "metadata": {},
     "output_type": "execute_result"
    }
   ],
   "source": [
    "np.where(a%2==0,0,a)"
   ]
  },
  {
   "cell_type": "code",
   "execution_count": 37,
   "id": "5065c587",
   "metadata": {},
   "outputs": [],
   "source": [
    "# np.argmax\n",
    "# The numpy.argmax() function returns indices of the max element of the array in a particular axis.\n",
    "\n",
    "# https://numpy.org/doc/stable/reference/generated/numpy.argmax.html"
   ]
  },
  {
   "cell_type": "code",
   "execution_count": 40,
   "id": "87ef04e2",
   "metadata": {},
   "outputs": [
    {
     "data": {
      "text/plain": [
       "array([19, 45, 27, 62, 10, 42, 49, 76, 73, 79, 64, 49, 71, 70, 22])"
      ]
     },
     "execution_count": 40,
     "metadata": {},
     "output_type": "execute_result"
    }
   ],
   "source": [
    "a"
   ]
  },
  {
   "cell_type": "code",
   "execution_count": 41,
   "id": "7650083d",
   "metadata": {},
   "outputs": [
    {
     "data": {
      "text/plain": [
       "9"
      ]
     },
     "execution_count": 41,
     "metadata": {},
     "output_type": "execute_result"
    }
   ],
   "source": [
    "np.argmax(a)"
   ]
  },
  {
   "cell_type": "code",
   "execution_count": 42,
   "id": "eb0635d8",
   "metadata": {},
   "outputs": [
    {
     "data": {
      "text/plain": [
       "79"
      ]
     },
     "execution_count": 42,
     "metadata": {},
     "output_type": "execute_result"
    }
   ],
   "source": [
    "a[np.argmax(a)]"
   ]
  },
  {
   "cell_type": "code",
   "execution_count": 43,
   "id": "cc454576",
   "metadata": {},
   "outputs": [
    {
     "data": {
      "text/plain": [
       "array([[40, 68, 53, 45],\n",
       "       [73, 53, 27, 97],\n",
       "       [71, 79, 85, 90],\n",
       "       [ 8, 47,  1, 34],\n",
       "       [82, 85, 53, 15],\n",
       "       [88, 61, 57, 62]])"
      ]
     },
     "execution_count": 43,
     "metadata": {},
     "output_type": "execute_result"
    }
   ],
   "source": [
    "b"
   ]
  },
  {
   "cell_type": "code",
   "execution_count": 47,
   "id": "ef5254c2",
   "metadata": {},
   "outputs": [
    {
     "data": {
      "text/plain": [
       "array([5, 4, 2, 1], dtype=int64)"
      ]
     },
     "execution_count": 47,
     "metadata": {},
     "output_type": "execute_result"
    }
   ],
   "source": [
    "np.argmax(b,axis=0)"
   ]
  },
  {
   "cell_type": "code",
   "execution_count": 48,
   "id": "311478d3",
   "metadata": {},
   "outputs": [
    {
     "data": {
      "text/plain": [
       "array([1, 3, 3, 1, 1, 0], dtype=int64)"
      ]
     },
     "execution_count": 48,
     "metadata": {},
     "output_type": "execute_result"
    }
   ],
   "source": [
    "np.argmax(b,axis=1)"
   ]
  },
  {
   "cell_type": "code",
   "execution_count": 49,
   "id": "d2895dd4",
   "metadata": {},
   "outputs": [
    {
     "data": {
      "text/plain": [
       "4"
      ]
     },
     "execution_count": 49,
     "metadata": {},
     "output_type": "execute_result"
    }
   ],
   "source": [
    "#np.argmin\n",
    "np.argmin(a)"
   ]
  },
  {
   "cell_type": "code",
   "execution_count": 50,
   "id": "26aed3a9",
   "metadata": {},
   "outputs": [],
   "source": [
    "# np.cumsum\n",
    "# numpy.cumsum() function is used when we want to compute the cumulative sum of array elements over a given axis.\n",
    "\n",
    "# https://numpy.org/doc/stable/reference/generated/numpy.cumsum.html"
   ]
  },
  {
   "cell_type": "code",
   "execution_count": 51,
   "id": "5bb14d4f",
   "metadata": {},
   "outputs": [
    {
     "data": {
      "text/plain": [
       "array([19, 45, 27, 62, 10, 42, 49, 76, 73, 79, 64, 49, 71, 70, 22])"
      ]
     },
     "execution_count": 51,
     "metadata": {},
     "output_type": "execute_result"
    }
   ],
   "source": [
    "a"
   ]
  },
  {
   "cell_type": "code",
   "execution_count": 52,
   "id": "12e20738",
   "metadata": {},
   "outputs": [
    {
     "data": {
      "text/plain": [
       "array([ 19,  64,  91, 153, 163, 205, 254, 330, 403, 482, 546, 595, 666,\n",
       "       736, 758], dtype=int32)"
      ]
     },
     "execution_count": 52,
     "metadata": {},
     "output_type": "execute_result"
    }
   ],
   "source": [
    "np.cumsum(a)"
   ]
  },
  {
   "cell_type": "code",
   "execution_count": 54,
   "id": "665cd469",
   "metadata": {},
   "outputs": [
    {
     "data": {
      "text/plain": [
       "array([[ 40, 108, 161, 206],\n",
       "       [ 73, 126, 153, 250],\n",
       "       [ 71, 150, 235, 325],\n",
       "       [  8,  55,  56,  90],\n",
       "       [ 82, 167, 220, 235],\n",
       "       [ 88, 149, 206, 268]], dtype=int32)"
      ]
     },
     "execution_count": 54,
     "metadata": {},
     "output_type": "execute_result"
    }
   ],
   "source": [
    "np.cumsum(b,axis=1)"
   ]
  },
  {
   "cell_type": "code",
   "execution_count": 55,
   "id": "872d9e78",
   "metadata": {},
   "outputs": [
    {
     "data": {
      "text/plain": [
       "array([        19,        855,      23085,    1431270,   14312700,\n",
       "        601133400, -609234472,  942820384,  106411296, -183442208,\n",
       "       1144600576,  250853376,  630720512, 1200762880,  646979584],\n",
       "      dtype=int32)"
      ]
     },
     "execution_count": 55,
     "metadata": {},
     "output_type": "execute_result"
    }
   ],
   "source": [
    "# np.cumprod\n",
    "np.cumprod(a)"
   ]
  },
  {
   "cell_type": "code",
   "execution_count": 56,
   "id": "f951099d",
   "metadata": {},
   "outputs": [],
   "source": [
    "# np.percentile\n",
    "# numpy.percentile()function used to compute the nth percentile of the given data (array elements) along the specified axis.\n",
    "\n",
    "# https://numpy.org/doc/stable/reference/generated/numpy.percentile.html"
   ]
  },
  {
   "cell_type": "code",
   "execution_count": 57,
   "id": "af52b61d",
   "metadata": {},
   "outputs": [
    {
     "data": {
      "text/plain": [
       "array([19, 45, 27, 62, 10, 42, 49, 76, 73, 79, 64, 49, 71, 70, 22])"
      ]
     },
     "execution_count": 57,
     "metadata": {},
     "output_type": "execute_result"
    }
   ],
   "source": [
    "a"
   ]
  },
  {
   "cell_type": "code",
   "execution_count": 58,
   "id": "862761bb",
   "metadata": {},
   "outputs": [
    {
     "data": {
      "text/plain": [
       "49.0"
      ]
     },
     "execution_count": 58,
     "metadata": {},
     "output_type": "execute_result"
    }
   ],
   "source": [
    "np.percentile(a,50)"
   ]
  },
  {
   "cell_type": "code",
   "execution_count": 59,
   "id": "e1016fdc",
   "metadata": {},
   "outputs": [
    {
     "data": {
      "text/plain": [
       "10.0"
      ]
     },
     "execution_count": 59,
     "metadata": {},
     "output_type": "execute_result"
    }
   ],
   "source": [
    "np.percentile(a,0)"
   ]
  },
  {
   "cell_type": "code",
   "execution_count": 60,
   "id": "faec2d48",
   "metadata": {},
   "outputs": [
    {
     "data": {
      "text/plain": [
       "70.5"
      ]
     },
     "execution_count": 60,
     "metadata": {},
     "output_type": "execute_result"
    }
   ],
   "source": [
    "np.percentile(a,75)"
   ]
  },
  {
   "cell_type": "code",
   "execution_count": 61,
   "id": "45634907",
   "metadata": {},
   "outputs": [
    {
     "data": {
      "text/plain": [
       "49.0"
      ]
     },
     "execution_count": 61,
     "metadata": {},
     "output_type": "execute_result"
    }
   ],
   "source": [
    "np.median(a)"
   ]
  },
  {
   "cell_type": "code",
   "execution_count": 62,
   "id": "d320c774",
   "metadata": {},
   "outputs": [],
   "source": [
    "# np.histogram\n",
    "# Numpy has a built-in numpy.histogram() function which represents the frequency of data distribution in the graphical form.\n",
    "\n",
    "# https://numpy.org/doc/stable/reference/generated/numpy.histogram.html"
   ]
  },
  {
   "cell_type": "code",
   "execution_count": 64,
   "id": "a51c5599",
   "metadata": {},
   "outputs": [
    {
     "data": {
      "text/plain": [
       "(array([0, 2, 2, 0, 4, 0, 2, 5, 0, 0], dtype=int64),\n",
       " array([  0,  10,  20,  30,  40,  50,  60,  70,  80,  90, 100]))"
      ]
     },
     "execution_count": 64,
     "metadata": {},
     "output_type": "execute_result"
    }
   ],
   "source": [
    "np.histogram(a,bins=[0,10,20,30,40,50,60,70,80,90,100])"
   ]
  },
  {
   "cell_type": "code",
   "execution_count": 65,
   "id": "cf82819e",
   "metadata": {},
   "outputs": [
    {
     "data": {
      "text/plain": [
       "(array([8, 7], dtype=int64), array([  0,  50, 100]))"
      ]
     },
     "execution_count": 65,
     "metadata": {},
     "output_type": "execute_result"
    }
   ],
   "source": [
    "np.histogram(a,bins=[0,50,100])"
   ]
  },
  {
   "cell_type": "code",
   "execution_count": 66,
   "id": "a74a413e",
   "metadata": {},
   "outputs": [],
   "source": [
    "# np.corrcoef\n",
    "# Return Pearson product-moment correlation coefficients.\n",
    "\n",
    "# https://numpy.org/doc/stable/reference/generated/numpy.corrcoef.html"
   ]
  },
  {
   "cell_type": "code",
   "execution_count": 67,
   "id": "18875b4d",
   "metadata": {},
   "outputs": [
    {
     "data": {
      "text/plain": [
       "array([[1.        , 0.25344572],\n",
       "       [0.25344572, 1.        ]])"
      ]
     },
     "execution_count": 67,
     "metadata": {},
     "output_type": "execute_result"
    }
   ],
   "source": [
    "salary=np.array([20000,40000,25000,35000,60000])\n",
    "experience=np.array([1,3,2,4,2])\n",
    "\n",
    "np.corrcoef(salary,experience)"
   ]
  },
  {
   "cell_type": "code",
   "execution_count": 68,
   "id": "94ffb0a3",
   "metadata": {},
   "outputs": [],
   "source": [
    "# np.isin\n",
    "# With the help of numpy.isin() method, we can see that one array having values are checked in a different numpy array having different elements with different sizes.\n",
    "\n",
    "# https://numpy.org/doc/stable/reference/generated/numpy.isin.html"
   ]
  },
  {
   "cell_type": "code",
   "execution_count": 69,
   "id": "adedc0a7",
   "metadata": {},
   "outputs": [
    {
     "data": {
      "text/plain": [
       "array([19, 45, 27, 62, 10, 42, 49, 76, 73, 79, 64, 49, 71, 70, 22])"
      ]
     },
     "execution_count": 69,
     "metadata": {},
     "output_type": "execute_result"
    }
   ],
   "source": [
    "a"
   ]
  },
  {
   "cell_type": "code",
   "execution_count": 71,
   "id": "95483c39",
   "metadata": {},
   "outputs": [
    {
     "data": {
      "text/plain": [
       "array([False, False, False, False, False, False,  True, False, False,\n",
       "       False,  True,  True, False, False,  True])"
      ]
     },
     "execution_count": 71,
     "metadata": {},
     "output_type": "execute_result"
    }
   ],
   "source": [
    "np.isin(a,[49,22,64])"
   ]
  },
  {
   "cell_type": "code",
   "execution_count": 72,
   "id": "5939e3ab",
   "metadata": {},
   "outputs": [
    {
     "data": {
      "text/plain": [
       "array([False, False, False, False,  True, False, False, False, False,\n",
       "       False, False, False, False,  True, False])"
      ]
     },
     "execution_count": 72,
     "metadata": {},
     "output_type": "execute_result"
    }
   ],
   "source": [
    "items=[10,20,30,40,50,60,70,80,90,100]\n",
    "np.isin(a,items)"
   ]
  },
  {
   "cell_type": "code",
   "execution_count": 73,
   "id": "af25566d",
   "metadata": {},
   "outputs": [],
   "source": [
    "# np.flip\n",
    "# The numpy.flip() function reverses the order of array elements along the specified axis, preserving the shape of the array.\n",
    "\n",
    "# https://numpy.org/doc/stable/reference/generated/numpy.flip.html"
   ]
  },
  {
   "cell_type": "code",
   "execution_count": 74,
   "id": "ae900222",
   "metadata": {},
   "outputs": [
    {
     "data": {
      "text/plain": [
       "array([19, 45, 27, 62, 10, 42, 49, 76, 73, 79, 64, 49, 71, 70, 22])"
      ]
     },
     "execution_count": 74,
     "metadata": {},
     "output_type": "execute_result"
    }
   ],
   "source": [
    "a"
   ]
  },
  {
   "cell_type": "code",
   "execution_count": 75,
   "id": "e031853c",
   "metadata": {},
   "outputs": [
    {
     "data": {
      "text/plain": [
       "array([22, 70, 71, 49, 64, 79, 73, 76, 49, 42, 10, 62, 27, 45, 19])"
      ]
     },
     "execution_count": 75,
     "metadata": {},
     "output_type": "execute_result"
    }
   ],
   "source": [
    "np.flip(a)"
   ]
  },
  {
   "cell_type": "code",
   "execution_count": 76,
   "id": "43c630cc",
   "metadata": {},
   "outputs": [
    {
     "data": {
      "text/plain": [
       "array([[40, 68, 53, 45],\n",
       "       [73, 53, 27, 97],\n",
       "       [71, 79, 85, 90],\n",
       "       [ 8, 47,  1, 34],\n",
       "       [82, 85, 53, 15],\n",
       "       [88, 61, 57, 62]])"
      ]
     },
     "execution_count": 76,
     "metadata": {},
     "output_type": "execute_result"
    }
   ],
   "source": [
    "b"
   ]
  },
  {
   "cell_type": "code",
   "execution_count": 78,
   "id": "c050c9fd",
   "metadata": {},
   "outputs": [
    {
     "data": {
      "text/plain": [
       "array([[88, 61, 57, 62],\n",
       "       [82, 85, 53, 15],\n",
       "       [ 8, 47,  1, 34],\n",
       "       [71, 79, 85, 90],\n",
       "       [73, 53, 27, 97],\n",
       "       [40, 68, 53, 45]])"
      ]
     },
     "execution_count": 78,
     "metadata": {},
     "output_type": "execute_result"
    }
   ],
   "source": [
    "np.flip(b,axis=0)"
   ]
  },
  {
   "cell_type": "code",
   "execution_count": 79,
   "id": "67a3fa27",
   "metadata": {},
   "outputs": [
    {
     "data": {
      "text/plain": [
       "array([[45, 53, 68, 40],\n",
       "       [97, 27, 53, 73],\n",
       "       [90, 85, 79, 71],\n",
       "       [34,  1, 47,  8],\n",
       "       [15, 53, 85, 82],\n",
       "       [62, 57, 61, 88]])"
      ]
     },
     "execution_count": 79,
     "metadata": {},
     "output_type": "execute_result"
    }
   ],
   "source": [
    "np.flip(b,axis=1)"
   ]
  },
  {
   "cell_type": "code",
   "execution_count": 80,
   "id": "107642f4",
   "metadata": {},
   "outputs": [],
   "source": [
    "# np.put\n",
    "# The numpy.put() function replaces specific elements of an array with given values of p_array. Array indexed works on flattened array.\n",
    "\n",
    "# https://numpy.org/doc/stable/reference/generated/numpy.put.html"
   ]
  },
  {
   "cell_type": "code",
   "execution_count": 81,
   "id": "b92a0ec6",
   "metadata": {},
   "outputs": [
    {
     "data": {
      "text/plain": [
       "array([19, 45, 27, 62, 10, 42, 49, 76, 73, 79, 64, 49, 71, 70, 22])"
      ]
     },
     "execution_count": 81,
     "metadata": {},
     "output_type": "execute_result"
    }
   ],
   "source": [
    "a"
   ]
  },
  {
   "cell_type": "code",
   "execution_count": 82,
   "id": "3490bb42",
   "metadata": {},
   "outputs": [],
   "source": [
    "np.put(a,[0,1],[110,530])"
   ]
  },
  {
   "cell_type": "code",
   "execution_count": 83,
   "id": "3d0b8915",
   "metadata": {},
   "outputs": [
    {
     "data": {
      "text/plain": [
       "array([110, 530,  27,  62,  10,  42,  49,  76,  73,  79,  64,  49,  71,\n",
       "        70,  22])"
      ]
     },
     "execution_count": 83,
     "metadata": {},
     "output_type": "execute_result"
    }
   ],
   "source": [
    "a"
   ]
  },
  {
   "cell_type": "code",
   "execution_count": 84,
   "id": "a230bdd8",
   "metadata": {},
   "outputs": [],
   "source": [
    "# np.delete\n",
    "# The numpy.delete() function returns a new array with the deletion of sub-arrays along with the mentioned axis.\n",
    "\n",
    "# https://numpy.org/doc/stable/reference/generated/numpy.delete.html"
   ]
  },
  {
   "cell_type": "code",
   "execution_count": 85,
   "id": "6241a139",
   "metadata": {},
   "outputs": [
    {
     "data": {
      "text/plain": [
       "array([110, 530,  27,  62,  10,  42,  49,  76,  73,  79,  64,  49,  71,\n",
       "        70,  22])"
      ]
     },
     "execution_count": 85,
     "metadata": {},
     "output_type": "execute_result"
    }
   ],
   "source": [
    "a"
   ]
  },
  {
   "cell_type": "code",
   "execution_count": 87,
   "id": "355e17f5",
   "metadata": {},
   "outputs": [
    {
     "data": {
      "text/plain": [
       "array([530,  27,  62,  10,  42,  49,  76,  73,  79,  64,  49,  71,  70,\n",
       "        22])"
      ]
     },
     "execution_count": 87,
     "metadata": {},
     "output_type": "execute_result"
    }
   ],
   "source": [
    "np.delete(a,0)"
   ]
  },
  {
   "cell_type": "code",
   "execution_count": 88,
   "id": "8958f975",
   "metadata": {},
   "outputs": [
    {
     "data": {
      "text/plain": [
       "array([110, 530,  27,  62,  10,  42,  49,  76,  73,  79,  64,  49,  71,\n",
       "        70,  22])"
      ]
     },
     "execution_count": 88,
     "metadata": {},
     "output_type": "execute_result"
    }
   ],
   "source": [
    "a"
   ]
  },
  {
   "cell_type": "code",
   "execution_count": 89,
   "id": "a1ac6cb6",
   "metadata": {},
   "outputs": [],
   "source": [
    "# Set functions\n",
    "# np.union1d\n",
    "# np.intersect1d\n",
    "# np.setdiff1d\n",
    "# np.setxor1d\n",
    "# np.in1d"
   ]
  },
  {
   "cell_type": "code",
   "execution_count": 90,
   "id": "e800b89d",
   "metadata": {},
   "outputs": [
    {
     "data": {
      "text/plain": [
       "array([1, 2, 3, 4, 5, 6, 7])"
      ]
     },
     "execution_count": 90,
     "metadata": {},
     "output_type": "execute_result"
    }
   ],
   "source": [
    "m=np.array([1,2,3,4,5])\n",
    "n=np.array([3,4,5,6,7])\n",
    "\n",
    "np.union1d(m,n)"
   ]
  },
  {
   "cell_type": "code",
   "execution_count": 91,
   "id": "45863ead",
   "metadata": {},
   "outputs": [
    {
     "data": {
      "text/plain": [
       "array([3, 4, 5])"
      ]
     },
     "execution_count": 91,
     "metadata": {},
     "output_type": "execute_result"
    }
   ],
   "source": [
    "np.intersect1d(m,n)"
   ]
  },
  {
   "cell_type": "code",
   "execution_count": 92,
   "id": "3ff34957",
   "metadata": {},
   "outputs": [
    {
     "data": {
      "text/plain": [
       "array([1, 2])"
      ]
     },
     "execution_count": 92,
     "metadata": {},
     "output_type": "execute_result"
    }
   ],
   "source": [
    "np.setdiff1d(m,n)"
   ]
  },
  {
   "cell_type": "code",
   "execution_count": 93,
   "id": "307c434d",
   "metadata": {},
   "outputs": [
    {
     "data": {
      "text/plain": [
       "array([1, 2, 6, 7])"
      ]
     },
     "execution_count": 93,
     "metadata": {},
     "output_type": "execute_result"
    }
   ],
   "source": [
    "np.setxor1d(m,n)"
   ]
  },
  {
   "cell_type": "code",
   "execution_count": 94,
   "id": "efe29ba1",
   "metadata": {},
   "outputs": [
    {
     "data": {
      "text/plain": [
       "array([False, False,  True,  True,  True])"
      ]
     },
     "execution_count": 94,
     "metadata": {},
     "output_type": "execute_result"
    }
   ],
   "source": [
    "np.in1d(m,n)"
   ]
  },
  {
   "cell_type": "code",
   "execution_count": 95,
   "id": "4c08ba66",
   "metadata": {},
   "outputs": [],
   "source": [
    "# np.clip\n",
    "# numpy.clip() function is used to Clip (limit) the values in an array.\n",
    "\n",
    "# https://numpy.org/doc/stable/reference/generated/numpy.clip.html"
   ]
  },
  {
   "cell_type": "code",
   "execution_count": 96,
   "id": "c6865342",
   "metadata": {},
   "outputs": [
    {
     "data": {
      "text/plain": [
       "array([75, 75, 27, 62, 25, 42, 49, 75, 73, 75, 64, 49, 71, 70, 25])"
      ]
     },
     "execution_count": 96,
     "metadata": {},
     "output_type": "execute_result"
    }
   ],
   "source": [
    "# code\n",
    "np.clip(a,a_min=25,a_max=75)"
   ]
  },
  {
   "cell_type": "code",
   "execution_count": null,
   "id": "d1c9cf4d",
   "metadata": {},
   "outputs": [],
   "source": []
  }
 ],
 "metadata": {
  "kernelspec": {
   "display_name": "Python 3 (ipykernel)",
   "language": "python",
   "name": "python3"
  },
  "language_info": {
   "codemirror_mode": {
    "name": "ipython",
    "version": 3
   },
   "file_extension": ".py",
   "mimetype": "text/x-python",
   "name": "python",
   "nbconvert_exporter": "python",
   "pygments_lexer": "ipython3",
   "version": "3.9.13"
  }
 },
 "nbformat": 4,
 "nbformat_minor": 5
}
