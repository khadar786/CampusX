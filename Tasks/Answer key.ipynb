{
 "cells": [
  {
   "cell_type": "code",
   "execution_count": 3,
   "id": "f45132eb",
   "metadata": {},
   "outputs": [],
   "source": [
    "#!pip install fitz"
   ]
  },
  {
   "cell_type": "code",
   "execution_count": 6,
   "id": "e6ef144a",
   "metadata": {},
   "outputs": [],
   "source": [
    "#import fitz"
   ]
  },
  {
   "cell_type": "code",
   "execution_count": null,
   "id": "0e91af51",
   "metadata": {},
   "outputs": [],
   "source": []
  }
 ],
 "metadata": {
  "kernelspec": {
   "display_name": "Python 3 (ipykernel)",
   "language": "python",
   "name": "python3"
  },
  "language_info": {
   "codemirror_mode": {
    "name": "ipython",
    "version": 3
   },
   "file_extension": ".py",
   "mimetype": "text/x-python",
   "name": "python",
   "nbconvert_exporter": "python",
   "pygments_lexer": "ipython3",
   "version": "3.11.4"
  }
 },
 "nbformat": 4,
 "nbformat_minor": 5
}
