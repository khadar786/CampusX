{
 "cells": [
  {
   "cell_type": "markdown",
   "id": "101c03f7",
   "metadata": {},
   "source": [
    "# Tuple"
   ]
  },
  {
   "cell_type": "markdown",
   "id": "83452345",
   "metadata": {},
   "source": [
    "### `Q1:` Join Tuples if similar initial element\n",
    "While working with Python tuples, we can have a problem in which we need to perform concatenation of records from the similarity of initial element. This problem can have applications in data domains such as Data Science.\n",
    "\n",
    "For eg.\n",
    "```\n",
    "Input  : test_list = [(5, 6), (5, 7), (5, 8), (6, 10), (7, 13)]\n",
    "Output : [(5, 6, 7, 8), (6, 10), (7, 13)]\n",
    "```"
   ]
  },
  {
   "cell_type": "code",
   "execution_count": 1,
   "id": "ad3d2d7c",
   "metadata": {},
   "outputs": [
    {
     "name": "stdout",
     "output_type": "stream",
     "text": [
      "[(5, 6, 7, 8), (6, 10), (7, 13)]\n"
     ]
    }
   ],
   "source": [
    "test_list = [(5, 6), (5, 7), (5, 8), (6, 10), (7, 13)]\n",
    "unique=[]\n",
    "\n",
    "for i in test_list:\n",
    "    unique.append(i[0])\n",
    "unique=set(unique)\n",
    "\n",
    "\n",
    "result=[]\n",
    "for i in unique:\n",
    "    result.append([i])\n",
    "    for j in test_list:\n",
    "        if j[0]==i:\n",
    "            result[-1].append(j[1])\n",
    "\n",
    "#print(result)\n",
    "print(list(map(tuple,result)))"
   ]
  },
  {
   "cell_type": "markdown",
   "id": "11134ced",
   "metadata": {},
   "source": [
    "### `Q2:` Multiply Adjacent elements (both side) and take sum of right and lest side multiplication result.\n",
    "\n",
    "\n",
    "For eg.\n",
    "```\n",
    "The original tuple : (1, 5, 7, 8, 10)\n",
    "Resultant tuple after multiplication :\n",
    "\n",
    "(1*5, 1*5+5*7, 7*5 + 7*8, 8*7 + 8*10, 10*8) -> (5, 40, 91, 136, 80)\n",
    "\n",
    "output-(5, 40, 91, 136, 80)\n",
    "```"
   ]
  },
  {
   "cell_type": "code",
   "execution_count": 2,
   "id": "0d8e1707",
   "metadata": {},
   "outputs": [
    {
     "name": "stdout",
     "output_type": "stream",
     "text": [
      "(5, 40, 91, 136, 80)\n"
     ]
    }
   ],
   "source": [
    "t=(1, 5, 7, 8, 10)\n",
    "L=[]\n",
    "\n",
    "L.append(t[0]*t[1])\n",
    "\n",
    "for i in range(1,len(t)-1):\n",
    "    L.append(t[i]*t[i-1] + t[i]*t[i+1])\n",
    "\n",
    "L.append(t[-1]*t[-2])\n",
    "\n",
    "print(tuple(L))"
   ]
  },
  {
   "cell_type": "markdown",
   "id": "7a289616",
   "metadata": {},
   "source": [
    "### `Q3`: Check is tuples are same or not?\n",
    "Two tuples would be same if both tuples have same element at same index\n",
    "```\n",
    "t1 = (1,2,3,0)\n",
    "t2 = (0,1,2,3)\n",
    "\n",
    "t1 and t2 are not same\n",
    "```"
   ]
  },
  {
   "cell_type": "code",
   "execution_count": 6,
   "id": "d308f66b",
   "metadata": {},
   "outputs": [
    {
     "name": "stdout",
     "output_type": "stream",
     "text": [
      "t1 and t2 are same \n"
     ]
    }
   ],
   "source": [
    "t1 = (1,2,3,0)\n",
    "#t2 = (0,1,2,3)\n",
    "t2 = (1,2,3,0)\n",
    "\n",
    "flag=True\n",
    "for i,j in list(zip(t1,t2)):\n",
    "    if i==j:\n",
    "        continue\n",
    "    else:\n",
    "        flag=False\n",
    "        break\n",
    "\n",
    "if flag==True:\n",
    "    print(\"t1 and t2 are same \")\n",
    "else:\n",
    "    print(\"t1 and t2 are not same\")"
   ]
  },
  {
   "cell_type": "markdown",
   "id": "9196bb38",
   "metadata": {},
   "source": [
    "### `Q4`: Count no of tuples, list and set from a list\n",
    "```\n",
    "list1 = [{'hi', 'bye'},{'Geeks', 'forGeeks'},('a', 'b'),['hi', 'bye'],['a', 'b']]\n",
    "\n",
    "```\n",
    "`Output:`\n",
    "\n",
    "```\n",
    "List-2\n",
    "Set-2\n",
    "Tuples-1\n",
    "```"
   ]
  },
  {
   "cell_type": "code",
   "execution_count": 11,
   "id": "6098d975",
   "metadata": {},
   "outputs": [
    {
     "name": "stdout",
     "output_type": "stream",
     "text": [
      "List-2\n",
      "Set-2\n",
      "Tuples-1\n"
     ]
    }
   ],
   "source": [
    "list1 = [{'hi', 'bye'},{'Geeks', 'forGeeks'},('a', 'b'),['hi', 'bye'],['a', 'b']]\n",
    "output=[0,0,0]\n",
    "\n",
    "for i in list1:\n",
    "    if type(i)==list:\n",
    "        output[0]+=1\n",
    "    elif type(i)==set:\n",
    "        output[1]+=1\n",
    "    elif type(i)==tuple:\n",
    "        output[2]+=1\n",
    "    else:\n",
    "        pass\n",
    "\n",
    "print(\"List-{}\\nSet-{}\\nTuples-{}\".format(output[0],output[1],output[2]))"
   ]
  },
  {
   "cell_type": "markdown",
   "id": "0b2abfb9",
   "metadata": {},
   "source": [
    "### `Q5`: Shortlist Students for a Job role\n",
    "Ask user to input students record and store in tuples for each record. Then Ask user to input three things he wants in the candidate- Primary Skill, Higher Education, Year of Graduation.\n",
    "\n",
    "Show every students record in form of tuples if matches all required criteria.\n",
    "\n",
    "It is assumed that there will be only one primry skill.\n",
    "\n",
    "If no such candidate found, print `No such candidate`\n",
    "\n",
    "`Input:`\n",
    "```\n",
    "Enter No of records- 2\n",
    "Enter Details of student-1\n",
    "Enter Student name- Manohar\n",
    "Enter Higher Education- c\n",
    "Enter Primary Skill- Python\n",
    "Enter Year of Graduation- 2022\n",
    "Enter Details of student-2\n",
    "Enter Student name- Ponian\n",
    "Enter Higher Education- B.Sc.\n",
    "Enter Primary Skill- C++\n",
    "Enter Year of Graduation- 2020\n",
    "\n",
    "Enter Job Role Requirement\n",
    "Enter Skill- Python\n",
    "Enter Higher Education- B.Tech\n",
    "Enter Year of Graduation- 2022\n",
    "```\n",
    "\n",
    "`Output`\n",
    "```\n",
    "('Manohar', 'B.tech', 'Python', '2022')\n",
    "```\n"
   ]
  },
  {
   "cell_type": "code",
   "execution_count": 16,
   "id": "a2e48cd2",
   "metadata": {},
   "outputs": [
    {
     "name": "stdout",
     "output_type": "stream",
     "text": [
      "Enter No of applicants :2\n",
      "Enter details of 1 applicant:\n",
      "Enter Student Applicant :Manohar\n",
      "Enter Higher Education :B.Tech\n",
      "Enter Primary Skill :Python\n",
      "Enter Year of Graduation :2021\n",
      "Enter details of 2 applicant:\n",
      "Enter Student Applicant :Khadar\n",
      "Enter Higher Education :MCA\n",
      "Enter Primary Skill :Java\n",
      "Enter Year of Graduation :2021\n",
      "[('Manohar', 'B.Tech', 'Python', '2021'), ('Khadar', 'MCA', 'Java', '2021')]\n"
     ]
    }
   ],
   "source": [
    "num=int(input(\"Enter No of applicants :\"))\n",
    "\n",
    "applicants=[]\n",
    "for i in range(num):\n",
    "    print('Enter details of',(i+1),'applicant:')\n",
    "    applicant_name=input('Enter Student Applicant :')\n",
    "    higher_education=input('Enter Higher Education :')\n",
    "    primary_skill=input('Enter Primary Skill :')\n",
    "    year_of_graduation=input('Enter Year of Graduation :')\n",
    "    applicants.append((applicant_name,higher_education,primary_skill,year_of_graduation))\n",
    "\n",
    "\n",
    "print('Enter Job Role Requirement')\n",
    "required_skill=input('Enter required skill :')\n",
    "required_hed=input('Enter required higher education :')\n",
    "c=input('Enter required year of graducation :')\n",
    "\n",
    "flag=False\n",
    "for i in applicants:\n",
    "    \n",
    "    if i[2]==required_skill and i[1]==required_hed and i[3]==required_hed:\n",
    "        flag=True\n",
    "        break\n",
    "\n",
    "\n",
    "\n"
   ]
  },
  {
   "cell_type": "code",
   "execution_count": null,
   "id": "de32fe98",
   "metadata": {},
   "outputs": [],
   "source": []
  }
 ],
 "metadata": {
  "kernelspec": {
   "display_name": "Python 3 (ipykernel)",
   "language": "python",
   "name": "python3"
  },
  "language_info": {
   "codemirror_mode": {
    "name": "ipython",
    "version": 3
   },
   "file_extension": ".py",
   "mimetype": "text/x-python",
   "name": "python",
   "nbconvert_exporter": "python",
   "pygments_lexer": "ipython3",
   "version": "3.11.4"
  }
 },
 "nbformat": 4,
 "nbformat_minor": 5
}
